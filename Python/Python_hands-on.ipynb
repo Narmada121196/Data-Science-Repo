{
 "cells": [
  {
   "cell_type": "code",
   "execution_count": 1,
   "id": "d2800c2f",
   "metadata": {},
   "outputs": [
    {
     "data": {
      "text/plain": [
       "5"
      ]
     },
     "execution_count": 1,
     "metadata": {},
     "output_type": "execute_result"
    }
   ],
   "source": [
    "# Insert the correct syntax to convert x into a floating point number.\n",
    "x=5\n",
    "float(x)\n",
    "x"
   ]
  },
  {
   "cell_type": "code",
   "execution_count": 2,
   "id": "ba964268",
   "metadata": {},
   "outputs": [
    {
     "data": {
      "text/plain": [
       "<function int.as_integer_ratio()>"
      ]
     },
     "execution_count": 2,
     "metadata": {},
     "output_type": "execute_result"
    }
   ],
   "source": [
    "x.as_integer_ratio"
   ]
  },
  {
   "cell_type": "code",
   "execution_count": 3,
   "id": "21b9ca73",
   "metadata": {},
   "outputs": [
    {
     "data": {
      "text/plain": [
       "<function int.bit_length()>"
      ]
     },
     "execution_count": 3,
     "metadata": {},
     "output_type": "execute_result"
    }
   ],
   "source": [
    "x.bit_length"
   ]
  },
  {
   "cell_type": "code",
   "execution_count": 5,
   "id": "a69ef454",
   "metadata": {},
   "outputs": [
    {
     "name": "stdout",
     "output_type": "stream",
     "text": [
      "banana\n"
     ]
    }
   ],
   "source": [
    "fruits = [\"apple\",\"banana\",\"Cherry\"]\n",
    "print(fruits[1])"
   ]
  },
  {
   "cell_type": "code",
   "execution_count": 6,
   "id": "0900c0de",
   "metadata": {},
   "outputs": [
    {
     "data": {
      "text/plain": [
       "['Kiwi', 'banana', 'Cherry']"
      ]
     },
     "execution_count": 6,
     "metadata": {},
     "output_type": "execute_result"
    }
   ],
   "source": [
    "fruits[0] = \"Kiwi\"\n",
    "fruits"
   ]
  },
  {
   "cell_type": "code",
   "execution_count": 8,
   "id": "4c4793ae",
   "metadata": {},
   "outputs": [
    {
     "data": {
      "text/plain": [
       "['Kiwi', 'banana', 'Cherry', 'orange', 'orange']"
      ]
     },
     "execution_count": 8,
     "metadata": {},
     "output_type": "execute_result"
    }
   ],
   "source": [
    "fruits.append(\"orange\")\n",
    "fruits"
   ]
  },
  {
   "cell_type": "code",
   "execution_count": 12,
   "id": "09b1bbca",
   "metadata": {},
   "outputs": [
    {
     "data": {
      "text/plain": [
       "5"
      ]
     },
     "execution_count": 12,
     "metadata": {},
     "output_type": "execute_result"
    }
   ],
   "source": [
    "a=5\n",
    "b=a\n",
    "b\n",
    "a=4\n",
    "a\n",
    "b"
   ]
  },
  {
   "cell_type": "code",
   "execution_count": 14,
   "id": "d12395bf",
   "metadata": {},
   "outputs": [],
   "source": [
    "##sets\n",
    "fruits = {\"apple\",\"banana\",\"Cherry\"}\n",
    "type(fruits)\n",
    "fruits.add(\"orange\")"
   ]
  },
  {
   "cell_type": "code",
   "execution_count": 32,
   "id": "62aaaf9f",
   "metadata": {},
   "outputs": [
    {
     "data": {
      "text/plain": [
       "{'Cherry', 'apple', 'banana', 'kiwi', 'orange'}"
      ]
     },
     "execution_count": 32,
     "metadata": {},
     "output_type": "execute_result"
    }
   ],
   "source": [
    "fruits\n",
    "b = fruits.copy()\n",
    "b\n",
    "fruits.add(\"kiwi\")\n",
    "fruits"
   ]
  },
  {
   "cell_type": "code",
   "execution_count": null,
   "id": "7442a207",
   "metadata": {},
   "outputs": [],
   "source": [
    "##add multiple fruits(more fruits) to fruit set.\n",
    "fruits = {\"apple\",\"banana\",\"Cherry\"}"
   ]
  },
  {
   "cell_type": "code",
   "execution_count": 28,
   "id": "1c797ec9",
   "metadata": {},
   "outputs": [
    {
     "data": {
      "text/plain": [
       "{'Cherry', 'apple', 'banana', 'kiwi', 'orange'}"
      ]
     },
     "execution_count": 28,
     "metadata": {},
     "output_type": "execute_result"
    }
   ],
   "source": [
    "b"
   ]
  },
  {
   "cell_type": "code",
   "execution_count": 33,
   "id": "b2d0077b",
   "metadata": {},
   "outputs": [
    {
     "data": {
      "text/plain": [
       "{'Cherry', 'apple', 'banana', 'kiwi', 'orange'}"
      ]
     },
     "execution_count": 33,
     "metadata": {},
     "output_type": "execute_result"
    }
   ],
   "source": [
    "fruits"
   ]
  },
  {
   "cell_type": "code",
   "execution_count": 34,
   "id": "1841c3a0",
   "metadata": {},
   "outputs": [
    {
     "data": {
      "text/plain": [
       "{'Cherry', 'apple', 'banana', 'kiwi', 'orange'}"
      ]
     },
     "execution_count": 34,
     "metadata": {},
     "output_type": "execute_result"
    }
   ],
   "source": [
    "fruits_copy = fruits.copy()\n",
    "fruits_copy"
   ]
  },
  {
   "cell_type": "code",
   "execution_count": 35,
   "id": "04f4b37a",
   "metadata": {},
   "outputs": [],
   "source": [
    "fruits.add(\"aa\")"
   ]
  },
  {
   "cell_type": "code",
   "execution_count": 36,
   "id": "42b71e24",
   "metadata": {},
   "outputs": [
    {
     "data": {
      "text/plain": [
       "{'Cherry', 'aa', 'apple', 'banana', 'kiwi', 'orange'}"
      ]
     },
     "execution_count": 36,
     "metadata": {},
     "output_type": "execute_result"
    }
   ],
   "source": [
    "fruits"
   ]
  },
  {
   "cell_type": "code",
   "execution_count": 37,
   "id": "d06fc99f",
   "metadata": {},
   "outputs": [
    {
     "data": {
      "text/plain": [
       "{'Cherry', 'apple', 'banana', 'kiwi', 'orange'}"
      ]
     },
     "execution_count": 37,
     "metadata": {},
     "output_type": "execute_result"
    }
   ],
   "source": [
    "fruits_copy"
   ]
  },
  {
   "cell_type": "code",
   "execution_count": 45,
   "id": "679086c5",
   "metadata": {},
   "outputs": [],
   "source": [
    "#Use a get method to print the model of the car\n",
    "car={\n",
    "    \"Brand\":\"Ford\",\n",
    "    \"Model\":\"Mustang\",\n",
    "    \"Year\": 1964\n",
    "    }"
   ]
  },
  {
   "cell_type": "code",
   "execution_count": 46,
   "id": "24b86663",
   "metadata": {},
   "outputs": [
    {
     "data": {
      "text/plain": [
       "dict"
      ]
     },
     "execution_count": 46,
     "metadata": {},
     "output_type": "execute_result"
    }
   ],
   "source": [
    "type(car)"
   ]
  },
  {
   "cell_type": "code",
   "execution_count": 51,
   "id": "4f716695",
   "metadata": {},
   "outputs": [
    {
     "data": {
      "text/plain": [
       "'Mustang'"
      ]
     },
     "execution_count": 51,
     "metadata": {},
     "output_type": "execute_result"
    }
   ],
   "source": [
    "car.get(\"Model\")"
   ]
  },
  {
   "cell_type": "code",
   "execution_count": 52,
   "id": "bb01be11",
   "metadata": {},
   "outputs": [],
   "source": [
    "?car.update"
   ]
  },
  {
   "cell_type": "code",
   "execution_count": 53,
   "id": "f69d5a73",
   "metadata": {},
   "outputs": [],
   "source": [
    "?car.values"
   ]
  },
  {
   "cell_type": "code",
   "execution_count": 57,
   "id": "5d5b4000",
   "metadata": {},
   "outputs": [
    {
     "data": {
      "text/plain": [
       "{'brand': 'Ford', 'year': 1964}"
      ]
     },
     "execution_count": 57,
     "metadata": {},
     "output_type": "execute_result"
    }
   ],
   "source": [
    "##pop to remove the model\n",
    "car ={\n",
    "  \"brand\": \"Ford\",\n",
    "  \"model\": \"Mustang\",\n",
    "  \"year\": 1964\n",
    "}\n",
    "car.pop(\"model\")\n",
    "car"
   ]
  },
  {
   "cell_type": "code",
   "execution_count": 58,
   "id": "7fe63b39",
   "metadata": {},
   "outputs": [
    {
     "name": "stdout",
     "output_type": "stream",
     "text": [
      "Hello World\n"
     ]
    }
   ],
   "source": [
    "a=50\n",
    "b=10\n",
    "if a>b:\n",
    "    print(\"Hello World\")"
   ]
  },
  {
   "cell_type": "code",
   "execution_count": 60,
   "id": "c75513c9",
   "metadata": {},
   "outputs": [
    {
     "name": "stdout",
     "output_type": "stream",
     "text": [
      "No\n"
     ]
    }
   ],
   "source": [
    "#print yes if a ==b otherwise \"no\"\n",
    "Question 2\n",
    "a=50\n",
    "b=10\n",
    "if a==b:\n",
    "    print(\"Yes\")\n",
    "else:\n",
    "    print(\"No\")"
   ]
  },
  {
   "cell_type": "code",
   "execution_count": 61,
   "id": "6e646efc",
   "metadata": {},
   "outputs": [
    {
     "name": "stdout",
     "output_type": "stream",
     "text": [
      "2\n"
     ]
    }
   ],
   "source": [
    "##print \"1\" is a is equal to b, a>b == no; else 3\n",
    "a=50\n",
    "b=10\n",
    "if a==b:\n",
    "    print(\"1\")\n",
    "elif a>b:\n",
    "    print(\"2\")\n",
    "else:\n",
    "    print(\"3\")"
   ]
  },
  {
   "cell_type": "code",
   "execution_count": 62,
   "id": "45823c1a",
   "metadata": {},
   "outputs": [
    {
     "name": "stdout",
     "output_type": "stream",
     "text": [
      "Hello World\n"
     ]
    }
   ],
   "source": [
    "a=50\n",
    "b=10\n",
    "c=20\n",
    "d=20\n",
    "if (a==b) or (c==d):\n",
    "    print(\"Hello World\")\n",
    "else:\n",
    "    print(\"...\")\n",
    "    "
   ]
  },
  {
   "cell_type": "code",
   "execution_count": 63,
   "id": "f7a9b3de",
   "metadata": {},
   "outputs": [
    {
     "name": "stdout",
     "output_type": "stream",
     "text": [
      "apple\n",
      "banana\n",
      "Cherry\n"
     ]
    }
   ],
   "source": [
    "##loop thro the items in the list\n",
    "Question 1\n",
    "fruits = [\"apple\",\"banana\",\"Cherry\"]\n",
    "for i in fruits:\n",
    "    print(i)\n"
   ]
  },
  {
   "cell_type": "code",
   "execution_count": null,
   "id": "eb2c6107",
   "metadata": {},
   "outputs": [],
   "source": [
    "##use a range fuction to loop through a code set 6 times\n",
    "for i in range()\n"
   ]
  },
  {
   "cell_type": "code",
   "execution_count": 98,
   "id": "93224e24",
   "metadata": {},
   "outputs": [
    {
     "ename": "SyntaxError",
     "evalue": "invalid syntax (2671397036.py, line 2)",
     "output_type": "error",
     "traceback": [
      "\u001b[1;36m  Input \u001b[1;32mIn [98]\u001b[1;36m\u001b[0m\n\u001b[1;33m    Question 1\u001b[0m\n\u001b[1;37m             ^\u001b[0m\n\u001b[1;31mSyntaxError\u001b[0m\u001b[1;31m:\u001b[0m invalid syntax\n"
     ]
    }
   ],
   "source": [
    "##Exit the loop when X is banana\n",
    "Question 1\n",
    "fruits = [\"apple\",\"banana\",\"Cherry\"]\n",
    "for i in fruits:\n",
    "    if i == \"banana\":\n",
    "        print(\"Found\")\n",
    "        break\n",
    "    else:\n",
    "        print(\"Banana not found\")\n",
    "        \n",
    "        \n",
    "      \n",
    "    \n",
    "      "
   ]
  },
  {
   "cell_type": "code",
   "execution_count": 72,
   "id": "3d5d55bc",
   "metadata": {},
   "outputs": [
    {
     "name": "stdout",
     "output_type": "stream",
     "text": [
      "loop\n",
      "loop\n",
      "loop\n"
     ]
    }
   ],
   "source": [
    "###stop the loop if i =3\n",
    "i=1\n",
    "while i<=10:\n",
    "    print(\"loop\")\n",
    "    if i == 3:\n",
    "        break\n",
    "    i = i+1\n"
   ]
  },
  {
   "cell_type": "code",
   "execution_count": 94,
   "id": "62c04e70",
   "metadata": {},
   "outputs": [],
   "source": [
    "def Name (first_name,last_name):\n",
    "    name = first_name + last_name\n",
    "    print(name)"
   ]
  },
  {
   "cell_type": "code",
   "execution_count": 96,
   "id": "95d5c518",
   "metadata": {},
   "outputs": [
    {
     "name": "stdout",
     "output_type": "stream",
     "text": [
      "vikram\n"
     ]
    }
   ],
   "source": [
    "Name(\"vik\", \"ram\")"
   ]
  },
  {
   "cell_type": "code",
   "execution_count": null,
   "id": "3de7568c",
   "metadata": {},
   "outputs": [],
   "source": []
  },
  {
   "cell_type": "code",
   "execution_count": null,
   "id": "ad74066c",
   "metadata": {},
   "outputs": [],
   "source": []
  }
 ],
 "metadata": {
  "kernelspec": {
   "display_name": "Python 3 (ipykernel)",
   "language": "python",
   "name": "python3"
  },
  "language_info": {
   "codemirror_mode": {
    "name": "ipython",
    "version": 3
   },
   "file_extension": ".py",
   "mimetype": "text/x-python",
   "name": "python",
   "nbconvert_exporter": "python",
   "pygments_lexer": "ipython3",
   "version": "3.9.12"
  }
 },
 "nbformat": 4,
 "nbformat_minor": 5
}
