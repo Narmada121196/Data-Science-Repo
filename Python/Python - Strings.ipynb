{
 "cells": [
  {
   "cell_type": "markdown",
   "id": "3f09da5e",
   "metadata": {},
   "source": [
    "## Python String Exercises"
   ]
  },
  {
   "cell_type": "code",
   "execution_count": 23,
   "id": "093b26e9",
   "metadata": {},
   "outputs": [],
   "source": [
    "\n",
    "##Python program to check whether the string is Symmetrical or Palindrome\n",
    "String = \"bus\"\n",
    "def palindrome(): \n",
    "    if String == String[::-1]:\n",
    "        return \"It is a palindrome\"\n",
    "    else:\n",
    "        return \"Nt a Palindrome\""
   ]
  },
  {
   "cell_type": "code",
   "execution_count": 24,
   "id": "8a93551e",
   "metadata": {},
   "outputs": [
    {
     "data": {
      "text/plain": [
       "'Nt a Palindrome'"
      ]
     },
     "execution_count": 24,
     "metadata": {},
     "output_type": "execute_result"
    }
   ],
   "source": [
    "palindrome()"
   ]
  },
  {
   "cell_type": "code",
   "execution_count": 29,
   "id": "af642c22",
   "metadata": {},
   "outputs": [],
   "source": [
    "#Reverse words in a given String in Python\n",
    "def rev_str(a):\n",
    "    b = a[::-1]\n",
    "    return b\n",
    "    "
   ]
  },
  {
   "cell_type": "code",
   "execution_count": 31,
   "id": "597df162",
   "metadata": {},
   "outputs": [
    {
     "data": {
      "text/plain": [
       "'imxal si eman ym'"
      ]
     },
     "execution_count": 31,
     "metadata": {},
     "output_type": "execute_result"
    }
   ],
   "source": [
    "rev_str(\"my name is laxmi\")"
   ]
  },
  {
   "cell_type": "code",
   "execution_count": null,
   "id": "dd7fff07",
   "metadata": {},
   "outputs": [],
   "source": [
    "Ways to remove i’th character from string in Python\n"
   ]
  },
  {
   "cell_type": "code",
   "execution_count": 32,
   "id": "e8a6da5c",
   "metadata": {},
   "outputs": [],
   "source": [
    "##Find length of a string in python (4 ways)\n",
    "###Input : 'abc'\n",
    "###Output : 3\n",
    "def len_str():\n",
    "    return len(a)\n",
    "\n",
    "\n"
   ]
  },
  {
   "cell_type": "code",
   "execution_count": 33,
   "id": "6d264339",
   "metadata": {},
   "outputs": [
    {
     "data": {
      "text/plain": [
       "3"
      ]
     },
     "execution_count": 33,
     "metadata": {},
     "output_type": "execute_result"
    }
   ],
   "source": [
    "a = 'abc'\n",
    "len_str()"
   ]
  },
  {
   "cell_type": "code",
   "execution_count": null,
   "id": "5093d7e5",
   "metadata": {},
   "outputs": [],
   "source": [
    "###Input : 'hello world !'\n",
    "###Output : 13\n",
    "\n",
    "def len_str():\n",
    "    return len(a)\n"
   ]
  },
  {
   "cell_type": "code",
   "execution_count": 34,
   "id": "2342898f",
   "metadata": {},
   "outputs": [
    {
     "data": {
      "text/plain": [
       "13"
      ]
     },
     "execution_count": 34,
     "metadata": {},
     "output_type": "execute_result"
    }
   ],
   "source": [
    "a = 'hello world !'\n",
    "len_str()"
   ]
  },
  {
   "cell_type": "code",
   "execution_count": 35,
   "id": "4fc7687a",
   "metadata": {},
   "outputs": [],
   "source": [
    "###Input : ' h e l   l  o '\n",
    "###Output :14\n",
    "\n",
    "def len_str():\n",
    "    return len(a)\n"
   ]
  },
  {
   "cell_type": "code",
   "execution_count": 36,
   "id": "222d8991",
   "metadata": {},
   "outputs": [
    {
     "data": {
      "text/plain": [
       "14"
      ]
     },
     "execution_count": 36,
     "metadata": {},
     "output_type": "execute_result"
    }
   ],
   "source": [
    "a = ' h e l   l  o '\n",
    "len_str()"
   ]
  },
  {
   "cell_type": "code",
   "execution_count": 46,
   "id": "3f004cb8",
   "metadata": {},
   "outputs": [],
   "source": [
    "##Python program to print even length words in a string\n",
    "def even_str(s):\n",
    "  for word in s:\n",
    "         \n",
    "        # if length is even\n",
    "        if len(word)%2==0:\n",
    "            print(word)\n",
    " \n",
    " \n"
   ]
  },
  {
   "cell_type": "code",
   "execution_count": 47,
   "id": "a01c174d",
   "metadata": {},
   "outputs": [],
   "source": [
    "# Driver Code\n",
    "s = \"i am muskan\"\n",
    "even_str(s)"
   ]
  },
  {
   "cell_type": "code",
   "execution_count": null,
   "id": "a2e3d1c0",
   "metadata": {},
   "outputs": [],
   "source": []
  },
  {
   "cell_type": "code",
   "execution_count": null,
   "id": "5f50dfa2",
   "metadata": {},
   "outputs": [],
   "source": []
  },
  {
   "cell_type": "code",
   "execution_count": null,
   "id": "c0467eb8",
   "metadata": {},
   "outputs": [],
   "source": []
  }
 ],
 "metadata": {
  "kernelspec": {
   "display_name": "Python 3 (ipykernel)",
   "language": "python",
   "name": "python3"
  },
  "language_info": {
   "codemirror_mode": {
    "name": "ipython",
    "version": 3
   },
   "file_extension": ".py",
   "mimetype": "text/x-python",
   "name": "python",
   "nbconvert_exporter": "python",
   "pygments_lexer": "ipython3",
   "version": "3.9.12"
  }
 },
 "nbformat": 4,
 "nbformat_minor": 5
}
