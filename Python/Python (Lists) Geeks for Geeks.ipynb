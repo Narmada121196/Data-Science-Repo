{
 "cells": [
  {
   "cell_type": "markdown",
   "id": "17f14e0b",
   "metadata": {},
   "source": [
    "### Python List Exercises\n"
   ]
  },
  {
   "cell_type": "code",
   "execution_count": 21,
   "id": "34960992",
   "metadata": {},
   "outputs": [],
   "source": [
    "##Python program to interchange first and last elements in a list\n",
    "def interchange(list):\n",
    "    y = x[0]\n",
    "    x[0] = x[-1]\n",
    "    x[-1]= y\n",
    "    return x\n"
   ]
  },
  {
   "cell_type": "code",
   "execution_count": 22,
   "id": "e0464129",
   "metadata": {},
   "outputs": [
    {
     "name": "stdout",
     "output_type": "stream",
     "text": [
      "[2, 12, 88, 99, 10]\n"
     ]
    }
   ],
   "source": [
    "list = [10,12,88,99,2] \n",
    "interchange(list)\n"
   ]
  },
  {
   "cell_type": "code",
   "execution_count": 25,
   "id": "0d8055ed",
   "metadata": {},
   "outputs": [],
   "source": [
    "# Swap function\n",
    "def swapList(newList):\n",
    "     \n",
    "    newList[0], newList[-1] = newList[-1], newList[0]\n",
    " \n",
    "    return newList\n",
    "     \n"
   ]
  },
  {
   "cell_type": "code",
   "execution_count": 26,
   "id": "eb8f403a",
   "metadata": {},
   "outputs": [
    {
     "name": "stdout",
     "output_type": "stream",
     "text": [
      "[24, 35, 9, 56, 12]\n"
     ]
    }
   ],
   "source": [
    "# Driver code\n",
    "newList = [12, 35, 9, 56, 24]\n",
    "print(swapList(newList))"
   ]
  },
  {
   "cell_type": "code",
   "execution_count": 33,
   "id": "3cc0f987",
   "metadata": {},
   "outputs": [],
   "source": [
    "def interchange(list):\n",
    "    list[0],list[-1] = list[-1],list[0]\n",
    "    return list"
   ]
  },
  {
   "cell_type": "code",
   "execution_count": 34,
   "id": "17f7bfea",
   "metadata": {},
   "outputs": [
    {
     "data": {
      "text/plain": [
       "[111, 33, 55, 22]"
      ]
     },
     "execution_count": 34,
     "metadata": {},
     "output_type": "execute_result"
    }
   ],
   "source": [
    "list = [22,33,55, 111]\n",
    "interchange(list)"
   ]
  },
  {
   "cell_type": "code",
   "execution_count": 37,
   "id": "ef9bfb84",
   "metadata": {},
   "outputs": [],
   "source": [
    "##Python program to swap two elements in a list\n",
    "##Input : List = [23, 65, 19, 90], pos1 = 1, pos2 = 3\n",
    "##Output : [19, 65, 23, 90]\n",
    "x=[23, 65, 19, 90]\n",
    "def list_swap(x):\n",
    "    x[0],x[-2] = x[-2],x[0]\n",
    "    return x\n"
   ]
  },
  {
   "cell_type": "code",
   "execution_count": 38,
   "id": "80366780",
   "metadata": {},
   "outputs": [
    {
     "data": {
      "text/plain": [
       "[19, 65, 23, 90]"
      ]
     },
     "execution_count": 38,
     "metadata": {},
     "output_type": "execute_result"
    }
   ],
   "source": [
    "list_swap(x)"
   ]
  },
  {
   "cell_type": "code",
   "execution_count": 52,
   "id": "d2dd8b88",
   "metadata": {},
   "outputs": [],
   "source": [
    "def list_swap():\n",
    "    x[0],x[-2]=x[-2],x[0]\n",
    "    return x\n"
   ]
  },
  {
   "cell_type": "code",
   "execution_count": 53,
   "id": "44ec05b0",
   "metadata": {},
   "outputs": [
    {
     "data": {
      "text/plain": [
       "[19, 65, 23, 90]"
      ]
     },
     "execution_count": 53,
     "metadata": {},
     "output_type": "execute_result"
    }
   ],
   "source": [
    "x=[23, 65, 19, 90]\n",
    "list_swap()"
   ]
  },
  {
   "cell_type": "code",
   "execution_count": 70,
   "id": "0de2ab49",
   "metadata": {},
   "outputs": [],
   "source": [
    "##Input : List = [1, 2, 3, 4, 5], pos1 = 2, pos2 = 5\n",
    "##Output : [1, 5, 3, 4, 2]\n",
    "\n",
    "def swap_list(List):\n",
    "    New_list = List[1]\n",
    "    List[1]=List[-1]\n",
    "    List[-1] = New_list\n",
    "    return List"
   ]
  },
  {
   "cell_type": "code",
   "execution_count": 71,
   "id": "34f26acf",
   "metadata": {},
   "outputs": [
    {
     "data": {
      "text/plain": [
       "[1, 5, 3, 4, 2]"
      ]
     },
     "execution_count": 71,
     "metadata": {},
     "output_type": "execute_result"
    }
   ],
   "source": [
    "List = [1, 2, 3, 4, 5]\n",
    "swap_list(List)"
   ]
  },
  {
   "cell_type": "code",
   "execution_count": 78,
   "id": "c361b9ac",
   "metadata": {},
   "outputs": [],
   "source": [
    "##Python | Ways to find length of list\n",
    "test_list = [1,\" \" ,10000,19191]\n",
    "def len_list():\n",
    "    return len(test_list)\n"
   ]
  },
  {
   "cell_type": "code",
   "execution_count": 79,
   "id": "4a033e34",
   "metadata": {},
   "outputs": [
    {
     "data": {
      "text/plain": [
       "4"
      ]
     },
     "execution_count": 79,
     "metadata": {},
     "output_type": "execute_result"
    }
   ],
   "source": [
    "len_list()"
   ]
  },
  {
   "cell_type": "code",
   "execution_count": 93,
   "id": "52a00c45",
   "metadata": {},
   "outputs": [],
   "source": [
    "##Maximum of two numbers in Python\n",
    "def max_num(a,b):\n",
    "    return max(a,b)"
   ]
  },
  {
   "cell_type": "code",
   "execution_count": 94,
   "id": "f4a36f1c",
   "metadata": {},
   "outputs": [
    {
     "data": {
      "text/plain": [
       "11.112"
      ]
     },
     "execution_count": 94,
     "metadata": {},
     "output_type": "execute_result"
    }
   ],
   "source": [
    "max_num(11.111,11.112)"
   ]
  },
  {
   "cell_type": "code",
   "execution_count": 95,
   "id": "2c0f745f",
   "metadata": {},
   "outputs": [],
   "source": [
    "##Minimum of two numbers in Python\n",
    "def min_num():\n",
    "    return min(a,b)"
   ]
  },
  {
   "cell_type": "code",
   "execution_count": 96,
   "id": "c1db342e",
   "metadata": {},
   "outputs": [
    {
     "data": {
      "text/plain": [
       "55.5"
      ]
     },
     "execution_count": 96,
     "metadata": {},
     "output_type": "execute_result"
    }
   ],
   "source": [
    "a=56\n",
    "b=55.5\n",
    "min_num()"
   ]
  },
  {
   "cell_type": "code",
   "execution_count": null,
   "id": "bf36e23d",
   "metadata": {},
   "outputs": [],
   "source": []
  }
 ],
 "metadata": {
  "kernelspec": {
   "display_name": "Python 3 (ipykernel)",
   "language": "python",
   "name": "python3"
  },
  "language_info": {
   "codemirror_mode": {
    "name": "ipython",
    "version": 3
   },
   "file_extension": ".py",
   "mimetype": "text/x-python",
   "name": "python",
   "nbconvert_exporter": "python",
   "pygments_lexer": "ipython3",
   "version": "3.9.12"
  }
 },
 "nbformat": 4,
 "nbformat_minor": 5
}
