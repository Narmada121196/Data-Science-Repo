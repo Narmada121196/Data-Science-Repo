{
 "cells": [
  {
   "cell_type": "code",
   "execution_count": 5,
   "id": "ed2a915f",
   "metadata": {},
   "outputs": [
    {
     "name": "stdout",
     "output_type": "stream",
     "text": [
      "The number is: 3\n",
      "The number is odd\n"
     ]
    }
   ],
   "source": [
    "a = int(input(\"The number is: \"))\n",
    "if a%2==0:\n",
    "  print(\"The number is even\")\n",
    "else:\n",
    "  print(\"The number is odd\")"
   ]
  },
  {
   "cell_type": "code",
   "execution_count": 9,
   "id": "535e9d15",
   "metadata": {},
   "outputs": [
    {
     "name": "stdout",
     "output_type": "stream",
     "text": [
      "A is: 15\n",
      "B is: 20\n",
      "The number is odd\n"
     ]
    }
   ],
   "source": [
    "a = int(input(\"A is: \"))\n",
    "b = int(input(\"B is: \"))\n",
    "if a%2==0 and b%3==0:\n",
    "  print(\"The number is even\")\n",
    "else:\n",
    "  print(\"The number is odd\")"
   ]
  },
  {
   "cell_type": "code",
   "execution_count": 10,
   "id": "9f21818d",
   "metadata": {},
   "outputs": [
    {
     "name": "stdout",
     "output_type": "stream",
     "text": [
      "A is: 50\n",
      "e\n"
     ]
    }
   ],
   "source": [
    "a = int(input(\"A is: \"))\n",
    "if a >90:\n",
    "  print(\"s\")\n",
    "elif a>80:\n",
    "  print(\"a\")\n",
    "elif a>70:\n",
    "  print(\"b\")\n",
    "elif a>60:\n",
    "  print(\"c\")\n",
    "elif a>50:\n",
    "  print(\"d\")\n",
    "elif a>40:\n",
    "  print(\"e\")\n",
    "else:\n",
    "  print(\"Fail\")"
   ]
  },
  {
   "cell_type": "code",
   "execution_count": null,
   "id": "57ea3952",
   "metadata": {},
   "outputs": [],
   "source": [
    "#activity\n",
    "#weight in kg\n",
    "#height in metre\n",
    "#bmi = weight/height**2\n",
    "#If your BMI is less than 18.5, it falls within the underweight range. \n",
    "#If your BMI is 18.5 to 24.9, it falls within the normal or Healthy Weight range. \n",
    "#If your BMI is 25.0 to 29.9, it falls within the overweight range. \n",
    "#If your BMI is 30.0 or higher, it falls within the obese range."
   ]
  },
  {
   "cell_type": "code",
   "execution_count": 18,
   "id": "4d113c79",
   "metadata": {},
   "outputs": [
    {
     "name": "stdout",
     "output_type": "stream",
     "text": [
      "Your Height is: 1.68\n",
      "Your Weight is: 69\n",
      "normal or Healthy Weight\n"
     ]
    }
   ],
   "source": [
    "Height = float(input(\"Your Height is: \"))\n",
    "Weight = float(input(\"Your Weight is: \"))\n",
    "BMI = Weight/Height**2\n",
    "if BMI<18.5:\n",
    "  print(\"underweight\")\n",
    "elif BMI>18.5 and BMI<24.9:\n",
    "  print(\"normal or Healthy Weight\")\n",
    "elif BMI>25.0 and BMI<29.9:\n",
    "  print(\"overweight\")\n",
    "else:\n",
    "   print(\"obese\")"
   ]
  },
  {
   "cell_type": "code",
   "execution_count": 15,
   "id": "f5f10b1f",
   "metadata": {},
   "outputs": [
    {
     "name": "stdout",
     "output_type": "stream",
     "text": [
      "15\n",
      "30\n",
      "45\n",
      "60\n",
      "75\n",
      "90\n"
     ]
    }
   ],
   "source": [
    "for i in range(1, 100):\n",
    "  if(i%3==0 and i%5==0):\n",
    "    print(i)\n",
    "    "
   ]
  },
  {
   "cell_type": "code",
   "execution_count": 25,
   "id": "0933bdb0",
   "metadata": {},
   "outputs": [
    {
     "name": "stdout",
     "output_type": "stream",
     "text": [
      "15\n",
      "30\n",
      "45\n",
      "60\n",
      "75\n",
      "90\n",
      "Count : 6\n"
     ]
    }
   ],
   "source": [
    "count = 0\n",
    "for i in range(1,101):\n",
    "  if i%3==0 and i%5==0: \n",
    "    print(i)\n",
    "    count = count+1\n",
    "print(\"Count :\", count)"
   ]
  },
  {
   "cell_type": "code",
   "execution_count": null,
   "id": "e2a7d873",
   "metadata": {},
   "outputs": [],
   "source": [
    "count = 0\n",
    "for i in range(1,100):\n",
    "  if i%3==0 and i%5 == 0:\n",
    "    print(i)\n",
    "    count = count + 1\n",
    "print(\"the total count is : \",count)\n"
   ]
  },
  {
   "cell_type": "code",
   "execution_count": 34,
   "id": "a566858b",
   "metadata": {},
   "outputs": [
    {
     "ename": "SyntaxError",
     "evalue": "invalid syntax (43179637.py, line 11)",
     "output_type": "error",
     "traceback": [
      "\u001b[1;36m  Input \u001b[1;32mIn [34]\u001b[1;36m\u001b[0m\n\u001b[1;33m    else:\u001b[0m\n\u001b[1;37m    ^\u001b[0m\n\u001b[1;31mSyntaxError\u001b[0m\u001b[1;31m:\u001b[0m invalid syntax\n"
     ]
    }
   ],
   "source": [
    "a = 66\n",
    "if a<2:\n",
    "    print(\"Please enter valid number: \")\n",
    "elif a==2:\n",
    "    print(\"It is a Prime\")\n",
    "else:    \n",
    "    for i in range(2,a):\n",
    "      if a%i == 0:\n",
    "        print(\"it is not prime\")\n",
    "        break\n",
    "else:\n",
    "  print(\"it is prime\")"
   ]
  },
  {
   "cell_type": "code",
   "execution_count": null,
   "id": "0cc91946",
   "metadata": {},
   "outputs": [],
   "source": [
    "a = 10\n",
    "while a > 1:\n",
    "  print(a)\n",
    "  a = a-1\n"
   ]
  },
  {
   "cell_type": "code",
   "execution_count": 29,
   "id": "075ccc17",
   "metadata": {},
   "outputs": [
    {
     "name": "stdout",
     "output_type": "stream",
     "text": [
      "1\n",
      "2\n",
      "3\n",
      "4\n",
      "5\n",
      "6\n",
      "7\n",
      "8\n",
      "9\n",
      "10\n",
      "11\n",
      "12\n",
      "13\n",
      "14\n",
      "15\n",
      "16\n",
      "17\n",
      "18\n",
      "19\n",
      "20\n",
      "21\n",
      "22\n",
      "23\n",
      "24\n",
      "25\n",
      "26\n",
      "27\n",
      "28\n",
      "29\n",
      "30\n",
      "31\n",
      "32\n",
      "33\n",
      "34\n",
      "35\n",
      "36\n",
      "37\n",
      "38\n",
      "39\n",
      "40\n",
      "41\n",
      "42\n",
      "43\n",
      "44\n",
      "45\n",
      "46\n",
      "47\n",
      "48\n",
      "49\n",
      "50\n",
      "51\n",
      "52\n",
      "53\n",
      "54\n",
      "55\n",
      "56\n",
      "57\n",
      "58\n",
      "59\n",
      "60\n",
      "61\n",
      "62\n",
      "63\n",
      "64\n",
      "65\n",
      "66\n",
      "67\n",
      "68\n",
      "69\n",
      "70\n",
      "71\n",
      "72\n",
      "73\n",
      "74\n",
      "75\n",
      "76\n",
      "77\n",
      "78\n",
      "79\n",
      "80\n",
      "81\n",
      "82\n",
      "83\n",
      "84\n",
      "85\n",
      "86\n",
      "87\n",
      "88\n",
      "89\n",
      "90\n",
      "91\n",
      "92\n",
      "93\n",
      "94\n",
      "95\n",
      "96\n",
      "97\n",
      "98\n",
      "99\n",
      "100\n",
      "101\n",
      "102\n",
      "103\n",
      "104\n",
      "105\n",
      "106\n",
      "107\n",
      "108\n",
      "109\n",
      "110\n",
      "111\n",
      "112\n",
      "113\n",
      "114\n",
      "115\n",
      "116\n",
      "117\n",
      "118\n",
      "119\n",
      "120\n",
      "121\n",
      "122\n",
      "123\n",
      "124\n",
      "125\n",
      "126\n",
      "127\n",
      "128\n",
      "129\n",
      "130\n",
      "131\n",
      "132\n",
      "133\n",
      "134\n",
      "135\n",
      "136\n",
      "137\n",
      "138\n",
      "139\n",
      "140\n",
      "141\n",
      "142\n",
      "143\n",
      "144\n",
      "145\n",
      "146\n",
      "147\n",
      "148\n",
      "149\n",
      "150\n"
     ]
    }
   ],
   "source": [
    "#print number from 1 to 150 using while loop\n",
    "a=0\n",
    "while a<150:\n",
    "  a= a+1\n",
    "  print(a)"
   ]
  },
  {
   "cell_type": "code",
   "execution_count": 53,
   "id": "b04fe2cc",
   "metadata": {},
   "outputs": [],
   "source": [
    "#defining the functions:\n",
    "def prime():\n",
    "    a = int(input(\"What is the number? \"))\n",
    "    for i in range(2,a):\n",
    "        if a%i == 0:\n",
    "          print(\"It is not prime\")\n",
    "          break\n",
    "    else:\n",
    "      print(\"It is a prime\")"
   ]
  },
  {
   "cell_type": "code",
   "execution_count": 51,
   "id": "e3ee31e2",
   "metadata": {},
   "outputs": [
    {
     "name": "stdout",
     "output_type": "stream",
     "text": [
      "What is the number? 2\n",
      "It is a prime\n"
     ]
    }
   ],
   "source": [
    "prime()"
   ]
  },
  {
   "cell_type": "code",
   "execution_count": 55,
   "id": "a38908fd",
   "metadata": {},
   "outputs": [],
   "source": [
    "#defining the functions:\n",
    "def prime(a):\n",
    "    for i in range(2,a):\n",
    "        if a%i == 0:\n",
    "          print(\"It is not prime\")\n",
    "          break\n",
    "    else:\n",
    "      print(\"It is a prime\")"
   ]
  },
  {
   "cell_type": "code",
   "execution_count": 56,
   "id": "e9e3fe38",
   "metadata": {},
   "outputs": [
    {
     "name": "stdout",
     "output_type": "stream",
     "text": [
      "It is not prime\n"
     ]
    }
   ],
   "source": [
    "prime(33)"
   ]
  },
  {
   "cell_type": "code",
   "execution_count": 67,
   "id": "f7f31524",
   "metadata": {},
   "outputs": [],
   "source": [
    "#define a function to find a string is a palindrome or not\n",
    "def palindrome():\n",
    "    a = input(\"Give a word :\")\n",
    "    b = a.lower()\n",
    "    if b == b[::-1]:\n",
    "        print(\"The string is a palindrome\")\n",
    "    else:\n",
    "        print(\"The string is not a palindrome\")\n",
    "    \n",
    "   "
   ]
  },
  {
   "cell_type": "code",
   "execution_count": 76,
   "id": "5f35686d",
   "metadata": {},
   "outputs": [
    {
     "name": "stdout",
     "output_type": "stream",
     "text": [
      "Give a word :Malayalam\n",
      "The string is not a palindrome\n"
     ]
    }
   ],
   "source": [
    "palindrome()\n"
   ]
  },
  {
   "cell_type": "code",
   "execution_count": 84,
   "id": "e8bdd581",
   "metadata": {},
   "outputs": [
    {
     "name": "stdout",
     "output_type": "stream",
     "text": [
      "eneeyan 23 4\n",
      "subi 34 3\n",
      "mark 45 2\n",
      "angels 56 1\n"
     ]
    }
   ],
   "source": [
    "name = [\"eneeyan\",\"subi\",\"mark\",\"angels\"]\n",
    "marks = [23,34,45,56]\n",
    "rank = [4,3,2,1]\n",
    "for i,j,z in zip(name,marks,rank):\n",
    "  print(i, j, z)\n"
   ]
  },
  {
   "cell_type": "code",
   "execution_count": 85,
   "id": "b2069a75",
   "metadata": {},
   "outputs": [
    {
     "data": {
      "text/plain": [
       "['eneeyan', 'subi', 'mark', 'angels', 'subha']"
      ]
     },
     "execution_count": 85,
     "metadata": {},
     "output_type": "execute_result"
    }
   ],
   "source": [
    "name.append(\"subha\")\n",
    "name\n"
   ]
  },
  {
   "cell_type": "code",
   "execution_count": 89,
   "id": "015f9493",
   "metadata": {},
   "outputs": [
    {
     "data": {
      "text/plain": [
       "['angels', 'eneeyan', 'mark', 'subha', 'subi']"
      ]
     },
     "execution_count": 89,
     "metadata": {},
     "output_type": "execute_result"
    }
   ],
   "source": [
    "name.sort(reverse=False)\n",
    "name"
   ]
  },
  {
   "cell_type": "code",
   "execution_count": null,
   "id": "628b3b30",
   "metadata": {},
   "outputs": [],
   "source": []
  },
  {
   "cell_type": "code",
   "execution_count": null,
   "id": "172bf92e",
   "metadata": {},
   "outputs": [],
   "source": []
  }
 ],
 "metadata": {
  "kernelspec": {
   "display_name": "Python 3 (ipykernel)",
   "language": "python",
   "name": "python3"
  },
  "language_info": {
   "codemirror_mode": {
    "name": "ipython",
    "version": 3
   },
   "file_extension": ".py",
   "mimetype": "text/x-python",
   "name": "python",
   "nbconvert_exporter": "python",
   "pygments_lexer": "ipython3",
   "version": "3.9.12"
  }
 },
 "nbformat": 4,
 "nbformat_minor": 5
}
