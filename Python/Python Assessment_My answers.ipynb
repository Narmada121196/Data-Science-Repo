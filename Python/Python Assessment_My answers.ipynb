{
 "cells": [
  {
   "cell_type": "code",
   "execution_count": 10,
   "id": "34730d60",
   "metadata": {},
   "outputs": [],
   "source": [
    "##write a function named returnmiddle that takes a list as an input and returns the middle value of the list,\n",
    "##if the list has even numbers of items, \n",
    "##then return the average of the 2 middle items of the list.\n",
    "def mid_value(a):\n",
    "    if len(a)%2 !=0:\n",
    "        b = len(a)\n",
    "        return b\n",
    "    else:\n",
    "        return False"
   ]
  },
  {
   "cell_type": "code",
   "execution_count": 11,
   "id": "11d2d98c",
   "metadata": {},
   "outputs": [
    {
     "data": {
      "text/plain": [
       "False"
      ]
     },
     "execution_count": 11,
     "metadata": {},
     "output_type": "execute_result"
    }
   ],
   "source": [
    "mid_value([1,2,3,4])"
   ]
  },
  {
   "cell_type": "code",
   "execution_count": 19,
   "id": "13a32339",
   "metadata": {},
   "outputs": [],
   "source": [
    "def findMiddle(input_list):\n",
    "    middle = float(len(input_list))/2\n",
    "    if middle % 2 != 0:\n",
    "        return input_list[int(middle - .5)]\n",
    "    else:\n",
    "        return ((input_list[int(middle)]+ input_list[int(middle-1)])/2)"
   ]
  },
  {
   "cell_type": "code",
   "execution_count": 20,
   "id": "2179b7ff",
   "metadata": {},
   "outputs": [
    {
     "data": {
      "text/plain": [
       "4.5"
      ]
     },
     "execution_count": 20,
     "metadata": {},
     "output_type": "execute_result"
    }
   ],
   "source": [
    "findMiddle([1,2,3,4,5,6,7,8])"
   ]
  },
  {
   "cell_type": "code",
   "execution_count": 21,
   "id": "927fc243",
   "metadata": {},
   "outputs": [],
   "source": [
    "##Write a function named no_of_items, that takes list as an input and returns the no.of items in the list as an output\n",
    "def no_of_items():\n",
    "    return len(a)\n",
    "\n"
   ]
  },
  {
   "cell_type": "code",
   "execution_count": 23,
   "id": "8a69960b",
   "metadata": {},
   "outputs": [
    {
     "data": {
      "text/plain": [
       "12"
      ]
     },
     "execution_count": 23,
     "metadata": {},
     "output_type": "execute_result"
    }
   ],
   "source": [
    "a=[1,2,3,4,5,6,7,8,9,00,00,00]\n",
    "no_of_items()"
   ]
  },
  {
   "cell_type": "code",
   "execution_count": 30,
   "id": "b2c2a350",
   "metadata": {},
   "outputs": [],
   "source": [
    "##create a function named round number that takes float number with one decimal places as iput and returns the \n",
    "#rounded whole number as an output.\n",
    "def round_num():\n",
    "    b = float(input(\"What is the number: \"))\n",
    "    return round(b)"
   ]
  },
  {
   "cell_type": "code",
   "execution_count": 31,
   "id": "06c3daa0",
   "metadata": {},
   "outputs": [
    {
     "name": "stdout",
     "output_type": "stream",
     "text": [
      "What is the number: 11.55\n"
     ]
    },
    {
     "data": {
      "text/plain": [
       "12"
      ]
     },
     "execution_count": 31,
     "metadata": {},
     "output_type": "execute_result"
    }
   ],
   "source": [
    "round_num()"
   ]
  },
  {
   "cell_type": "code",
   "execution_count": 33,
   "id": "634af848",
   "metadata": {},
   "outputs": [],
   "source": [
    "#Write a function named howmanyinlist, that takes list and a number as an input and returns the no. of times the number\n",
    "#appeared in the list\n",
    "def howmany(a, lst):\n",
    "    count = 0\n",
    "    for i in lst:\n",
    "        if i == a:\n",
    "            count+=1\n",
    "    return count\n",
    "    "
   ]
  },
  {
   "cell_type": "code",
   "execution_count": 36,
   "id": "acb03464",
   "metadata": {},
   "outputs": [
    {
     "data": {
      "text/plain": [
       "0"
      ]
     },
     "execution_count": 36,
     "metadata": {},
     "output_type": "execute_result"
    }
   ],
   "source": [
    "howmany(2,[9,8,7,3])"
   ]
  },
  {
   "cell_type": "code",
   "execution_count": 37,
   "id": "56bb7421",
   "metadata": {},
   "outputs": [],
   "source": [
    "def howm(a,lst):\n",
    "    return lst.count(a)"
   ]
  },
  {
   "cell_type": "code",
   "execution_count": 40,
   "id": "852ba9b8",
   "metadata": {},
   "outputs": [
    {
     "data": {
      "text/plain": [
       "2"
      ]
     },
     "execution_count": 40,
     "metadata": {},
     "output_type": "execute_result"
    }
   ],
   "source": [
    "howm(\" \",[\" \",3,3,3,3,3,3,\" \",])"
   ]
  },
  {
   "cell_type": "code",
   "execution_count": 47,
   "id": "1e496dbf",
   "metadata": {},
   "outputs": [],
   "source": [
    "#write a func name maxintuple, that takes 2 tuples as inputs and returns true, \n",
    "#if maximum value of tuple 1 is greater then maximum value of tuple 2-->returns True\n",
    "#if maximum value of tuple 2 is greater then maximum value of tuple 1-->returns False\n",
    "def maxintuple(tuple_1,tuple_2):\n",
    "    a = max(tuple_1)\n",
    "    b = max(tuple_2)\n",
    "    if a>b:\n",
    "        return True\n",
    "    elif a==b:\n",
    "        return \"Equal\"\n",
    "    else:\n",
    "        return False"
   ]
  },
  {
   "cell_type": "code",
   "execution_count": 51,
   "id": "d6a1c108",
   "metadata": {},
   "outputs": [
    {
     "data": {
      "text/plain": [
       "True"
      ]
     },
     "execution_count": 51,
     "metadata": {},
     "output_type": "execute_result"
    }
   ],
   "source": [
    "maxintuple([12,9,8,7,6],[9,8,7,6,5,11])"
   ]
  },
  {
   "cell_type": "code",
   "execution_count": 8,
   "id": "b66ec724",
   "metadata": {},
   "outputs": [],
   "source": [
    "##write a function named returneven that takes list as an input and returns the even items in the list as an ouput\n",
    "def ret_even(a):\n",
    "    for i in a:\n",
    "        if a[i]%2==0:\n",
    "            print(i,end =\" \")\n"
   ]
  },
  {
   "cell_type": "code",
   "execution_count": 9,
   "id": "4a0a9387",
   "metadata": {},
   "outputs": [
    {
     "ename": "IndexError",
     "evalue": "list index out of range",
     "output_type": "error",
     "traceback": [
      "\u001b[1;31m---------------------------------------------------------------------------\u001b[0m",
      "\u001b[1;31mIndexError\u001b[0m                                Traceback (most recent call last)",
      "Input \u001b[1;32mIn [9]\u001b[0m, in \u001b[0;36m<cell line: 2>\u001b[1;34m()\u001b[0m\n\u001b[0;32m      1\u001b[0m a\u001b[38;5;241m=\u001b[39m[\u001b[38;5;241m5\u001b[39m,\u001b[38;5;241m6\u001b[39m,\u001b[38;5;241m7\u001b[39m,\u001b[38;5;241m8\u001b[39m]\n\u001b[1;32m----> 2\u001b[0m \u001b[43mret_even\u001b[49m\u001b[43m(\u001b[49m\u001b[43ma\u001b[49m\u001b[43m)\u001b[49m\n",
      "Input \u001b[1;32mIn [8]\u001b[0m, in \u001b[0;36mret_even\u001b[1;34m(a)\u001b[0m\n\u001b[0;32m      2\u001b[0m \u001b[38;5;28;01mdef\u001b[39;00m \u001b[38;5;21mret_even\u001b[39m(a):\n\u001b[0;32m      3\u001b[0m     \u001b[38;5;28;01mfor\u001b[39;00m i \u001b[38;5;129;01min\u001b[39;00m a:\n\u001b[1;32m----> 4\u001b[0m         \u001b[38;5;28;01mif\u001b[39;00m \u001b[43ma\u001b[49m\u001b[43m[\u001b[49m\u001b[43mi\u001b[49m\u001b[43m]\u001b[49m\u001b[38;5;241m%\u001b[39m\u001b[38;5;241m2\u001b[39m\u001b[38;5;241m==\u001b[39m\u001b[38;5;241m0\u001b[39m:\n\u001b[0;32m      5\u001b[0m             \u001b[38;5;28mprint\u001b[39m(i,end \u001b[38;5;241m=\u001b[39m\u001b[38;5;124m\"\u001b[39m\u001b[38;5;124m \u001b[39m\u001b[38;5;124m\"\u001b[39m)\n",
      "\u001b[1;31mIndexError\u001b[0m: list index out of range"
     ]
    }
   ],
   "source": [
    "a=[5,6,7,8]\n",
    "ret_even(a)"
   ]
  },
  {
   "cell_type": "code",
   "execution_count": 72,
   "id": "10a0248c",
   "metadata": {},
   "outputs": [],
   "source": [
    "##write a function named checkkey, that takes a string and a dictionary as an input \n",
    "## if the item is in the dict --> returns True,\n",
    "##if the item is not in the dic--> ret False\n",
    "def checkkey(x,y):\n",
    "    if x in y:\n",
    "        return True\n",
    "    else:\n",
    "        return False"
   ]
  },
  {
   "cell_type": "code",
   "execution_count": 74,
   "id": "e9fab8f1",
   "metadata": {},
   "outputs": [
    {
     "data": {
      "text/plain": [
       "False"
      ]
     },
     "execution_count": 74,
     "metadata": {},
     "output_type": "execute_result"
    }
   ],
   "source": [
    "checkkey(4, {3:40,3:30,2:20})"
   ]
  }
 ],
 "metadata": {
  "kernelspec": {
   "display_name": "Python 3 (ipykernel)",
   "language": "python",
   "name": "python3"
  },
  "language_info": {
   "codemirror_mode": {
    "name": "ipython",
    "version": 3
   },
   "file_extension": ".py",
   "mimetype": "text/x-python",
   "name": "python",
   "nbconvert_exporter": "python",
   "pygments_lexer": "ipython3",
   "version": "3.9.12"
  }
 },
 "nbformat": 4,
 "nbformat_minor": 5
}
