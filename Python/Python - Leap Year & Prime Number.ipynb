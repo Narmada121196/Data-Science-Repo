{
 "cells": [
  {
   "cell_type": "markdown",
   "id": "bbf0ca15",
   "metadata": {},
   "source": [
    "##### LEAP YEAR"
   ]
  },
  {
   "cell_type": "code",
   "execution_count": 6,
   "id": "4c2d9a59",
   "metadata": {},
   "outputs": [
    {
     "name": "stdout",
     "output_type": "stream",
     "text": [
      "What is the year : 2000\n",
      "2000, is a leap year\n"
     ]
    }
   ],
   "source": [
    "year = int(input(\"What is the year : \"))\n",
    "if (year%400==0) and (year%100==0):\n",
    "    print(\"{0}, is a leap year\".format(year))\n",
    "elif(year%4==0) and (year%100!=0):\n",
    "    print(\"{0}, is a leap year\".format(year))\n",
    "else:\n",
    "    print(\"{0}, is a leap year\".format(year))"
   ]
  },
  {
   "cell_type": "code",
   "execution_count": 10,
   "id": "bba70735",
   "metadata": {},
   "outputs": [
    {
     "name": "stdout",
     "output_type": "stream",
     "text": [
      "12\n",
      "12.00 is a number\n"
     ]
    }
   ],
   "source": [
    "a = float(input())\n",
    "print('%.2f is a number'%(a))"
   ]
  },
  {
   "cell_type": "code",
   "execution_count": 12,
   "id": "2d80a22d",
   "metadata": {},
   "outputs": [
    {
     "name": "stdout",
     "output_type": "stream",
     "text": [
      "First Number : 12\n",
      "Second Number : 13\n",
      "Third Number : 2\n",
      "13.0 is the largest number\n"
     ]
    }
   ],
   "source": [
    "num1 = float(input(\"First Number : \"))\n",
    "num2 = float(input(\"Second Number : \"))\n",
    "num3 = float(input(\"Third Number : \"))\n",
    "if(num1>num2) and (num1>num3):\n",
    "    print(\"{0} is the largest number\".format(num1))\n",
    "elif(num2>num1) and (num2>num3):\n",
    "    print(\"{0} is the largest number\".format(num2))\n",
    "else:\n",
    "    print(\"{0} is the largest number\".format(num3))"
   ]
  },
  {
   "cell_type": "code",
   "execution_count": 22,
   "id": "6572acfd",
   "metadata": {},
   "outputs": [
    {
     "name": "stdout",
     "output_type": "stream",
     "text": [
      "10\n",
      "10 is not a prime number\n"
     ]
    }
   ],
   "source": [
    "num= int(input())\n",
    "flag = False\n",
    "if num==1:\n",
    "    print(\"{0} is not a prime number\".format(num))\n",
    "elif num>1:\n",
    "    for i in range (2,num):\n",
    "        if (num%i==0):\n",
    "            flag = True\n",
    "            break\n",
    "    if(flag==True):\n",
    "        print(\"{0} is not a prime number\".format(num))\n",
    "    else:\n",
    "        print(\"{0} is a prime number\".format(num))\n",
    "\n",
    "        \n",
    "        "
   ]
  },
  {
   "cell_type": "code",
   "execution_count": 24,
   "id": "d769c922",
   "metadata": {},
   "outputs": [
    {
     "name": "stdout",
     "output_type": "stream",
     "text": [
      " \n",
      "100 is a prime number\n",
      "100 is a prime number\n",
      "100 is a prime number\n",
      "100 is a prime number\n",
      "100 is a prime number\n",
      "100 is a prime number\n",
      "100 is a prime number\n",
      "100 is a prime number\n",
      "100 is a prime number\n",
      "100 is a prime number\n",
      "100 is a prime number\n",
      "100 is a prime number\n",
      "100 is a prime number\n",
      "100 is a prime number\n",
      "100 is a prime number\n",
      "100 is a prime number\n",
      "100 is a prime number\n",
      "100 is a prime number\n",
      "100 is a prime number\n",
      "100 is a prime number\n",
      "100 is a prime number\n",
      "100 is a prime number\n",
      "100 is a prime number\n",
      "100 is a prime number\n",
      "100 is a prime number\n",
      "100 is a prime number\n",
      "100 is a prime number\n",
      "100 is a prime number\n",
      "100 is a prime number\n",
      "100 is a prime number\n",
      "100 is a prime number\n",
      "100 is a prime number\n",
      "100 is a prime number\n",
      "100 is a prime number\n",
      "100 is a prime number\n",
      "100 is a prime number\n",
      "100 is a prime number\n",
      "100 is a prime number\n",
      "100 is a prime number\n",
      "100 is a prime number\n",
      "100 is a prime number\n",
      "100 is a prime number\n",
      "100 is a prime number\n",
      "100 is a prime number\n",
      "100 is a prime number\n",
      "100 is a prime number\n",
      "100 is a prime number\n",
      "100 is a prime number\n",
      "100 is a prime number\n",
      "100 is a prime number\n",
      "100 is a prime number\n",
      "100 is a prime number\n",
      "100 is a prime number\n",
      "100 is a prime number\n",
      "100 is a prime number\n",
      "100 is a prime number\n",
      "100 is a prime number\n",
      "100 is a prime number\n",
      "100 is a prime number\n",
      "100 is a prime number\n",
      "100 is a prime number\n",
      "100 is a prime number\n",
      "100 is a prime number\n",
      "100 is a prime number\n",
      "100 is a prime number\n",
      "100 is a prime number\n",
      "100 is a prime number\n",
      "100 is a prime number\n",
      "100 is a prime number\n",
      "100 is a prime number\n",
      "100 is a prime number\n",
      "100 is a prime number\n",
      "100 is a prime number\n",
      "100 is a prime number\n",
      "100 is a prime number\n",
      "100 is a prime number\n",
      "100 is a prime number\n",
      "100 is a prime number\n",
      "100 is a prime number\n",
      "100 is a prime number\n",
      "100 is a prime number\n",
      "100 is a prime number\n",
      "100 is a prime number\n",
      "100 is a prime number\n",
      "100 is a prime number\n",
      "100 is a prime number\n",
      "100 is a prime number\n",
      "100 is a prime number\n",
      "100 is a prime number\n",
      "100 is a prime number\n",
      "100 is a prime number\n",
      "100 is a prime number\n",
      "100 is a prime number\n",
      "100 is a prime number\n",
      "100 is a prime number\n",
      "100 is a prime number\n",
      "100 is a prime number\n",
      "100 is a prime number\n",
      "100 is a prime number\n",
      "100 is a prime number\n"
     ]
    }
   ],
   "source": [
    "\n",
    "for i in range (100,201):\n",
    "    if (num1%i==0):\n",
    "        print(\" \")\n",
    "    else:\n",
    "        print(\"{0} is a prime number\".format(num1))"
   ]
  },
  {
   "cell_type": "code",
   "execution_count": null,
   "id": "87fa5d61",
   "metadata": {},
   "outputs": [],
   "source": []
  },
  {
   "cell_type": "code",
   "execution_count": null,
   "id": "97fe61d6",
   "metadata": {},
   "outputs": [],
   "source": []
  },
  {
   "cell_type": "code",
   "execution_count": null,
   "id": "e1572dd7",
   "metadata": {},
   "outputs": [],
   "source": []
  },
  {
   "cell_type": "code",
   "execution_count": null,
   "id": "1f48001e",
   "metadata": {},
   "outputs": [],
   "source": []
  },
  {
   "cell_type": "code",
   "execution_count": null,
   "id": "f9afd650",
   "metadata": {},
   "outputs": [],
   "source": []
  },
  {
   "cell_type": "code",
   "execution_count": null,
   "id": "0e700c9d",
   "metadata": {},
   "outputs": [],
   "source": []
  },
  {
   "cell_type": "code",
   "execution_count": null,
   "id": "8c0051af",
   "metadata": {},
   "outputs": [],
   "source": []
  },
  {
   "cell_type": "code",
   "execution_count": null,
   "id": "5463e745",
   "metadata": {},
   "outputs": [],
   "source": []
  }
 ],
 "metadata": {
  "kernelspec": {
   "display_name": "Python 3 (ipykernel)",
   "language": "python",
   "name": "python3"
  },
  "language_info": {
   "codemirror_mode": {
    "name": "ipython",
    "version": 3
   },
   "file_extension": ".py",
   "mimetype": "text/x-python",
   "name": "python",
   "nbconvert_exporter": "python",
   "pygments_lexer": "ipython3",
   "version": "3.9.12"
  }
 },
 "nbformat": 4,
 "nbformat_minor": 5
}
