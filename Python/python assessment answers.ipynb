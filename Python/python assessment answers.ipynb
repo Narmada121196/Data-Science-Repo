{
 "cells": [
  {
   "cell_type": "markdown",
   "id": "cd3c0484",
   "metadata": {},
   "source": [
    "![image](https://miro.medium.com/max/500/1*8vPr-s5Si0YM9zaGaC3MkQ.png)"
   ]
  },
  {
   "cell_type": "markdown",
   "id": "5eb4b803",
   "metadata": {},
   "source": [
    "### Question 1"
   ]
  },
  {
   "cell_type": "markdown",
   "id": "197d1e46",
   "metadata": {},
   "source": [
    "Create a function named round_number, that takes a float number with 1 decimal places as input and returns a rounded whole number as output.\n",
    "\n",
    "\n",
    "\n",
    "Eg. round_number(10.1) will give 10 as output"
   ]
  },
  {
   "cell_type": "code",
   "execution_count": 12,
   "id": "f85a5bf1",
   "metadata": {},
   "outputs": [],
   "source": [
    "def round_number(number):\n",
    "    return round(number)"
   ]
  },
  {
   "cell_type": "code",
   "execution_count": 13,
   "id": "eb26431c",
   "metadata": {},
   "outputs": [
    {
     "data": {
      "text/plain": [
       "11"
      ]
     },
     "execution_count": 13,
     "metadata": {},
     "output_type": "execute_result"
    }
   ],
   "source": [
    "round_number(10.95)"
   ]
  },
  {
   "cell_type": "code",
   "execution_count": 14,
   "id": "bbb7c71e",
   "metadata": {},
   "outputs": [],
   "source": [
    "a = round_number(10.95)"
   ]
  },
  {
   "cell_type": "code",
   "execution_count": 15,
   "id": "36d294f1",
   "metadata": {},
   "outputs": [
    {
     "data": {
      "text/plain": [
       "11"
      ]
     },
     "execution_count": 15,
     "metadata": {},
     "output_type": "execute_result"
    }
   ],
   "source": [
    "a"
   ]
  },
  {
   "cell_type": "code",
   "execution_count": 17,
   "id": "065fd9f2",
   "metadata": {},
   "outputs": [
    {
     "data": {
      "text/plain": [
       "int"
      ]
     },
     "execution_count": 17,
     "metadata": {},
     "output_type": "execute_result"
    }
   ],
   "source": [
    "type(a)"
   ]
  },
  {
   "cell_type": "markdown",
   "id": "ad2dbb3a",
   "metadata": {},
   "source": [
    "### Additional"
   ]
  },
  {
   "cell_type": "code",
   "execution_count": 38,
   "id": "96f5dae3",
   "metadata": {},
   "outputs": [],
   "source": [
    "# Function that adds 2 numbers\n",
    "def add_2_num(x,y):\n",
    "    \n",
    "    sum_of_2_numbers = x + y\n",
    "    \n",
    "    print(sum_of_2_numbers)\n",
    "    \n",
    "    # Do not forget THIS LINE !!!!!!!!!!\n",
    "    return sum_of_2_numbers"
   ]
  },
  {
   "cell_type": "code",
   "execution_count": 30,
   "id": "c97ecfaf",
   "metadata": {},
   "outputs": [],
   "source": [
    "# Function that adds 2 numbers\n",
    "def add_2_num(x,y):\n",
    "    print(x + y)\n",
    "    # Do not forget THIS LINE !!!!!!!!!!\n",
    "    return x + y"
   ]
  },
  {
   "cell_type": "code",
   "execution_count": 32,
   "id": "5c90050c",
   "metadata": {},
   "outputs": [
    {
     "name": "stdout",
     "output_type": "stream",
     "text": [
      "12\n"
     ]
    }
   ],
   "source": [
    "add_2_num(10,2)"
   ]
  },
  {
   "cell_type": "code",
   "execution_count": 39,
   "id": "09608b63",
   "metadata": {},
   "outputs": [
    {
     "name": "stdout",
     "output_type": "stream",
     "text": [
      "30\n"
     ]
    }
   ],
   "source": [
    "new_variable = add_2_num(10,20)"
   ]
  },
  {
   "cell_type": "code",
   "execution_count": 40,
   "id": "2c70d19e",
   "metadata": {},
   "outputs": [
    {
     "data": {
      "text/plain": [
       "30"
      ]
     },
     "execution_count": 40,
     "metadata": {},
     "output_type": "execute_result"
    }
   ],
   "source": [
    "new_variable"
   ]
  },
  {
   "cell_type": "code",
   "execution_count": 41,
   "id": "5df8b561",
   "metadata": {},
   "outputs": [
    {
     "data": {
      "text/plain": [
       "int"
      ]
     },
     "execution_count": 41,
     "metadata": {},
     "output_type": "execute_result"
    }
   ],
   "source": [
    "type(new_variable)"
   ]
  },
  {
   "cell_type": "markdown",
   "id": "3a748441",
   "metadata": {},
   "source": [
    "# Note- Very important\n",
    "Please return the values from the functions, otherwise there is no way for you to get the output from the function"
   ]
  },
  {
   "cell_type": "markdown",
   "id": "8482ec8b",
   "metadata": {},
   "source": [
    "### Question 3"
   ]
  },
  {
   "cell_type": "markdown",
   "id": "1fca4d50",
   "metadata": {},
   "source": [
    "Write a function named no_of_items, that takes a list as an input and returns the number of items in the list as an output.\n",
    "\n",
    "\n",
    "\n",
    "\n",
    "\n",
    "Eg. [1,2,3] as input would give 3 as output."
   ]
  },
  {
   "cell_type": "code",
   "execution_count": null,
   "id": "f96e303c",
   "metadata": {},
   "outputs": [],
   "source": []
  },
  {
   "cell_type": "code",
   "execution_count": null,
   "id": "a9378356",
   "metadata": {},
   "outputs": [],
   "source": []
  },
  {
   "cell_type": "code",
   "execution_count": null,
   "id": "29baa9fd",
   "metadata": {},
   "outputs": [],
   "source": []
  },
  {
   "cell_type": "markdown",
   "id": "ea261253",
   "metadata": {},
   "source": [
    "### Question 14"
   ]
  },
  {
   "cell_type": "markdown",
   "id": "bfde7a90",
   "metadata": {},
   "source": [
    "Write a function named maxintuple, that takes 2 tuples as inputs, and return True, if the maximum value of tuple 1 is greater than or equal to the maximum of tuple 2 and False if the maximum value of tuple 2 is greater than the maximum of tuple 1.\n",
    "\n",
    "\n",
    "\n",
    "maxintuple((1,2,3,4),(1,2,3)) -> True\n",
    "\n",
    "maxintuple((1,2,3),(1,2,3,4)) -> False\n",
    "\n",
    "maxintuple((1,2,3),(1,2,3)) -> True"
   ]
  },
  {
   "cell_type": "code",
   "execution_count": null,
   "id": "cc34321c",
   "metadata": {},
   "outputs": [],
   "source": []
  },
  {
   "cell_type": "markdown",
   "id": "f74eac05",
   "metadata": {},
   "source": [
    "----"
   ]
  },
  {
   "cell_type": "markdown",
   "id": "5d83b59f",
   "metadata": {},
   "source": [
    "# Note:- This is a jupyter thing, do not rely on it !!!!!! Please "
   ]
  },
  {
   "cell_type": "code",
   "execution_count": 42,
   "id": "9c6496d4",
   "metadata": {},
   "outputs": [],
   "source": [
    "def simple_function(x):\n",
    "    square = x ** 2\n",
    "    return square"
   ]
  },
  {
   "cell_type": "code",
   "execution_count": 87,
   "id": "74937a8a",
   "metadata": {},
   "outputs": [
    {
     "data": {
      "text/plain": [
       "4"
      ]
     },
     "execution_count": 87,
     "metadata": {},
     "output_type": "execute_result"
    }
   ],
   "source": [
    "simple_function(2)"
   ]
  },
  {
   "cell_type": "markdown",
   "id": "1866e179",
   "metadata": {},
   "source": [
    "### How to slice a list in different ways "
   ]
  },
  {
   "cell_type": "code",
   "execution_count": 47,
   "id": "c6aeb848",
   "metadata": {},
   "outputs": [],
   "source": [
    "a = [1,2,3,4,5,7,8,9]"
   ]
  },
  {
   "cell_type": "code",
   "execution_count": 48,
   "id": "dcd8aeb9",
   "metadata": {},
   "outputs": [
    {
     "data": {
      "text/plain": [
       "1"
      ]
     },
     "execution_count": 48,
     "metadata": {},
     "output_type": "execute_result"
    }
   ],
   "source": [
    "a[0]"
   ]
  },
  {
   "cell_type": "code",
   "execution_count": 49,
   "id": "1b2b7960",
   "metadata": {},
   "outputs": [
    {
     "data": {
      "text/plain": [
       "9"
      ]
     },
     "execution_count": 49,
     "metadata": {},
     "output_type": "execute_result"
    }
   ],
   "source": [
    "a[-1]"
   ]
  },
  {
   "cell_type": "code",
   "execution_count": 50,
   "id": "d2fa1c69",
   "metadata": {},
   "outputs": [
    {
     "data": {
      "text/plain": [
       "[1, 2, 3]"
      ]
     },
     "execution_count": 50,
     "metadata": {},
     "output_type": "execute_result"
    }
   ],
   "source": [
    "a[0:3]"
   ]
  },
  {
   "cell_type": "code",
   "execution_count": 52,
   "id": "16c3a5c6",
   "metadata": {},
   "outputs": [
    {
     "data": {
      "text/plain": [
       "[7, 8]"
      ]
     },
     "execution_count": 52,
     "metadata": {},
     "output_type": "execute_result"
    }
   ],
   "source": [
    "a[-3:-1]"
   ]
  },
  {
   "cell_type": "code",
   "execution_count": 54,
   "id": "10691fea",
   "metadata": {},
   "outputs": [
    {
     "data": {
      "text/plain": [
       "[2, 3, 4, 5, 7, 8]"
      ]
     },
     "execution_count": 54,
     "metadata": {},
     "output_type": "execute_result"
    }
   ],
   "source": [
    "a[1:7]"
   ]
  },
  {
   "cell_type": "code",
   "execution_count": 55,
   "id": "c2a4e3f3",
   "metadata": {},
   "outputs": [
    {
     "data": {
      "text/plain": [
       "[2, 3, 4, 5, 7, 8, 9]"
      ]
     },
     "execution_count": 55,
     "metadata": {},
     "output_type": "execute_result"
    }
   ],
   "source": [
    "a[1:]"
   ]
  },
  {
   "cell_type": "code",
   "execution_count": 56,
   "id": "4033d3ec",
   "metadata": {},
   "outputs": [
    {
     "data": {
      "text/plain": [
       "[1, 2, 3, 4, 5]"
      ]
     },
     "execution_count": 56,
     "metadata": {},
     "output_type": "execute_result"
    }
   ],
   "source": [
    "a[:5]"
   ]
  },
  {
   "cell_type": "code",
   "execution_count": 57,
   "id": "58f5dd9a",
   "metadata": {},
   "outputs": [
    {
     "data": {
      "text/plain": [
       "[1, 2, 3, 4, 5, 7, 8, 9]"
      ]
     },
     "execution_count": 57,
     "metadata": {},
     "output_type": "execute_result"
    }
   ],
   "source": [
    "a[::1]"
   ]
  },
  {
   "cell_type": "code",
   "execution_count": 58,
   "id": "e82d9dfc",
   "metadata": {},
   "outputs": [
    {
     "data": {
      "text/plain": [
       "[1, 3, 5, 8]"
      ]
     },
     "execution_count": 58,
     "metadata": {},
     "output_type": "execute_result"
    }
   ],
   "source": [
    "a[::2]"
   ]
  },
  {
   "cell_type": "code",
   "execution_count": 59,
   "id": "98ce2599",
   "metadata": {},
   "outputs": [
    {
     "data": {
      "text/plain": [
       "[1, 4, 8]"
      ]
     },
     "execution_count": 59,
     "metadata": {},
     "output_type": "execute_result"
    }
   ],
   "source": [
    "a[::3]"
   ]
  },
  {
   "cell_type": "code",
   "execution_count": 60,
   "id": "b9b7dbf1",
   "metadata": {},
   "outputs": [
    {
     "data": {
      "text/plain": [
       "[1, 5]"
      ]
     },
     "execution_count": 60,
     "metadata": {},
     "output_type": "execute_result"
    }
   ],
   "source": [
    "a[::4]"
   ]
  },
  {
   "cell_type": "code",
   "execution_count": 61,
   "id": "821a83c2",
   "metadata": {},
   "outputs": [
    {
     "data": {
      "text/plain": [
       "[9, 8, 7, 5, 4, 3, 2, 1]"
      ]
     },
     "execution_count": 61,
     "metadata": {},
     "output_type": "execute_result"
    }
   ],
   "source": [
    "a[::-1]"
   ]
  },
  {
   "cell_type": "code",
   "execution_count": 62,
   "id": "c8d07cae",
   "metadata": {},
   "outputs": [
    {
     "data": {
      "text/plain": [
       "[9, 7, 4, 2]"
      ]
     },
     "execution_count": 62,
     "metadata": {},
     "output_type": "execute_result"
    }
   ],
   "source": [
    "a[::-2]"
   ]
  },
  {
   "cell_type": "code",
   "execution_count": 63,
   "id": "a104eb25",
   "metadata": {},
   "outputs": [
    {
     "data": {
      "text/plain": [
       "[9, 5, 2]"
      ]
     },
     "execution_count": 63,
     "metadata": {},
     "output_type": "execute_result"
    }
   ],
   "source": [
    "a[::-3]"
   ]
  },
  {
   "cell_type": "markdown",
   "id": "54ab59c7",
   "metadata": {},
   "source": [
    "### Question 12"
   ]
  },
  {
   "cell_type": "markdown",
   "id": "79d37e01",
   "metadata": {},
   "source": [
    "Write a function named returnevenonly, that takes a list as an input and returns only the even item inside that list.\n",
    "\n",
    "\n",
    "\n",
    "Return list with only even items in the list"
   ]
  },
  {
   "cell_type": "code",
   "execution_count": 70,
   "id": "03beb1e6",
   "metadata": {},
   "outputs": [],
   "source": [
    "a = [9,8,7,6,5,4,3,2,1]"
   ]
  },
  {
   "cell_type": "code",
   "execution_count": 77,
   "id": "9387c4a1",
   "metadata": {},
   "outputs": [
    {
     "name": "stdout",
     "output_type": "stream",
     "text": [
      "This is an even loop number\n",
      "8\n",
      "This is an even loop number\n",
      "6\n",
      "This is an even loop number\n",
      "4\n",
      "This is an even loop number\n",
      "2\n"
     ]
    }
   ],
   "source": [
    "count = 0\n",
    "for i in a:\n",
    "#     print(i)\n",
    "    count += 1\n",
    "    print('The loop number is ' + str(count))\n",
    "    if count % 2 == 0:\n",
    "        print('This is an even loop number')\n",
    "        print(i)"
   ]
  },
  {
   "cell_type": "code",
   "execution_count": 88,
   "id": "18edbe17",
   "metadata": {},
   "outputs": [],
   "source": [
    "def even(a):\n",
    "    dummy = []\n",
    "    for i in a:\n",
    "        if i%2==0:\n",
    "            dummy.append(i)\n",
    "    print(dummy)"
   ]
  },
  {
   "cell_type": "code",
   "execution_count": 90,
   "id": "a7b659a5",
   "metadata": {},
   "outputs": [
    {
     "name": "stdout",
     "output_type": "stream",
     "text": [
      "[2, 4]\n"
     ]
    }
   ],
   "source": [
    "even([1,2,3,4,5]) "
   ]
  },
  {
   "cell_type": "code",
   "execution_count": null,
   "id": "bac3cb96",
   "metadata": {},
   "outputs": [],
   "source": []
  },
  {
   "cell_type": "code",
   "execution_count": 110,
   "id": "d2654f39",
   "metadata": {},
   "outputs": [],
   "source": [
    "a = [1,2,3]"
   ]
  },
  {
   "cell_type": "code",
   "execution_count": 111,
   "id": "3a75347b",
   "metadata": {},
   "outputs": [
    {
     "data": {
      "text/plain": [
       "[1, 2, 3]"
      ]
     },
     "execution_count": 111,
     "metadata": {},
     "output_type": "execute_result"
    }
   ],
   "source": [
    "a"
   ]
  },
  {
   "cell_type": "code",
   "execution_count": 112,
   "id": "219a99b3",
   "metadata": {},
   "outputs": [],
   "source": [
    "a.append(99)"
   ]
  },
  {
   "cell_type": "code",
   "execution_count": 113,
   "id": "40aff229",
   "metadata": {},
   "outputs": [
    {
     "data": {
      "text/plain": [
       "[1, 2, 3, 99]"
      ]
     },
     "execution_count": 113,
     "metadata": {},
     "output_type": "execute_result"
    }
   ],
   "source": [
    "a"
   ]
  },
  {
   "cell_type": "code",
   "execution_count": 107,
   "id": "663f362d",
   "metadata": {},
   "outputs": [],
   "source": [
    "a = a.append(10)"
   ]
  },
  {
   "cell_type": "code",
   "execution_count": 108,
   "id": "93e25339",
   "metadata": {},
   "outputs": [],
   "source": [
    "a"
   ]
  },
  {
   "cell_type": "code",
   "execution_count": 109,
   "id": "569f60b7",
   "metadata": {},
   "outputs": [
    {
     "data": {
      "text/plain": [
       "NoneType"
      ]
     },
     "execution_count": 109,
     "metadata": {},
     "output_type": "execute_result"
    }
   ],
   "source": [
    "type(a)"
   ]
  },
  {
   "cell_type": "code",
   "execution_count": 116,
   "id": "519f6b18",
   "metadata": {},
   "outputs": [],
   "source": [
    "b = a[2:5]"
   ]
  },
  {
   "cell_type": "code",
   "execution_count": 117,
   "id": "cb236512",
   "metadata": {},
   "outputs": [
    {
     "data": {
      "text/plain": [
       "[3, 99]"
      ]
     },
     "execution_count": 117,
     "metadata": {},
     "output_type": "execute_result"
    }
   ],
   "source": [
    "b"
   ]
  },
  {
   "cell_type": "code",
   "execution_count": 122,
   "id": "1385d05d",
   "metadata": {},
   "outputs": [
    {
     "data": {
      "text/plain": [
       "[]"
      ]
     },
     "execution_count": 122,
     "metadata": {},
     "output_type": "execute_result"
    }
   ],
   "source": [
    "a[2:5]"
   ]
  },
  {
   "cell_type": "code",
   "execution_count": 123,
   "id": "cc5560ae",
   "metadata": {},
   "outputs": [],
   "source": [
    "a = [1,2,3]"
   ]
  },
  {
   "cell_type": "code",
   "execution_count": 124,
   "id": "f658d8ae",
   "metadata": {},
   "outputs": [],
   "source": [
    "a = a[2:5]"
   ]
  },
  {
   "cell_type": "code",
   "execution_count": null,
   "id": "09912ffa",
   "metadata": {},
   "outputs": [],
   "source": []
  },
  {
   "cell_type": "code",
   "execution_count": 139,
   "id": "de490a31",
   "metadata": {},
   "outputs": [],
   "source": [
    "a = [1,2,3]"
   ]
  },
  {
   "cell_type": "code",
   "execution_count": 140,
   "id": "1299d312",
   "metadata": {},
   "outputs": [],
   "source": [
    "a.append({'a':[10,20,30]})"
   ]
  },
  {
   "cell_type": "code",
   "execution_count": 141,
   "id": "83c73a62",
   "metadata": {},
   "outputs": [
    {
     "data": {
      "text/plain": [
       "[1, 2, 3, {'a': [10, 20, 30]}]"
      ]
     },
     "execution_count": 141,
     "metadata": {},
     "output_type": "execute_result"
    }
   ],
   "source": [
    "a"
   ]
  },
  {
   "cell_type": "code",
   "execution_count": null,
   "id": "3ee8fb9c",
   "metadata": {},
   "outputs": [],
   "source": []
  }
 ],
 "metadata": {
  "kernelspec": {
   "display_name": "Python 3 (ipykernel)",
   "language": "python",
   "name": "python3"
  },
  "language_info": {
   "codemirror_mode": {
    "name": "ipython",
    "version": 3
   },
   "file_extension": ".py",
   "mimetype": "text/x-python",
   "name": "python",
   "nbconvert_exporter": "python",
   "pygments_lexer": "ipython3",
   "version": "3.9.12"
  }
 },
 "nbformat": 4,
 "nbformat_minor": 5
}
