{
 "cells": [
  {
   "cell_type": "markdown",
   "id": "85d95cd6",
   "metadata": {},
   "source": [
    "#### Section 1"
   ]
  },
  {
   "cell_type": "code",
   "execution_count": 243,
   "id": "c346daa8",
   "metadata": {},
   "outputs": [],
   "source": [
    "import pandas as pd"
   ]
  },
  {
   "cell_type": "code",
   "execution_count": 244,
   "id": "29158247",
   "metadata": {},
   "outputs": [
    {
     "name": "stderr",
     "output_type": "stream",
     "text": [
      "C:\\ProgramData\\Anaconda3\\lib\\site-packages\\openpyxl\\worksheet\\_reader.py:312: UserWarning: Unknown extension is not supported and will be removed\n",
      "  warn(msg)\n"
     ]
    }
   ],
   "source": [
    "bank = pd.read_excel(\"Bankloan.xlsx\",\"Data\")"
   ]
  },
  {
   "cell_type": "code",
   "execution_count": 245,
   "id": "6bb0599a",
   "metadata": {
    "scrolled": false
   },
   "outputs": [
    {
     "data": {
      "text/html": [
       "<div>\n",
       "<style scoped>\n",
       "    .dataframe tbody tr th:only-of-type {\n",
       "        vertical-align: middle;\n",
       "    }\n",
       "\n",
       "    .dataframe tbody tr th {\n",
       "        vertical-align: top;\n",
       "    }\n",
       "\n",
       "    .dataframe thead th {\n",
       "        text-align: right;\n",
       "    }\n",
       "</style>\n",
       "<table border=\"1\" class=\"dataframe\">\n",
       "  <thead>\n",
       "    <tr style=\"text-align: right;\">\n",
       "      <th></th>\n",
       "      <th>ID</th>\n",
       "      <th>Age</th>\n",
       "      <th>Experience</th>\n",
       "      <th>Income</th>\n",
       "      <th>ZIP Code</th>\n",
       "      <th>Family</th>\n",
       "      <th>CCAvg</th>\n",
       "      <th>Education</th>\n",
       "      <th>Mortgage</th>\n",
       "      <th>Personal Loan</th>\n",
       "      <th>Securities Account</th>\n",
       "      <th>CD Account</th>\n",
       "      <th>Online</th>\n",
       "      <th>CreditCard</th>\n",
       "    </tr>\n",
       "  </thead>\n",
       "  <tbody>\n",
       "    <tr>\n",
       "      <th>0</th>\n",
       "      <td>1.0</td>\n",
       "      <td>25.0</td>\n",
       "      <td>1.0</td>\n",
       "      <td>49.0</td>\n",
       "      <td>91107.0</td>\n",
       "      <td>4.0</td>\n",
       "      <td>1.6</td>\n",
       "      <td>1.0</td>\n",
       "      <td>0.0</td>\n",
       "      <td>0.0</td>\n",
       "      <td>1.0</td>\n",
       "      <td>0.0</td>\n",
       "      <td>0.0</td>\n",
       "      <td>0.0</td>\n",
       "    </tr>\n",
       "    <tr>\n",
       "      <th>1</th>\n",
       "      <td>2.0</td>\n",
       "      <td>45.0</td>\n",
       "      <td>19.0</td>\n",
       "      <td>34.0</td>\n",
       "      <td>90089.0</td>\n",
       "      <td>3.0</td>\n",
       "      <td>1.5</td>\n",
       "      <td>1.0</td>\n",
       "      <td>0.0</td>\n",
       "      <td>0.0</td>\n",
       "      <td>1.0</td>\n",
       "      <td>0.0</td>\n",
       "      <td>0.0</td>\n",
       "      <td>0.0</td>\n",
       "    </tr>\n",
       "    <tr>\n",
       "      <th>2</th>\n",
       "      <td>3.0</td>\n",
       "      <td>39.0</td>\n",
       "      <td>15.0</td>\n",
       "      <td>11.0</td>\n",
       "      <td>94720.0</td>\n",
       "      <td>1.0</td>\n",
       "      <td>1.0</td>\n",
       "      <td>1.0</td>\n",
       "      <td>0.0</td>\n",
       "      <td>0.0</td>\n",
       "      <td>0.0</td>\n",
       "      <td>0.0</td>\n",
       "      <td>0.0</td>\n",
       "      <td>0.0</td>\n",
       "    </tr>\n",
       "    <tr>\n",
       "      <th>3</th>\n",
       "      <td>4.0</td>\n",
       "      <td>35.0</td>\n",
       "      <td>9.0</td>\n",
       "      <td>100.0</td>\n",
       "      <td>94112.0</td>\n",
       "      <td>1.0</td>\n",
       "      <td>2.7</td>\n",
       "      <td>2.0</td>\n",
       "      <td>0.0</td>\n",
       "      <td>0.0</td>\n",
       "      <td>0.0</td>\n",
       "      <td>0.0</td>\n",
       "      <td>0.0</td>\n",
       "      <td>0.0</td>\n",
       "    </tr>\n",
       "    <tr>\n",
       "      <th>4</th>\n",
       "      <td>5.0</td>\n",
       "      <td>35.0</td>\n",
       "      <td>8.0</td>\n",
       "      <td>45.0</td>\n",
       "      <td>91330.0</td>\n",
       "      <td>4.0</td>\n",
       "      <td>1.0</td>\n",
       "      <td>2.0</td>\n",
       "      <td>0.0</td>\n",
       "      <td>0.0</td>\n",
       "      <td>0.0</td>\n",
       "      <td>0.0</td>\n",
       "      <td>0.0</td>\n",
       "      <td>1.0</td>\n",
       "    </tr>\n",
       "    <tr>\n",
       "      <th>...</th>\n",
       "      <td>...</td>\n",
       "      <td>...</td>\n",
       "      <td>...</td>\n",
       "      <td>...</td>\n",
       "      <td>...</td>\n",
       "      <td>...</td>\n",
       "      <td>...</td>\n",
       "      <td>...</td>\n",
       "      <td>...</td>\n",
       "      <td>...</td>\n",
       "      <td>...</td>\n",
       "      <td>...</td>\n",
       "      <td>...</td>\n",
       "      <td>...</td>\n",
       "    </tr>\n",
       "    <tr>\n",
       "      <th>4995</th>\n",
       "      <td>4996.0</td>\n",
       "      <td>29.0</td>\n",
       "      <td>3.0</td>\n",
       "      <td>40.0</td>\n",
       "      <td>92697.0</td>\n",
       "      <td>1.0</td>\n",
       "      <td>1.9</td>\n",
       "      <td>3.0</td>\n",
       "      <td>0.0</td>\n",
       "      <td>0.0</td>\n",
       "      <td>0.0</td>\n",
       "      <td>0.0</td>\n",
       "      <td>1.0</td>\n",
       "      <td>0.0</td>\n",
       "    </tr>\n",
       "    <tr>\n",
       "      <th>4996</th>\n",
       "      <td>4997.0</td>\n",
       "      <td>30.0</td>\n",
       "      <td>4.0</td>\n",
       "      <td>15.0</td>\n",
       "      <td>92037.0</td>\n",
       "      <td>4.0</td>\n",
       "      <td>0.4</td>\n",
       "      <td>1.0</td>\n",
       "      <td>85.0</td>\n",
       "      <td>0.0</td>\n",
       "      <td>0.0</td>\n",
       "      <td>0.0</td>\n",
       "      <td>1.0</td>\n",
       "      <td>0.0</td>\n",
       "    </tr>\n",
       "    <tr>\n",
       "      <th>4997</th>\n",
       "      <td>4998.0</td>\n",
       "      <td>63.0</td>\n",
       "      <td>39.0</td>\n",
       "      <td>24.0</td>\n",
       "      <td>93023.0</td>\n",
       "      <td>2.0</td>\n",
       "      <td>0.3</td>\n",
       "      <td>3.0</td>\n",
       "      <td>0.0</td>\n",
       "      <td>0.0</td>\n",
       "      <td>0.0</td>\n",
       "      <td>0.0</td>\n",
       "      <td>0.0</td>\n",
       "      <td>0.0</td>\n",
       "    </tr>\n",
       "    <tr>\n",
       "      <th>4998</th>\n",
       "      <td>4999.0</td>\n",
       "      <td>65.0</td>\n",
       "      <td>40.0</td>\n",
       "      <td>49.0</td>\n",
       "      <td>90034.0</td>\n",
       "      <td>3.0</td>\n",
       "      <td>0.5</td>\n",
       "      <td>2.0</td>\n",
       "      <td>0.0</td>\n",
       "      <td>0.0</td>\n",
       "      <td>0.0</td>\n",
       "      <td>0.0</td>\n",
       "      <td>1.0</td>\n",
       "      <td>0.0</td>\n",
       "    </tr>\n",
       "    <tr>\n",
       "      <th>4999</th>\n",
       "      <td>5000.0</td>\n",
       "      <td>28.0</td>\n",
       "      <td>4.0</td>\n",
       "      <td>83.0</td>\n",
       "      <td>92612.0</td>\n",
       "      <td>3.0</td>\n",
       "      <td>0.8</td>\n",
       "      <td>1.0</td>\n",
       "      <td>0.0</td>\n",
       "      <td>0.0</td>\n",
       "      <td>0.0</td>\n",
       "      <td>0.0</td>\n",
       "      <td>1.0</td>\n",
       "      <td>1.0</td>\n",
       "    </tr>\n",
       "  </tbody>\n",
       "</table>\n",
       "<p>5000 rows × 14 columns</p>\n",
       "</div>"
      ],
      "text/plain": [
       "          ID   Age  Experience  Income  ZIP Code  Family  CCAvg  Education  \\\n",
       "0        1.0  25.0         1.0    49.0   91107.0     4.0    1.6        1.0   \n",
       "1        2.0  45.0        19.0    34.0   90089.0     3.0    1.5        1.0   \n",
       "2        3.0  39.0        15.0    11.0   94720.0     1.0    1.0        1.0   \n",
       "3        4.0  35.0         9.0   100.0   94112.0     1.0    2.7        2.0   \n",
       "4        5.0  35.0         8.0    45.0   91330.0     4.0    1.0        2.0   \n",
       "...      ...   ...         ...     ...       ...     ...    ...        ...   \n",
       "4995  4996.0  29.0         3.0    40.0   92697.0     1.0    1.9        3.0   \n",
       "4996  4997.0  30.0         4.0    15.0   92037.0     4.0    0.4        1.0   \n",
       "4997  4998.0  63.0        39.0    24.0   93023.0     2.0    0.3        3.0   \n",
       "4998  4999.0  65.0        40.0    49.0   90034.0     3.0    0.5        2.0   \n",
       "4999  5000.0  28.0         4.0    83.0   92612.0     3.0    0.8        1.0   \n",
       "\n",
       "      Mortgage  Personal Loan  Securities Account  CD Account  Online  \\\n",
       "0          0.0            0.0                 1.0         0.0     0.0   \n",
       "1          0.0            0.0                 1.0         0.0     0.0   \n",
       "2          0.0            0.0                 0.0         0.0     0.0   \n",
       "3          0.0            0.0                 0.0         0.0     0.0   \n",
       "4          0.0            0.0                 0.0         0.0     0.0   \n",
       "...        ...            ...                 ...         ...     ...   \n",
       "4995       0.0            0.0                 0.0         0.0     1.0   \n",
       "4996      85.0            0.0                 0.0         0.0     1.0   \n",
       "4997       0.0            0.0                 0.0         0.0     0.0   \n",
       "4998       0.0            0.0                 0.0         0.0     1.0   \n",
       "4999       0.0            0.0                 0.0         0.0     1.0   \n",
       "\n",
       "      CreditCard  \n",
       "0            0.0  \n",
       "1            0.0  \n",
       "2            0.0  \n",
       "3            0.0  \n",
       "4            1.0  \n",
       "...          ...  \n",
       "4995         0.0  \n",
       "4996         0.0  \n",
       "4997         0.0  \n",
       "4998         0.0  \n",
       "4999         1.0  \n",
       "\n",
       "[5000 rows x 14 columns]"
      ]
     },
     "execution_count": 245,
     "metadata": {},
     "output_type": "execute_result"
    }
   ],
   "source": [
    "bank"
   ]
  },
  {
   "cell_type": "markdown",
   "id": "2f23df54",
   "metadata": {},
   "source": [
    "###### 8. Give us the statistical summary for all the variables in the dataset."
   ]
  },
  {
   "cell_type": "code",
   "execution_count": 246,
   "id": "d70f3ffd",
   "metadata": {
    "scrolled": true
   },
   "outputs": [
    {
     "data": {
      "text/html": [
       "<div>\n",
       "<style scoped>\n",
       "    .dataframe tbody tr th:only-of-type {\n",
       "        vertical-align: middle;\n",
       "    }\n",
       "\n",
       "    .dataframe tbody tr th {\n",
       "        vertical-align: top;\n",
       "    }\n",
       "\n",
       "    .dataframe thead th {\n",
       "        text-align: right;\n",
       "    }\n",
       "</style>\n",
       "<table border=\"1\" class=\"dataframe\">\n",
       "  <thead>\n",
       "    <tr style=\"text-align: right;\">\n",
       "      <th></th>\n",
       "      <th>ID</th>\n",
       "      <th>Age</th>\n",
       "      <th>Experience</th>\n",
       "      <th>Income</th>\n",
       "      <th>ZIP Code</th>\n",
       "      <th>Family</th>\n",
       "      <th>CCAvg</th>\n",
       "      <th>Education</th>\n",
       "      <th>Mortgage</th>\n",
       "      <th>Personal Loan</th>\n",
       "      <th>Securities Account</th>\n",
       "      <th>CD Account</th>\n",
       "      <th>Online</th>\n",
       "      <th>CreditCard</th>\n",
       "    </tr>\n",
       "  </thead>\n",
       "  <tbody>\n",
       "    <tr>\n",
       "      <th>count</th>\n",
       "      <td>5000.000000</td>\n",
       "      <td>5000.000000</td>\n",
       "      <td>5000.000000</td>\n",
       "      <td>5000.000000</td>\n",
       "      <td>5000.000000</td>\n",
       "      <td>5000.000000</td>\n",
       "      <td>5000.000000</td>\n",
       "      <td>5000.000000</td>\n",
       "      <td>5000.000000</td>\n",
       "      <td>5000.000000</td>\n",
       "      <td>5000.000000</td>\n",
       "      <td>5000.00000</td>\n",
       "      <td>5000.000000</td>\n",
       "      <td>5000.000000</td>\n",
       "    </tr>\n",
       "    <tr>\n",
       "      <th>mean</th>\n",
       "      <td>2500.500000</td>\n",
       "      <td>45.338400</td>\n",
       "      <td>20.104600</td>\n",
       "      <td>73.774200</td>\n",
       "      <td>93152.503000</td>\n",
       "      <td>2.396400</td>\n",
       "      <td>1.937913</td>\n",
       "      <td>1.881000</td>\n",
       "      <td>56.498800</td>\n",
       "      <td>0.096000</td>\n",
       "      <td>0.104400</td>\n",
       "      <td>0.06040</td>\n",
       "      <td>0.596800</td>\n",
       "      <td>0.294000</td>\n",
       "    </tr>\n",
       "    <tr>\n",
       "      <th>std</th>\n",
       "      <td>1443.520003</td>\n",
       "      <td>11.463166</td>\n",
       "      <td>11.467954</td>\n",
       "      <td>46.033729</td>\n",
       "      <td>2121.852197</td>\n",
       "      <td>1.147663</td>\n",
       "      <td>1.747666</td>\n",
       "      <td>0.839869</td>\n",
       "      <td>101.713802</td>\n",
       "      <td>0.294621</td>\n",
       "      <td>0.305809</td>\n",
       "      <td>0.23825</td>\n",
       "      <td>0.490589</td>\n",
       "      <td>0.455637</td>\n",
       "    </tr>\n",
       "    <tr>\n",
       "      <th>min</th>\n",
       "      <td>1.000000</td>\n",
       "      <td>23.000000</td>\n",
       "      <td>-3.000000</td>\n",
       "      <td>8.000000</td>\n",
       "      <td>9307.000000</td>\n",
       "      <td>1.000000</td>\n",
       "      <td>0.000000</td>\n",
       "      <td>1.000000</td>\n",
       "      <td>0.000000</td>\n",
       "      <td>0.000000</td>\n",
       "      <td>0.000000</td>\n",
       "      <td>0.00000</td>\n",
       "      <td>0.000000</td>\n",
       "      <td>0.000000</td>\n",
       "    </tr>\n",
       "    <tr>\n",
       "      <th>25%</th>\n",
       "      <td>1250.750000</td>\n",
       "      <td>35.000000</td>\n",
       "      <td>10.000000</td>\n",
       "      <td>39.000000</td>\n",
       "      <td>91911.000000</td>\n",
       "      <td>1.000000</td>\n",
       "      <td>0.700000</td>\n",
       "      <td>1.000000</td>\n",
       "      <td>0.000000</td>\n",
       "      <td>0.000000</td>\n",
       "      <td>0.000000</td>\n",
       "      <td>0.00000</td>\n",
       "      <td>0.000000</td>\n",
       "      <td>0.000000</td>\n",
       "    </tr>\n",
       "    <tr>\n",
       "      <th>50%</th>\n",
       "      <td>2500.500000</td>\n",
       "      <td>45.000000</td>\n",
       "      <td>20.000000</td>\n",
       "      <td>64.000000</td>\n",
       "      <td>93437.000000</td>\n",
       "      <td>2.000000</td>\n",
       "      <td>1.500000</td>\n",
       "      <td>2.000000</td>\n",
       "      <td>0.000000</td>\n",
       "      <td>0.000000</td>\n",
       "      <td>0.000000</td>\n",
       "      <td>0.00000</td>\n",
       "      <td>1.000000</td>\n",
       "      <td>0.000000</td>\n",
       "    </tr>\n",
       "    <tr>\n",
       "      <th>75%</th>\n",
       "      <td>3750.250000</td>\n",
       "      <td>55.000000</td>\n",
       "      <td>30.000000</td>\n",
       "      <td>98.000000</td>\n",
       "      <td>94608.000000</td>\n",
       "      <td>3.000000</td>\n",
       "      <td>2.500000</td>\n",
       "      <td>3.000000</td>\n",
       "      <td>101.000000</td>\n",
       "      <td>0.000000</td>\n",
       "      <td>0.000000</td>\n",
       "      <td>0.00000</td>\n",
       "      <td>1.000000</td>\n",
       "      <td>1.000000</td>\n",
       "    </tr>\n",
       "    <tr>\n",
       "      <th>max</th>\n",
       "      <td>5000.000000</td>\n",
       "      <td>67.000000</td>\n",
       "      <td>43.000000</td>\n",
       "      <td>224.000000</td>\n",
       "      <td>96651.000000</td>\n",
       "      <td>4.000000</td>\n",
       "      <td>10.000000</td>\n",
       "      <td>3.000000</td>\n",
       "      <td>635.000000</td>\n",
       "      <td>1.000000</td>\n",
       "      <td>1.000000</td>\n",
       "      <td>1.00000</td>\n",
       "      <td>1.000000</td>\n",
       "      <td>1.000000</td>\n",
       "    </tr>\n",
       "  </tbody>\n",
       "</table>\n",
       "</div>"
      ],
      "text/plain": [
       "                ID          Age   Experience       Income      ZIP Code  \\\n",
       "count  5000.000000  5000.000000  5000.000000  5000.000000   5000.000000   \n",
       "mean   2500.500000    45.338400    20.104600    73.774200  93152.503000   \n",
       "std    1443.520003    11.463166    11.467954    46.033729   2121.852197   \n",
       "min       1.000000    23.000000    -3.000000     8.000000   9307.000000   \n",
       "25%    1250.750000    35.000000    10.000000    39.000000  91911.000000   \n",
       "50%    2500.500000    45.000000    20.000000    64.000000  93437.000000   \n",
       "75%    3750.250000    55.000000    30.000000    98.000000  94608.000000   \n",
       "max    5000.000000    67.000000    43.000000   224.000000  96651.000000   \n",
       "\n",
       "            Family        CCAvg    Education     Mortgage  Personal Loan  \\\n",
       "count  5000.000000  5000.000000  5000.000000  5000.000000    5000.000000   \n",
       "mean      2.396400     1.937913     1.881000    56.498800       0.096000   \n",
       "std       1.147663     1.747666     0.839869   101.713802       0.294621   \n",
       "min       1.000000     0.000000     1.000000     0.000000       0.000000   \n",
       "25%       1.000000     0.700000     1.000000     0.000000       0.000000   \n",
       "50%       2.000000     1.500000     2.000000     0.000000       0.000000   \n",
       "75%       3.000000     2.500000     3.000000   101.000000       0.000000   \n",
       "max       4.000000    10.000000     3.000000   635.000000       1.000000   \n",
       "\n",
       "       Securities Account  CD Account       Online   CreditCard  \n",
       "count         5000.000000  5000.00000  5000.000000  5000.000000  \n",
       "mean             0.104400     0.06040     0.596800     0.294000  \n",
       "std              0.305809     0.23825     0.490589     0.455637  \n",
       "min              0.000000     0.00000     0.000000     0.000000  \n",
       "25%              0.000000     0.00000     0.000000     0.000000  \n",
       "50%              0.000000     0.00000     1.000000     0.000000  \n",
       "75%              0.000000     0.00000     1.000000     1.000000  \n",
       "max              1.000000     1.00000     1.000000     1.000000  "
      ]
     },
     "execution_count": 246,
     "metadata": {},
     "output_type": "execute_result"
    }
   ],
   "source": [
    "bank.describe()"
   ]
  },
  {
   "cell_type": "markdown",
   "id": "72581917",
   "metadata": {},
   "source": [
    "###### 9. Give all the measures of central tendency for all the quantitative variables which are continuous and also discrete."
   ]
  },
  {
   "cell_type": "code",
   "execution_count": 247,
   "id": "e4b52186",
   "metadata": {},
   "outputs": [
    {
     "data": {
      "text/plain": [
       "Age           45.338400\n",
       "Experience    20.104600\n",
       "Income        73.774200\n",
       "Family         2.396400\n",
       "CCAvg          1.937913\n",
       "Mortgage      56.498800\n",
       "dtype: float64"
      ]
     },
     "execution_count": 247,
     "metadata": {},
     "output_type": "execute_result"
    }
   ],
   "source": [
    "bank[[\"Age\",\"Experience\",\"Income\",\"Family\",\"CCAvg\",\"Mortgage\"]].mean()"
   ]
  },
  {
   "cell_type": "code",
   "execution_count": 248,
   "id": "d1c89a51",
   "metadata": {},
   "outputs": [
    {
     "data": {
      "text/plain": [
       "Age           45.0\n",
       "Experience    20.0\n",
       "Income        64.0\n",
       "Family         2.0\n",
       "CCAvg          1.5\n",
       "Mortgage       0.0\n",
       "dtype: float64"
      ]
     },
     "execution_count": 248,
     "metadata": {},
     "output_type": "execute_result"
    }
   ],
   "source": [
    "bank[[\"Age\",\"Experience\",\"Income\",\"Family\",\"CCAvg\",\"Mortgage\"]].median()"
   ]
  },
  {
   "cell_type": "code",
   "execution_count": 249,
   "id": "11c773fd",
   "metadata": {},
   "outputs": [
    {
     "data": {
      "text/html": [
       "<div>\n",
       "<style scoped>\n",
       "    .dataframe tbody tr th:only-of-type {\n",
       "        vertical-align: middle;\n",
       "    }\n",
       "\n",
       "    .dataframe tbody tr th {\n",
       "        vertical-align: top;\n",
       "    }\n",
       "\n",
       "    .dataframe thead th {\n",
       "        text-align: right;\n",
       "    }\n",
       "</style>\n",
       "<table border=\"1\" class=\"dataframe\">\n",
       "  <thead>\n",
       "    <tr style=\"text-align: right;\">\n",
       "      <th></th>\n",
       "      <th>Age</th>\n",
       "      <th>Experience</th>\n",
       "      <th>Income</th>\n",
       "      <th>Family</th>\n",
       "      <th>CCAvg</th>\n",
       "      <th>Mortgage</th>\n",
       "    </tr>\n",
       "  </thead>\n",
       "  <tbody>\n",
       "    <tr>\n",
       "      <th>0</th>\n",
       "      <td>35.0</td>\n",
       "      <td>32.0</td>\n",
       "      <td>44.0</td>\n",
       "      <td>1.0</td>\n",
       "      <td>0.3</td>\n",
       "      <td>0.0</td>\n",
       "    </tr>\n",
       "  </tbody>\n",
       "</table>\n",
       "</div>"
      ],
      "text/plain": [
       "    Age  Experience  Income  Family  CCAvg  Mortgage\n",
       "0  35.0        32.0    44.0     1.0    0.3       0.0"
      ]
     },
     "execution_count": 249,
     "metadata": {},
     "output_type": "execute_result"
    }
   ],
   "source": [
    "bank[[\"Age\",\"Experience\",\"Income\",\"Family\",\"CCAvg\",\"Mortgage\"]].mode()"
   ]
  },
  {
   "cell_type": "markdown",
   "id": "f80fa3b8",
   "metadata": {},
   "source": [
    "###### 10. Can you apply any statistical method to observe any similarity in distribution between age and experience variables?"
   ]
  },
  {
   "cell_type": "code",
   "execution_count": 250,
   "id": "5b3d5320",
   "metadata": {},
   "outputs": [
    {
     "data": {
      "text/html": [
       "<div>\n",
       "<style scoped>\n",
       "    .dataframe tbody tr th:only-of-type {\n",
       "        vertical-align: middle;\n",
       "    }\n",
       "\n",
       "    .dataframe tbody tr th {\n",
       "        vertical-align: top;\n",
       "    }\n",
       "\n",
       "    .dataframe thead th {\n",
       "        text-align: right;\n",
       "    }\n",
       "</style>\n",
       "<table border=\"1\" class=\"dataframe\">\n",
       "  <thead>\n",
       "    <tr style=\"text-align: right;\">\n",
       "      <th></th>\n",
       "      <th>Age</th>\n",
       "      <th>Experience</th>\n",
       "    </tr>\n",
       "  </thead>\n",
       "  <tbody>\n",
       "    <tr>\n",
       "      <th>Age</th>\n",
       "      <td>1.000000</td>\n",
       "      <td>0.994215</td>\n",
       "    </tr>\n",
       "    <tr>\n",
       "      <th>Experience</th>\n",
       "      <td>0.994215</td>\n",
       "      <td>1.000000</td>\n",
       "    </tr>\n",
       "  </tbody>\n",
       "</table>\n",
       "</div>"
      ],
      "text/plain": [
       "                 Age  Experience\n",
       "Age         1.000000    0.994215\n",
       "Experience  0.994215    1.000000"
      ]
     },
     "execution_count": 250,
     "metadata": {},
     "output_type": "execute_result"
    }
   ],
   "source": [
    "\n",
    "bank[[\"Age\",\"Experience\"]].corr()"
   ]
  },
  {
   "cell_type": "markdown",
   "id": "50273fc0",
   "metadata": {},
   "source": [
    "###### Explanation"
   ]
  },
  {
   "cell_type": "code",
   "execution_count": null,
   "id": "37d20323",
   "metadata": {},
   "outputs": [],
   "source": [
    "For Age and experience, the correlation is very strong.\n",
    "This says that if age increases the experience also gets increased and vice versa."
   ]
  },
  {
   "cell_type": "markdown",
   "id": "ffb9a5b0",
   "metadata": {},
   "source": [
    "###### 11. Who are the most frequent family members present in this dataset?"
   ]
  },
  {
   "cell_type": "code",
   "execution_count": 251,
   "id": "2ee98ee4",
   "metadata": {},
   "outputs": [
    {
     "data": {
      "text/plain": [
       "0    1.0\n",
       "Name: Family, dtype: float64"
      ]
     },
     "execution_count": 251,
     "metadata": {},
     "output_type": "execute_result"
    }
   ],
   "source": [
    "bank[\"Family\"].mode()"
   ]
  },
  {
   "cell_type": "markdown",
   "id": "6b642896",
   "metadata": {},
   "source": [
    "###### 12.What is the percentage of variation you can observe in the ‘Income’ variable?"
   ]
  },
  {
   "cell_type": "code",
   "execution_count": 252,
   "id": "edc170e7",
   "metadata": {},
   "outputs": [
    {
     "data": {
      "text/plain": [
       "62.39814097758612"
      ]
     },
     "execution_count": 252,
     "metadata": {},
     "output_type": "execute_result"
    }
   ],
   "source": [
    "income_std = bank[\"Income\"].std()\n",
    "income_mean = bank[\"Income\"].mean()\n",
    "percent_var = (income_std/income_mean)*100\n",
    "percent_var"
   ]
  },
  {
   "cell_type": "markdown",
   "id": "744acadd",
   "metadata": {},
   "source": [
    "###### 13. The ‘Mortgage’ variable is having a lot of zeroes. Impute with some business logical value that you feel fit for the data."
   ]
  },
  {
   "cell_type": "code",
   "execution_count": 253,
   "id": "f2941661",
   "metadata": {},
   "outputs": [
    {
     "data": {
      "text/html": [
       "<div>\n",
       "<style scoped>\n",
       "    .dataframe tbody tr th:only-of-type {\n",
       "        vertical-align: middle;\n",
       "    }\n",
       "\n",
       "    .dataframe tbody tr th {\n",
       "        vertical-align: top;\n",
       "    }\n",
       "\n",
       "    .dataframe thead th {\n",
       "        text-align: right;\n",
       "    }\n",
       "</style>\n",
       "<table border=\"1\" class=\"dataframe\">\n",
       "  <thead>\n",
       "    <tr style=\"text-align: right;\">\n",
       "      <th></th>\n",
       "      <th>ID</th>\n",
       "      <th>Age</th>\n",
       "      <th>Experience</th>\n",
       "      <th>Income</th>\n",
       "      <th>ZIP Code</th>\n",
       "      <th>Family</th>\n",
       "      <th>CCAvg</th>\n",
       "      <th>Education</th>\n",
       "      <th>Mortgage</th>\n",
       "      <th>Personal Loan</th>\n",
       "      <th>Securities Account</th>\n",
       "      <th>CD Account</th>\n",
       "      <th>Online</th>\n",
       "      <th>CreditCard</th>\n",
       "    </tr>\n",
       "  </thead>\n",
       "  <tbody>\n",
       "    <tr>\n",
       "      <th>0</th>\n",
       "      <td>1.0</td>\n",
       "      <td>25.0</td>\n",
       "      <td>1.0</td>\n",
       "      <td>49.0</td>\n",
       "      <td>91107.0</td>\n",
       "      <td>4.0</td>\n",
       "      <td>1.6</td>\n",
       "      <td>1.0</td>\n",
       "      <td>56.4988</td>\n",
       "      <td>56.4988</td>\n",
       "      <td>1.0000</td>\n",
       "      <td>56.4988</td>\n",
       "      <td>56.4988</td>\n",
       "      <td>56.4988</td>\n",
       "    </tr>\n",
       "    <tr>\n",
       "      <th>1</th>\n",
       "      <td>2.0</td>\n",
       "      <td>45.0</td>\n",
       "      <td>19.0</td>\n",
       "      <td>34.0</td>\n",
       "      <td>90089.0</td>\n",
       "      <td>3.0</td>\n",
       "      <td>1.5</td>\n",
       "      <td>1.0</td>\n",
       "      <td>56.4988</td>\n",
       "      <td>56.4988</td>\n",
       "      <td>1.0000</td>\n",
       "      <td>56.4988</td>\n",
       "      <td>56.4988</td>\n",
       "      <td>56.4988</td>\n",
       "    </tr>\n",
       "    <tr>\n",
       "      <th>2</th>\n",
       "      <td>3.0</td>\n",
       "      <td>39.0</td>\n",
       "      <td>15.0</td>\n",
       "      <td>11.0</td>\n",
       "      <td>94720.0</td>\n",
       "      <td>1.0</td>\n",
       "      <td>1.0</td>\n",
       "      <td>1.0</td>\n",
       "      <td>56.4988</td>\n",
       "      <td>56.4988</td>\n",
       "      <td>56.4988</td>\n",
       "      <td>56.4988</td>\n",
       "      <td>56.4988</td>\n",
       "      <td>56.4988</td>\n",
       "    </tr>\n",
       "    <tr>\n",
       "      <th>3</th>\n",
       "      <td>4.0</td>\n",
       "      <td>35.0</td>\n",
       "      <td>9.0</td>\n",
       "      <td>100.0</td>\n",
       "      <td>94112.0</td>\n",
       "      <td>1.0</td>\n",
       "      <td>2.7</td>\n",
       "      <td>2.0</td>\n",
       "      <td>56.4988</td>\n",
       "      <td>56.4988</td>\n",
       "      <td>56.4988</td>\n",
       "      <td>56.4988</td>\n",
       "      <td>56.4988</td>\n",
       "      <td>56.4988</td>\n",
       "    </tr>\n",
       "    <tr>\n",
       "      <th>4</th>\n",
       "      <td>5.0</td>\n",
       "      <td>35.0</td>\n",
       "      <td>8.0</td>\n",
       "      <td>45.0</td>\n",
       "      <td>91330.0</td>\n",
       "      <td>4.0</td>\n",
       "      <td>1.0</td>\n",
       "      <td>2.0</td>\n",
       "      <td>56.4988</td>\n",
       "      <td>56.4988</td>\n",
       "      <td>56.4988</td>\n",
       "      <td>56.4988</td>\n",
       "      <td>56.4988</td>\n",
       "      <td>1.0000</td>\n",
       "    </tr>\n",
       "    <tr>\n",
       "      <th>...</th>\n",
       "      <td>...</td>\n",
       "      <td>...</td>\n",
       "      <td>...</td>\n",
       "      <td>...</td>\n",
       "      <td>...</td>\n",
       "      <td>...</td>\n",
       "      <td>...</td>\n",
       "      <td>...</td>\n",
       "      <td>...</td>\n",
       "      <td>...</td>\n",
       "      <td>...</td>\n",
       "      <td>...</td>\n",
       "      <td>...</td>\n",
       "      <td>...</td>\n",
       "    </tr>\n",
       "    <tr>\n",
       "      <th>4995</th>\n",
       "      <td>4996.0</td>\n",
       "      <td>29.0</td>\n",
       "      <td>3.0</td>\n",
       "      <td>40.0</td>\n",
       "      <td>92697.0</td>\n",
       "      <td>1.0</td>\n",
       "      <td>1.9</td>\n",
       "      <td>3.0</td>\n",
       "      <td>56.4988</td>\n",
       "      <td>56.4988</td>\n",
       "      <td>56.4988</td>\n",
       "      <td>56.4988</td>\n",
       "      <td>1.0000</td>\n",
       "      <td>56.4988</td>\n",
       "    </tr>\n",
       "    <tr>\n",
       "      <th>4996</th>\n",
       "      <td>4997.0</td>\n",
       "      <td>30.0</td>\n",
       "      <td>4.0</td>\n",
       "      <td>15.0</td>\n",
       "      <td>92037.0</td>\n",
       "      <td>4.0</td>\n",
       "      <td>0.4</td>\n",
       "      <td>1.0</td>\n",
       "      <td>85.0000</td>\n",
       "      <td>56.4988</td>\n",
       "      <td>56.4988</td>\n",
       "      <td>56.4988</td>\n",
       "      <td>1.0000</td>\n",
       "      <td>56.4988</td>\n",
       "    </tr>\n",
       "    <tr>\n",
       "      <th>4997</th>\n",
       "      <td>4998.0</td>\n",
       "      <td>63.0</td>\n",
       "      <td>39.0</td>\n",
       "      <td>24.0</td>\n",
       "      <td>93023.0</td>\n",
       "      <td>2.0</td>\n",
       "      <td>0.3</td>\n",
       "      <td>3.0</td>\n",
       "      <td>56.4988</td>\n",
       "      <td>56.4988</td>\n",
       "      <td>56.4988</td>\n",
       "      <td>56.4988</td>\n",
       "      <td>56.4988</td>\n",
       "      <td>56.4988</td>\n",
       "    </tr>\n",
       "    <tr>\n",
       "      <th>4998</th>\n",
       "      <td>4999.0</td>\n",
       "      <td>65.0</td>\n",
       "      <td>40.0</td>\n",
       "      <td>49.0</td>\n",
       "      <td>90034.0</td>\n",
       "      <td>3.0</td>\n",
       "      <td>0.5</td>\n",
       "      <td>2.0</td>\n",
       "      <td>56.4988</td>\n",
       "      <td>56.4988</td>\n",
       "      <td>56.4988</td>\n",
       "      <td>56.4988</td>\n",
       "      <td>1.0000</td>\n",
       "      <td>56.4988</td>\n",
       "    </tr>\n",
       "    <tr>\n",
       "      <th>4999</th>\n",
       "      <td>5000.0</td>\n",
       "      <td>28.0</td>\n",
       "      <td>4.0</td>\n",
       "      <td>83.0</td>\n",
       "      <td>92612.0</td>\n",
       "      <td>3.0</td>\n",
       "      <td>0.8</td>\n",
       "      <td>1.0</td>\n",
       "      <td>56.4988</td>\n",
       "      <td>56.4988</td>\n",
       "      <td>56.4988</td>\n",
       "      <td>56.4988</td>\n",
       "      <td>1.0000</td>\n",
       "      <td>1.0000</td>\n",
       "    </tr>\n",
       "  </tbody>\n",
       "</table>\n",
       "<p>5000 rows × 14 columns</p>\n",
       "</div>"
      ],
      "text/plain": [
       "          ID   Age  Experience  Income  ZIP Code  Family  CCAvg  Education  \\\n",
       "0        1.0  25.0         1.0    49.0   91107.0     4.0    1.6        1.0   \n",
       "1        2.0  45.0        19.0    34.0   90089.0     3.0    1.5        1.0   \n",
       "2        3.0  39.0        15.0    11.0   94720.0     1.0    1.0        1.0   \n",
       "3        4.0  35.0         9.0   100.0   94112.0     1.0    2.7        2.0   \n",
       "4        5.0  35.0         8.0    45.0   91330.0     4.0    1.0        2.0   \n",
       "...      ...   ...         ...     ...       ...     ...    ...        ...   \n",
       "4995  4996.0  29.0         3.0    40.0   92697.0     1.0    1.9        3.0   \n",
       "4996  4997.0  30.0         4.0    15.0   92037.0     4.0    0.4        1.0   \n",
       "4997  4998.0  63.0        39.0    24.0   93023.0     2.0    0.3        3.0   \n",
       "4998  4999.0  65.0        40.0    49.0   90034.0     3.0    0.5        2.0   \n",
       "4999  5000.0  28.0         4.0    83.0   92612.0     3.0    0.8        1.0   \n",
       "\n",
       "      Mortgage  Personal Loan  Securities Account  CD Account   Online  \\\n",
       "0      56.4988        56.4988              1.0000     56.4988  56.4988   \n",
       "1      56.4988        56.4988              1.0000     56.4988  56.4988   \n",
       "2      56.4988        56.4988             56.4988     56.4988  56.4988   \n",
       "3      56.4988        56.4988             56.4988     56.4988  56.4988   \n",
       "4      56.4988        56.4988             56.4988     56.4988  56.4988   \n",
       "...        ...            ...                 ...         ...      ...   \n",
       "4995   56.4988        56.4988             56.4988     56.4988   1.0000   \n",
       "4996   85.0000        56.4988             56.4988     56.4988   1.0000   \n",
       "4997   56.4988        56.4988             56.4988     56.4988  56.4988   \n",
       "4998   56.4988        56.4988             56.4988     56.4988   1.0000   \n",
       "4999   56.4988        56.4988             56.4988     56.4988   1.0000   \n",
       "\n",
       "      CreditCard  \n",
       "0        56.4988  \n",
       "1        56.4988  \n",
       "2        56.4988  \n",
       "3        56.4988  \n",
       "4         1.0000  \n",
       "...          ...  \n",
       "4995     56.4988  \n",
       "4996     56.4988  \n",
       "4997     56.4988  \n",
       "4998     56.4988  \n",
       "4999      1.0000  \n",
       "\n",
       "[5000 rows x 14 columns]"
      ]
     },
     "execution_count": 253,
     "metadata": {},
     "output_type": "execute_result"
    }
   ],
   "source": [
    "impute_zeros = bank.replace(0.0,bank[\"Mortgage\"].mean())\n",
    "impute_zeros"
   ]
  },
  {
   "cell_type": "code",
   "execution_count": 254,
   "id": "f50fa06f",
   "metadata": {},
   "outputs": [
    {
     "data": {
      "text/plain": [
       "ID                    5000\n",
       "Age                     45\n",
       "Experience              47\n",
       "Income                 162\n",
       "ZIP Code               467\n",
       "Family                   4\n",
       "CCAvg                  108\n",
       "Education                3\n",
       "Mortgage               347\n",
       "Personal Loan            2\n",
       "Securities Account       2\n",
       "CD Account               2\n",
       "Online                   2\n",
       "CreditCard               2\n",
       "dtype: int64"
      ]
     },
     "execution_count": 254,
     "metadata": {},
     "output_type": "execute_result"
    }
   ],
   "source": [
    "impute_zeros.nunique()"
   ]
  },
  {
   "cell_type": "markdown",
   "id": "d16e302d",
   "metadata": {},
   "source": [
    "###### 14. Do customers have credit cards have any impact on their experience and income?"
   ]
  },
  {
   "cell_type": "code",
   "execution_count": 255,
   "id": "a35b23e9",
   "metadata": {},
   "outputs": [
    {
     "name": "stdout",
     "output_type": "stream",
     "text": [
      "average income of customers with credit card is  73.7742\n",
      "average experience of customers with credit cards is  20.1046\n",
      "            CreditCard    Income\n",
      "CreditCard    1.000000 -0.002385\n",
      "Income       -0.002385  1.000000\n",
      "            CreditCard  Experience\n",
      "CreditCard    1.000000    0.008967\n",
      "Experience    0.008967    1.000000\n"
     ]
    }
   ],
   "source": [
    "c = bank[bank[\"CreditCard\"] == 1.0]\n",
    "inc_mean = bank['Income'].mean()\n",
    "print('average income of customers with credit card is ',inc_mean)\n",
    "exp_mean = bank['Experience'].mean()\n",
    "print('average experience of customers with credit cards is ',exp_mean)\n",
    "ccinc_corr = bank[[\"CreditCard\",\"Income\"]].corr()\n",
    "print(ccinc_corr)\n",
    "ccexp_corr = bank[[\"CreditCard\",\"Experience\"]].corr()\n",
    "print(ccexp_corr)"
   ]
  },
  {
   "cell_type": "markdown",
   "id": "d12d92cb",
   "metadata": {},
   "source": [
    "###### Explanation"
   ]
  },
  {
   "cell_type": "code",
   "execution_count": null,
   "id": "f8ac7439",
   "metadata": {},
   "outputs": [],
   "source": [
    "Thus, the credit card and income have a correlation of -0.002385 which is a perfect negative correlation, which means they have \n",
    "realtionship with each other. So, if one gets affected it does not impact on the other.\n",
    "\n",
    "The credit card and experience have a correlation of 0.008967 which is also a weak correlation, means if one gets affected\n",
    "the other does not have any impact at maximum.\n"
   ]
  },
  {
   "cell_type": "markdown",
   "id": "d9c23bc3",
   "metadata": {},
   "source": [
    "###### 15. Do you see any outliers in the dataset? If yes what plot you would think will be suitable to showcase to the stakeholders?"
   ]
  },
  {
   "cell_type": "code",
   "execution_count": 256,
   "id": "ecac08a0",
   "metadata": {},
   "outputs": [
    {
     "data": {
      "text/plain": [
       "Age          -0.029341\n",
       "Experience   -0.026325\n",
       "Income        0.841339\n",
       "Family        0.155221\n",
       "CCAvg         1.598457\n",
       "Mortgage      2.104002\n",
       "dtype: float64"
      ]
     },
     "execution_count": 256,
     "metadata": {},
     "output_type": "execute_result"
    }
   ],
   "source": [
    "\n",
    "a=bank[['Age','Experience','Income','Family','CCAvg','Mortgage']].skew()\n",
    "a\n"
   ]
  },
  {
   "cell_type": "code",
   "execution_count": 233,
   "id": "7f76214d",
   "metadata": {},
   "outputs": [
    {
     "data": {
      "text/plain": [
       "<AxesSubplot:>"
      ]
     },
     "execution_count": 233,
     "metadata": {},
     "output_type": "execute_result"
    },
    {
     "data": {
      "image/png": "[encoded data removed]",
      "text/plain": [
       "<Figure size 432x288 with 1 Axes>"
      ]
     },
     "metadata": {
      "needs_background": "light"
     },
     "output_type": "display_data"
    }
   ],
   "source": [
    "bank[['Age','Experience','Income','Family','CCAvg','Mortgage']].plot(kind='box')"
   ]
  },
  {
   "cell_type": "markdown",
   "id": "98ac67e7",
   "metadata": {},
   "source": [
    "###### Explanation"
   ]
  },
  {
   "cell_type": "code",
   "execution_count": null,
   "id": "ef11812c",
   "metadata": {},
   "outputs": [],
   "source": [
    "mortgage/ccavg/average/experience/family -->highly skewed\n",
    "Income --> Moderately skewed.\n",
    "\n",
    "As there are outliers to be detected, I would use a \"Box plot\""
   ]
  },
  {
   "cell_type": "markdown",
   "id": "35c954c9",
   "metadata": {},
   "source": [
    "###### 16. Give us the deciles values of the variable ‘Income’ in the dataset."
   ]
  },
  {
   "cell_type": "code",
   "execution_count": 257,
   "id": "45b49b7e",
   "metadata": {
    "scrolled": true
   },
   "outputs": [
    {
     "data": {
      "text/plain": [
       "0       3\n",
       "1       2\n",
       "2       0\n",
       "3       7\n",
       "4       3\n",
       "       ..\n",
       "4995    2\n",
       "4996    0\n",
       "4997    1\n",
       "4998    3\n",
       "4999    6\n",
       "Name: Income_decile, Length: 5000, dtype: int64"
      ]
     },
     "execution_count": 257,
     "metadata": {},
     "output_type": "execute_result"
    }
   ],
   "source": [
    "bank['Income_decile'] = pd.qcut(bank[\"Income\"],10,labels = False)\n",
    "bank['Income_decile']"
   ]
  },
  {
   "cell_type": "markdown",
   "id": "0d28155f",
   "metadata": {},
   "source": [
    "###### 17. Give the IQR of all the variables which are quantitative and continuous.\n"
   ]
  },
  {
   "cell_type": "code",
   "execution_count": 258,
   "id": "e83b9df8",
   "metadata": {},
   "outputs": [
    {
     "name": "stderr",
     "output_type": "stream",
     "text": [
      "C:\\Users\\hp\\AppData\\Local\\Temp\\ipykernel_10972\\3752562710.py:3: FutureWarning: Boolean inputs to the `inclusive` argument are deprecated in favour of `both` or `neither`.\n",
      "  mask = bank['Experience'].between(q1, q3, inclusive=True)\n"
     ]
    },
    {
     "data": {
      "text/plain": [
       "1       19.0\n",
       "2       15.0\n",
       "5       13.0\n",
       "6       27.0\n",
       "7       24.0\n",
       "        ... \n",
       "4985    23.0\n",
       "4987    23.0\n",
       "4990    25.0\n",
       "4991    25.0\n",
       "4993    21.0\n",
       "Name: Experience, Length: 2672, dtype: float64"
      ]
     },
     "execution_count": 258,
     "metadata": {},
     "output_type": "execute_result"
    }
   ],
   "source": [
    "q1 = bank[\"Experience\"].quantile(.25)\n",
    "q3 = bank[\"Experience\"].quantile(.75)\n",
    "mask = bank['Experience'].between(q1, q3, inclusive=True)\n",
    "age_iqr = bank.loc[mask, 'Experience']\n",
    "age_iqr"
   ]
  },
  {
   "cell_type": "code",
   "execution_count": 259,
   "id": "bc9f83fc",
   "metadata": {},
   "outputs": [
    {
     "name": "stderr",
     "output_type": "stream",
     "text": [
      "C:\\Users\\hp\\AppData\\Local\\Temp\\ipykernel_10972\\120917097.py:3: FutureWarning: Boolean inputs to the `inclusive` argument are deprecated in favour of `both` or `neither`.\n",
      "  mask = bank['Income'].between(q1, q3, inclusive=True)\n"
     ]
    },
    {
     "data": {
      "text/plain": [
       "0       49.0\n",
       "4       45.0\n",
       "6       72.0\n",
       "8       81.0\n",
       "11      45.0\n",
       "        ... \n",
       "4991    92.0\n",
       "4994    75.0\n",
       "4995    40.0\n",
       "4998    49.0\n",
       "4999    83.0\n",
       "Name: Income, Length: 2523, dtype: float64"
      ]
     },
     "execution_count": 259,
     "metadata": {},
     "output_type": "execute_result"
    }
   ],
   "source": [
    "q1 = bank[\"Income\"].quantile(.25)\n",
    "q3 = bank[\"Income\"].quantile(.75)\n",
    "mask = bank['Income'].between(q1, q3, inclusive=True)\n",
    "inc_iqr = bank.loc[mask, 'Income']\n",
    "inc_iqr"
   ]
  },
  {
   "cell_type": "code",
   "execution_count": 227,
   "id": "b5dadb65",
   "metadata": {},
   "outputs": [
    {
     "name": "stderr",
     "output_type": "stream",
     "text": [
      "C:\\Users\\hp\\AppData\\Local\\Temp\\ipykernel_10972\\3113246468.py:3: FutureWarning: Boolean inputs to the `inclusive` argument are deprecated in favour of `both` or `neither`.\n",
      "  mask = bank['CCAvg'].between(q1, q3, inclusive=True)\n"
     ]
    },
    {
     "data": {
      "text/plain": [
       "0       1.6\n",
       "1       1.5\n",
       "2       1.0\n",
       "4       1.0\n",
       "6       1.5\n",
       "       ... \n",
       "4990    2.0\n",
       "4991    1.9\n",
       "4994    2.0\n",
       "4995    1.9\n",
       "4999    0.8\n",
       "Name: CCAvg, Length: 2540, dtype: float64"
      ]
     },
     "execution_count": 227,
     "metadata": {},
     "output_type": "execute_result"
    }
   ],
   "source": [
    "q1 = bank[\"CCAvg\"].quantile(.25)\n",
    "q3 = bank[\"CCAvg\"].quantile(.75)\n",
    "mask = bank['CCAvg'].between(q1, q3, inclusive=True)\n",
    "ccavg_iqr = bank.loc[mask, 'CCAvg']\n",
    "ccavg_iqr"
   ]
  },
  {
   "cell_type": "code",
   "execution_count": 260,
   "id": "8882d613",
   "metadata": {},
   "outputs": [
    {
     "name": "stderr",
     "output_type": "stream",
     "text": [
      "C:\\Users\\hp\\AppData\\Local\\Temp\\ipykernel_10972\\932387134.py:3: FutureWarning: Boolean inputs to the `inclusive` argument are deprecated in favour of `both` or `neither`.\n",
      "  mask = bank['Mortgage'].between(q1, q3, inclusive=True)\n"
     ]
    },
    {
     "data": {
      "text/plain": [
       "0        0.0\n",
       "1        0.0\n",
       "2        0.0\n",
       "3        0.0\n",
       "4        0.0\n",
       "        ... \n",
       "4995     0.0\n",
       "4996    85.0\n",
       "4997     0.0\n",
       "4998     0.0\n",
       "4999     0.0\n",
       "Name: Mortgage, Length: 3758, dtype: float64"
      ]
     },
     "execution_count": 260,
     "metadata": {},
     "output_type": "execute_result"
    }
   ],
   "source": [
    "q1 = bank[\"Mortgage\"].quantile(.25)\n",
    "q3 = bank[\"Mortgage\"].quantile(.75)\n",
    "mask = bank['Mortgage'].between(q1, q3, inclusive=True)\n",
    "mort_iqr = bank.loc[mask, 'Mortgage']\n",
    "mort_iqr"
   ]
  },
  {
   "cell_type": "markdown",
   "id": "3d828d8f",
   "metadata": {},
   "source": [
    "###### 18.Do the higher-income holders spend more on credit  cards?\n"
   ]
  },
  {
   "cell_type": "code",
   "execution_count": 261,
   "id": "b498dd46",
   "metadata": {},
   "outputs": [
    {
     "data": {
      "text/plain": [
       "ID                     2470.344760\n",
       "Age                      44.692458\n",
       "Experience               19.588639\n",
       "Income                  119.112145\n",
       "ZIP Code              93099.567581\n",
       "Family                    2.188051\n",
       "CCAvg                     2.979236\n",
       "Education                 1.707640\n",
       "Mortgage                 75.315377\n",
       "Personal Loan             0.231636\n",
       "Securities Account        0.105289\n",
       "CD Account                0.096964\n",
       "Online                    0.611655\n",
       "CreditCard                0.297747\n",
       "Income_decile             7.421156\n",
       "dtype: float64"
      ]
     },
     "execution_count": 261,
     "metadata": {},
     "output_type": "execute_result"
    }
   ],
   "source": [
    "income_cc = bank[(bank[\"Income\"] > 75)]\n",
    "income_cc.mean()"
   ]
  },
  {
   "cell_type": "code",
   "execution_count": 262,
   "id": "f6600e0e",
   "metadata": {},
   "outputs": [
    {
     "data": {
      "text/plain": [
       "ID                     2513.944349\n",
       "Age                      45.789076\n",
       "Experience               20.465819\n",
       "Income                   41.950876\n",
       "ZIP Code              93188.636551\n",
       "Family                    2.541051\n",
       "CCAvg                     1.209355\n",
       "Education                 1.998969\n",
       "Mortgage                 43.538990\n",
       "Personal Loan             0.002061\n",
       "Securities Account        0.104775\n",
       "CD Account                0.035383\n",
       "Online                    0.588114\n",
       "CreditCard                0.291652\n",
       "Income_decile             2.376503\n",
       "dtype: float64"
      ]
     },
     "execution_count": 262,
     "metadata": {},
     "output_type": "execute_result"
    }
   ],
   "source": [
    "income_cc = bank[(bank[\"Income\"] < 75)]\n",
    "income_cc.mean()"
   ]
  },
  {
   "cell_type": "markdown",
   "id": "573273db",
   "metadata": {},
   "source": [
    "###### Explanation"
   ]
  },
  {
   "cell_type": "code",
   "execution_count": null,
   "id": "bb6d4028",
   "metadata": {},
   "outputs": [],
   "source": [
    "Thus,the expenditure on credit cards says the \"CCAvg\" field. Here the comparison is between the CCAvg and the Income.\n",
    "The mean value of Income is 73.7742. So, I have taken approximately as 75.\n",
    "The CCAvg value when the Income is > 75 is  2.979236 and The CCAvg value when the Income is < 75 is 1.209355.\n",
    "Yes, the CCAvg value is higher for the higher-income holders."
   ]
  },
  {
   "cell_type": "markdown",
   "id": "d85a4985",
   "metadata": {},
   "source": [
    "###### 19. Do customers using bank internet facilities paid higher?"
   ]
  },
  {
   "cell_type": "code",
   "execution_count": 263,
   "id": "cb544e1a",
   "metadata": {},
   "outputs": [
    {
     "data": {
      "text/html": [
       "<div>\n",
       "<style scoped>\n",
       "    .dataframe tbody tr th:only-of-type {\n",
       "        vertical-align: middle;\n",
       "    }\n",
       "\n",
       "    .dataframe tbody tr th {\n",
       "        vertical-align: top;\n",
       "    }\n",
       "\n",
       "    .dataframe thead th {\n",
       "        text-align: right;\n",
       "    }\n",
       "</style>\n",
       "<table border=\"1\" class=\"dataframe\">\n",
       "  <thead>\n",
       "    <tr style=\"text-align: right;\">\n",
       "      <th></th>\n",
       "      <th>ID</th>\n",
       "      <th>Age</th>\n",
       "      <th>Experience</th>\n",
       "      <th>Income</th>\n",
       "      <th>ZIP Code</th>\n",
       "      <th>Family</th>\n",
       "      <th>CCAvg</th>\n",
       "      <th>Education</th>\n",
       "      <th>Mortgage</th>\n",
       "      <th>Personal Loan</th>\n",
       "      <th>Securities Account</th>\n",
       "      <th>CD Account</th>\n",
       "      <th>Online</th>\n",
       "      <th>CreditCard</th>\n",
       "      <th>Income_decile</th>\n",
       "    </tr>\n",
       "  </thead>\n",
       "  <tbody>\n",
       "    <tr>\n",
       "      <th>3896</th>\n",
       "      <td>3897.0</td>\n",
       "      <td>48.0</td>\n",
       "      <td>24.0</td>\n",
       "      <td>224.0</td>\n",
       "      <td>93940.0</td>\n",
       "      <td>2.0</td>\n",
       "      <td>6.666667</td>\n",
       "      <td>1.0</td>\n",
       "      <td>0.0</td>\n",
       "      <td>0.0</td>\n",
       "      <td>0.0</td>\n",
       "      <td>1.0</td>\n",
       "      <td>1.0</td>\n",
       "      <td>1.0</td>\n",
       "      <td>9</td>\n",
       "    </tr>\n",
       "    <tr>\n",
       "      <th>4993</th>\n",
       "      <td>4994.0</td>\n",
       "      <td>45.0</td>\n",
       "      <td>21.0</td>\n",
       "      <td>218.0</td>\n",
       "      <td>91801.0</td>\n",
       "      <td>2.0</td>\n",
       "      <td>6.666667</td>\n",
       "      <td>1.0</td>\n",
       "      <td>0.0</td>\n",
       "      <td>0.0</td>\n",
       "      <td>0.0</td>\n",
       "      <td>0.0</td>\n",
       "      <td>1.0</td>\n",
       "      <td>0.0</td>\n",
       "      <td>9</td>\n",
       "    </tr>\n",
       "    <tr>\n",
       "      <th>2988</th>\n",
       "      <td>2989.0</td>\n",
       "      <td>46.0</td>\n",
       "      <td>21.0</td>\n",
       "      <td>205.0</td>\n",
       "      <td>95762.0</td>\n",
       "      <td>2.0</td>\n",
       "      <td>8.800000</td>\n",
       "      <td>1.0</td>\n",
       "      <td>181.0</td>\n",
       "      <td>0.0</td>\n",
       "      <td>1.0</td>\n",
       "      <td>0.0</td>\n",
       "      <td>1.0</td>\n",
       "      <td>0.0</td>\n",
       "      <td>9</td>\n",
       "    </tr>\n",
       "    <tr>\n",
       "      <th>2278</th>\n",
       "      <td>2279.0</td>\n",
       "      <td>30.0</td>\n",
       "      <td>4.0</td>\n",
       "      <td>204.0</td>\n",
       "      <td>91107.0</td>\n",
       "      <td>2.0</td>\n",
       "      <td>4.500000</td>\n",
       "      <td>1.0</td>\n",
       "      <td>0.0</td>\n",
       "      <td>0.0</td>\n",
       "      <td>0.0</td>\n",
       "      <td>0.0</td>\n",
       "      <td>1.0</td>\n",
       "      <td>0.0</td>\n",
       "      <td>9</td>\n",
       "    </tr>\n",
       "    <tr>\n",
       "      <th>677</th>\n",
       "      <td>678.0</td>\n",
       "      <td>46.0</td>\n",
       "      <td>21.0</td>\n",
       "      <td>204.0</td>\n",
       "      <td>92780.0</td>\n",
       "      <td>2.0</td>\n",
       "      <td>2.800000</td>\n",
       "      <td>1.0</td>\n",
       "      <td>0.0</td>\n",
       "      <td>0.0</td>\n",
       "      <td>0.0</td>\n",
       "      <td>0.0</td>\n",
       "      <td>1.0</td>\n",
       "      <td>0.0</td>\n",
       "      <td>9</td>\n",
       "    </tr>\n",
       "    <tr>\n",
       "      <th>...</th>\n",
       "      <td>...</td>\n",
       "      <td>...</td>\n",
       "      <td>...</td>\n",
       "      <td>...</td>\n",
       "      <td>...</td>\n",
       "      <td>...</td>\n",
       "      <td>...</td>\n",
       "      <td>...</td>\n",
       "      <td>...</td>\n",
       "      <td>...</td>\n",
       "      <td>...</td>\n",
       "      <td>...</td>\n",
       "      <td>...</td>\n",
       "      <td>...</td>\n",
       "      <td>...</td>\n",
       "    </tr>\n",
       "    <tr>\n",
       "      <th>1720</th>\n",
       "      <td>1721.0</td>\n",
       "      <td>52.0</td>\n",
       "      <td>28.0</td>\n",
       "      <td>8.0</td>\n",
       "      <td>95060.0</td>\n",
       "      <td>1.0</td>\n",
       "      <td>0.300000</td>\n",
       "      <td>1.0</td>\n",
       "      <td>0.0</td>\n",
       "      <td>0.0</td>\n",
       "      <td>0.0</td>\n",
       "      <td>0.0</td>\n",
       "      <td>1.0</td>\n",
       "      <td>0.0</td>\n",
       "      <td>0</td>\n",
       "    </tr>\n",
       "    <tr>\n",
       "      <th>291</th>\n",
       "      <td>292.0</td>\n",
       "      <td>43.0</td>\n",
       "      <td>16.0</td>\n",
       "      <td>8.0</td>\n",
       "      <td>90089.0</td>\n",
       "      <td>3.0</td>\n",
       "      <td>0.666667</td>\n",
       "      <td>2.0</td>\n",
       "      <td>88.0</td>\n",
       "      <td>0.0</td>\n",
       "      <td>0.0</td>\n",
       "      <td>0.0</td>\n",
       "      <td>1.0</td>\n",
       "      <td>0.0</td>\n",
       "      <td>0</td>\n",
       "    </tr>\n",
       "    <tr>\n",
       "      <th>1472</th>\n",
       "      <td>1473.0</td>\n",
       "      <td>34.0</td>\n",
       "      <td>8.0</td>\n",
       "      <td>8.0</td>\n",
       "      <td>94710.0</td>\n",
       "      <td>3.0</td>\n",
       "      <td>0.100000</td>\n",
       "      <td>2.0</td>\n",
       "      <td>83.0</td>\n",
       "      <td>0.0</td>\n",
       "      <td>0.0</td>\n",
       "      <td>0.0</td>\n",
       "      <td>1.0</td>\n",
       "      <td>0.0</td>\n",
       "      <td>0</td>\n",
       "    </tr>\n",
       "    <tr>\n",
       "      <th>4094</th>\n",
       "      <td>4095.0</td>\n",
       "      <td>53.0</td>\n",
       "      <td>23.0</td>\n",
       "      <td>8.0</td>\n",
       "      <td>95616.0</td>\n",
       "      <td>4.0</td>\n",
       "      <td>0.400000</td>\n",
       "      <td>3.0</td>\n",
       "      <td>0.0</td>\n",
       "      <td>0.0</td>\n",
       "      <td>1.0</td>\n",
       "      <td>0.0</td>\n",
       "      <td>1.0</td>\n",
       "      <td>0.0</td>\n",
       "      <td>0</td>\n",
       "    </tr>\n",
       "    <tr>\n",
       "      <th>939</th>\n",
       "      <td>940.0</td>\n",
       "      <td>56.0</td>\n",
       "      <td>32.0</td>\n",
       "      <td>8.0</td>\n",
       "      <td>93943.0</td>\n",
       "      <td>2.0</td>\n",
       "      <td>0.300000</td>\n",
       "      <td>1.0</td>\n",
       "      <td>0.0</td>\n",
       "      <td>0.0</td>\n",
       "      <td>0.0</td>\n",
       "      <td>0.0</td>\n",
       "      <td>1.0</td>\n",
       "      <td>1.0</td>\n",
       "      <td>0</td>\n",
       "    </tr>\n",
       "  </tbody>\n",
       "</table>\n",
       "<p>2984 rows × 15 columns</p>\n",
       "</div>"
      ],
      "text/plain": [
       "          ID   Age  Experience  Income  ZIP Code  Family     CCAvg  Education  \\\n",
       "3896  3897.0  48.0        24.0   224.0   93940.0     2.0  6.666667        1.0   \n",
       "4993  4994.0  45.0        21.0   218.0   91801.0     2.0  6.666667        1.0   \n",
       "2988  2989.0  46.0        21.0   205.0   95762.0     2.0  8.800000        1.0   \n",
       "2278  2279.0  30.0         4.0   204.0   91107.0     2.0  4.500000        1.0   \n",
       "677    678.0  46.0        21.0   204.0   92780.0     2.0  2.800000        1.0   \n",
       "...      ...   ...         ...     ...       ...     ...       ...        ...   \n",
       "1720  1721.0  52.0        28.0     8.0   95060.0     1.0  0.300000        1.0   \n",
       "291    292.0  43.0        16.0     8.0   90089.0     3.0  0.666667        2.0   \n",
       "1472  1473.0  34.0         8.0     8.0   94710.0     3.0  0.100000        2.0   \n",
       "4094  4095.0  53.0        23.0     8.0   95616.0     4.0  0.400000        3.0   \n",
       "939    940.0  56.0        32.0     8.0   93943.0     2.0  0.300000        1.0   \n",
       "\n",
       "      Mortgage  Personal Loan  Securities Account  CD Account  Online  \\\n",
       "3896       0.0            0.0                 0.0         1.0     1.0   \n",
       "4993       0.0            0.0                 0.0         0.0     1.0   \n",
       "2988     181.0            0.0                 1.0         0.0     1.0   \n",
       "2278       0.0            0.0                 0.0         0.0     1.0   \n",
       "677        0.0            0.0                 0.0         0.0     1.0   \n",
       "...        ...            ...                 ...         ...     ...   \n",
       "1720       0.0            0.0                 0.0         0.0     1.0   \n",
       "291       88.0            0.0                 0.0         0.0     1.0   \n",
       "1472      83.0            0.0                 0.0         0.0     1.0   \n",
       "4094       0.0            0.0                 1.0         0.0     1.0   \n",
       "939        0.0            0.0                 0.0         0.0     1.0   \n",
       "\n",
       "      CreditCard  Income_decile  \n",
       "3896         1.0              9  \n",
       "4993         0.0              9  \n",
       "2988         0.0              9  \n",
       "2278         0.0              9  \n",
       "677          0.0              9  \n",
       "...          ...            ...  \n",
       "1720         0.0              0  \n",
       "291          0.0              0  \n",
       "1472         0.0              0  \n",
       "4094         0.0              0  \n",
       "939          1.0              0  \n",
       "\n",
       "[2984 rows x 15 columns]"
      ]
     },
     "execution_count": 263,
     "metadata": {},
     "output_type": "execute_result"
    }
   ],
   "source": [
    "data = bank[bank[\"Online\"] == 1.0]\n",
    "data\n",
    "data.sort_values('Income', ascending=False)"
   ]
  },
  {
   "cell_type": "markdown",
   "id": "87af8f64",
   "metadata": {},
   "source": [
    "###### 20.Calculate the Z score of the ‘income’ variable."
   ]
  },
  {
   "cell_type": "code",
   "execution_count": 264,
   "id": "7ac2c60f",
   "metadata": {
    "scrolled": true
   },
   "outputs": [
    {
     "data": {
      "text/plain": [
       "0      -0.538175\n",
       "1      -0.864023\n",
       "2      -1.363657\n",
       "3       0.569708\n",
       "4      -0.625068\n",
       "          ...   \n",
       "4995   -0.733684\n",
       "4996   -1.276764\n",
       "4997   -1.081255\n",
       "4998   -0.538175\n",
       "4999    0.200414\n",
       "Name: Income, Length: 5000, dtype: float64"
      ]
     },
     "execution_count": 264,
     "metadata": {},
     "output_type": "execute_result"
    }
   ],
   "source": [
    "bank_z = (bank.Income-bank.Income.mean())/bank.Income.std()\n",
    "bank_z\n"
   ]
  },
  {
   "cell_type": "markdown",
   "id": "04c3490c",
   "metadata": {},
   "source": [
    "#### Section 1"
   ]
  },
  {
   "cell_type": "markdown",
   "id": "5bfc4b92",
   "metadata": {},
   "source": [
    "##### 1. The average selling price of a food item in the restaurant is Rs 250.00, and the standard deviation of the price is Rs 47.00. The median value is an indication of the central value of the data and is close to the mean of Rs 202.00. If you have to be a customer of this shop will you be a regular customer?\n"
   ]
  },
  {
   "cell_type": "markdown",
   "id": "2995074a",
   "metadata": {},
   "source": [
    "###### Solutions \n",
    "\n",
    "Mean = 250\n",
    "SD = 47\n",
    "median = 202.(close to mean)\n",
    "Here the mean is higher than the median but is little closer value. Thus the distributions are negatively skewed, \n",
    "the more values are concentrated on the right side (tail) of the distribution graph while the left tail of the \n",
    "distribution graph is longer.\n",
    "\n",
    "The median is close to mean but still lower.So, the distribution is between negatively skewed and symmetrical, but still the\n",
    "distributions are negatively skewed.\n",
    "\n",
    "Generally negative skewness is not good.\n",
    "Thus the average selling price of one food item is Rs.250 which not a affordable price for a me to get it in a regular\n",
    "basis.Thus with this price, I will not be a regular customer to this shop but will visit the shop occasionally if the factors like\n",
    "taste and cleanliness are at a good priority."
   ]
  },
  {
   "cell_type": "markdown",
   "id": "ca4d86ed",
   "metadata": {},
   "source": [
    "##### 2. In a residential locality, the average size of the house is 2224 square feet, with a standard deviation of 248 sq feet which indicates that the distribution of size is fairly the same across the data and the median value of the house is 2220 square feet. Does the locality have any bigger/smaller-sized houses?"
   ]
  },
  {
   "cell_type": "markdown",
   "id": "ca8dd1f0",
   "metadata": {},
   "source": [
    "###### Solutions \n",
    "\n",
    "mean = 2224sq.ft\n",
    "SD = 248 sq.ft [distribution of size is fairly the same across the data]\n",
    "median = 2220sq.ft\n",
    "\n",
    "diff = mean - median = 4sq.ft which is very close to the symmetrical distribution\n",
    "1 sq.ft = 929.03 cm\n",
    "2224 sq.ft = 2066164 cm ~ 5 cent, which means a very large sized house.\n",
    "The distribution is fair and the locality has a very bigger sized houses.   "
   ]
  },
  {
   "cell_type": "markdown",
   "id": "60da09dc",
   "metadata": {},
   "source": [
    "##### 3. You want to invest money in buying a house. Now you have the data belonging to locality X and locality Y. Some of the house prices in locality X are 2.00 L,10.00 L, 8.00 L, and 12.00 L and the prices belonging to Y are 2.5 L, 9.50 L, 8.15 L, and 12.50 L. Now you have to take a statistical measure to decide which locality will be best for the investment.\n"
   ]
  },
  {
   "cell_type": "markdown",
   "id": "682f6fb9",
   "metadata": {},
   "source": [
    "###### Solutions \n",
    "\n",
    "X = [2.00,10.00,8.00,12.00]\n",
    "Y = [2.5,9.50,8.15,12.50]\n",
    "mean_x = 8.00\n",
    "mean_y = 8.1625\n",
    "The mean of y is greater than mean of x. Thus the better investment for the future will be the locality Y."
   ]
  },
  {
   "cell_type": "markdown",
   "id": "1955910e",
   "metadata": {},
   "source": [
    "##### 4. During the survey, the ages of 80 patients infected by COVID and admitted to one of the city hospitals were recorded and the collected data is represented in the less than cumulative frequency distribution table.\n",
    "\n",
    "##### Age (in yrs.)  No. of Patients\n",
    "##### 5 - 15             6\n",
    "##### 15 - 25            11\n",
    "##### 25 - 35            21\n",
    "##### 35 - 45            23\n",
    "##### 45 - 55            14\n",
    "##### 55 - 65            5\n",
    "##### a. Which class interval has the highest frequency?\n",
    "##### b. Which age was affected the least?\n",
    "##### c. How many patients of age 45 years and above were admitted?\n",
    "##### d. Which is the modal class interval in the above dataset\n",
    "##### e. What is the median class interval of age? 40\n"
   ]
  },
  {
   "cell_type": "markdown",
   "id": "7b8675ec",
   "metadata": {},
   "source": [
    "###### Solutions \n",
    "\n",
    "4. a. Which class interval has the highest frequency? 35-45\n",
    "\n",
    "4. b. Which age was affected the least? 55-65\n",
    "\n",
    "4. c. How many patients of age 45 years and above were admitted? 19\n",
    "\n",
    "4. d. Which is the modal class interval in the above dataset? 35-45\n",
    "\n",
    "4. e. What is the median class interval of age? 40.5 which lies between (35-45)\n"
   ]
  },
  {
   "cell_type": "markdown",
   "id": "1688b641",
   "metadata": {},
   "source": [
    "##### 5. Assume you are the trader and you have invested over the years, and you are worried about the average return on investment. What average method you would use to compute the average return for the data given below?\n",
    "\n",
    "##### Year       Return   AssetPrice\n",
    "##### 2015        36%          5000\n",
    "##### 2016       23%          6400\n",
    "##### 2017      -48%        7890\n",
    "##### 2018      -30%        9023\n",
    "##### 2019     15%        4567\n",
    "##### 2020     31%        3890\n"
   ]
  },
  {
   "cell_type": "markdown",
   "id": "fd1034ff",
   "metadata": {},
   "source": [
    "###### Solutions \n",
    "The mean of the asset price would be 6,128.33 and the average of the return is 0.045.\n",
    "Mean is the average method to compute the average return for the data."
   ]
  },
  {
   "cell_type": "markdown",
   "id": "0ade21cb",
   "metadata": {},
   "source": [
    "##### 6. Suppose you have been told to measure all the heights of the male on the earth. What would be your strategy for the measure?"
   ]
  },
  {
   "cell_type": "markdown",
   "id": "2def90dc",
   "metadata": {},
   "source": [
    "###### Solutions \n",
    "\n",
    "Assuming am a part of a location on India inspecific Bangalore, randomly getting a height of 100 members and \n",
    "taking an average on those heights would be my stratergy.\n",
    "There may be few male above the average and below the average, I would consider them as \"outliers\"."
   ]
  },
  {
   "cell_type": "markdown",
   "id": "39350b2c",
   "metadata": {},
   "source": [
    "##### 7. Calculate the z score of the following numbers:  X = [4.5,6.2,7.3,9.1,10.4,11]"
   ]
  },
  {
   "cell_type": "markdown",
   "id": "5636f32f",
   "metadata": {},
   "source": [
    "###### Solutions \n",
    "\n",
    "Num = np.array([4.5,6.2,7.3,9.1,10.4,11])\n",
    "num_mean = np.mean(Num)\n",
    "sd = np.std(Num)\n",
    "Num = np.array([4.5,6.2,7.3,9.1,10.4,11])\n",
    "for i in Num:\n",
    "    z_score=(i-num_mean)/sd\n",
    "    print('z score is' ,z_score)\n",
    "\n"
   ]
  }
 ],
 "metadata": {
  "kernelspec": {
   "display_name": "Python 3 (ipykernel)",
   "language": "python",
   "name": "python3"
  },
  "language_info": {
   "codemirror_mode": {
    "name": "ipython",
    "version": 3
   },
   "file_extension": ".py",
   "mimetype": "text/x-python",
   "name": "python",
   "nbconvert_exporter": "python",
   "pygments_lexer": "ipython3",
   "version": "3.9.12"
  }
 },
 "nbformat": 4,
 "nbformat_minor": 5
}
