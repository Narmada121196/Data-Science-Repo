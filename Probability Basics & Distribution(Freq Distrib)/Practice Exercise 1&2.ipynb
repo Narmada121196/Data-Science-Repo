{
 "cells": [
  {
   "cell_type": "markdown",
   "id": "d7c0c47b",
   "metadata": {},
   "source": [
    "## Practice Exercise 1"
   ]
  },
  {
   "cell_type": "code",
   "execution_count": null,
   "id": "7ee7be17",
   "metadata": {},
   "outputs": [],
   "source": [
    "##1. Blood group of 200 people is provided as follows\n",
    "##Blood  Group People\n",
    "##  A       50\n",
    "##  B       65\n",
    "##  O       70\n",
    "##  AB      15\n",
    "##If you pick a person from this set at random what is the probability that their blood type is O?\n",
    "Answer::\n",
    "        O -- > 70\n",
    "        Total --> 200\n",
    "        prob of 'O' blood type --> 70/200 -->0.35\n",
    "  "
   ]
  },
  {
   "cell_type": "code",
   "execution_count": null,
   "id": "de9ca464",
   "metadata": {},
   "outputs": [],
   "source": [
    "#2. On tossing a fair coin twice, we want to observe the number of heads. Define the sample \n",
    "#space, Random Variable (X), Rx and PMF Px.\n",
    "\n",
    "coin tossed twice -- > {HH,HT,TH,TT}\n",
    "sample space -->{HH,HT,TH,TT}\n",
    "Random experiment/Random variable(X) --> To observe no.of heads on tossing a fair coin twice\n",
    "Rx = {0,1,2}\n",
    "x is the discrete random variable\n",
    "Px(x=0) ==  {TT} -->1/4\n",
    "Px(x=1) ==  {HT,TH} --> 2/4\n",
    "Px(x=2) ==  {HH}--> 1/4\n"
   ]
  },
  {
   "cell_type": "code",
   "execution_count": 3,
   "id": "79d868a4",
   "metadata": {},
   "outputs": [],
   "source": [
    "import pandas as pd\n",
    "import numpy as np\n",
    "import matplotlib.pyplot as plt"
   ]
  },
  {
   "cell_type": "code",
   "execution_count": 48,
   "id": "6002f4bd",
   "metadata": {},
   "outputs": [
    {
     "data": {
      "text/plain": [
       "Text(0.5, 1.0, 'PMF\\xa0of\\xa0Heads\\xa0in\\xa0tossing\\xa0a\\xa0fair\\xa0coin\\xa0two\\xa0times')"
      ]
     },
     "execution_count": 48,
     "metadata": {},
     "output_type": "execute_result"
    },
    {
     "data": {
      "image/png": "[encoded data removed]",
      "text/plain": [
       "<Figure size 432x288 with 1 Axes>"
      ]
     },
     "metadata": {
      "needs_background": "light"
     },
     "output_type": "display_data"
    }
   ],
   "source": [
    "##3. Plot the above PMF as a histogram using Python’s matplotlib\n",
    "pmf = {'0': 0.25,'1':0.5,'2':0.25}\n",
    "plt.bar(pmf.keys(),pmf.values())\n",
    "plt.xlabel(\"Rx\")\n",
    "plt.ylabel(\"Values based on Rx\")\n",
    "plt.title(\"PMF of Heads in tossing a fair coin two times\")"
   ]
  },
  {
   "cell_type": "code",
   "execution_count": 5,
   "id": "aeafa7c0",
   "metadata": {},
   "outputs": [
    {
     "data": {
      "text/html": [
       "<div>\n",
       "<style scoped>\n",
       "    .dataframe tbody tr th:only-of-type {\n",
       "        vertical-align: middle;\n",
       "    }\n",
       "\n",
       "    .dataframe tbody tr th {\n",
       "        vertical-align: top;\n",
       "    }\n",
       "\n",
       "    .dataframe thead th {\n",
       "        text-align: right;\n",
       "    }\n",
       "</style>\n",
       "<table border=\"1\" class=\"dataframe\">\n",
       "  <thead>\n",
       "    <tr style=\"text-align: right;\">\n",
       "      <th></th>\n",
       "      <th>CustomerID</th>\n",
       "      <th>Gender</th>\n",
       "      <th>Age</th>\n",
       "      <th>Annual Income (k$)</th>\n",
       "      <th>Spending Score (1-100)</th>\n",
       "    </tr>\n",
       "  </thead>\n",
       "  <tbody>\n",
       "    <tr>\n",
       "      <th>0</th>\n",
       "      <td>1</td>\n",
       "      <td>Male</td>\n",
       "      <td>19</td>\n",
       "      <td>15</td>\n",
       "      <td>39</td>\n",
       "    </tr>\n",
       "    <tr>\n",
       "      <th>1</th>\n",
       "      <td>2</td>\n",
       "      <td>Male</td>\n",
       "      <td>21</td>\n",
       "      <td>15</td>\n",
       "      <td>81</td>\n",
       "    </tr>\n",
       "    <tr>\n",
       "      <th>2</th>\n",
       "      <td>3</td>\n",
       "      <td>Female</td>\n",
       "      <td>20</td>\n",
       "      <td>16</td>\n",
       "      <td>6</td>\n",
       "    </tr>\n",
       "    <tr>\n",
       "      <th>3</th>\n",
       "      <td>4</td>\n",
       "      <td>Female</td>\n",
       "      <td>23</td>\n",
       "      <td>16</td>\n",
       "      <td>77</td>\n",
       "    </tr>\n",
       "    <tr>\n",
       "      <th>4</th>\n",
       "      <td>5</td>\n",
       "      <td>Female</td>\n",
       "      <td>31</td>\n",
       "      <td>17</td>\n",
       "      <td>40</td>\n",
       "    </tr>\n",
       "    <tr>\n",
       "      <th>...</th>\n",
       "      <td>...</td>\n",
       "      <td>...</td>\n",
       "      <td>...</td>\n",
       "      <td>...</td>\n",
       "      <td>...</td>\n",
       "    </tr>\n",
       "    <tr>\n",
       "      <th>195</th>\n",
       "      <td>196</td>\n",
       "      <td>Female</td>\n",
       "      <td>35</td>\n",
       "      <td>120</td>\n",
       "      <td>79</td>\n",
       "    </tr>\n",
       "    <tr>\n",
       "      <th>196</th>\n",
       "      <td>197</td>\n",
       "      <td>Female</td>\n",
       "      <td>45</td>\n",
       "      <td>126</td>\n",
       "      <td>28</td>\n",
       "    </tr>\n",
       "    <tr>\n",
       "      <th>197</th>\n",
       "      <td>198</td>\n",
       "      <td>Male</td>\n",
       "      <td>32</td>\n",
       "      <td>126</td>\n",
       "      <td>74</td>\n",
       "    </tr>\n",
       "    <tr>\n",
       "      <th>198</th>\n",
       "      <td>199</td>\n",
       "      <td>Male</td>\n",
       "      <td>32</td>\n",
       "      <td>137</td>\n",
       "      <td>18</td>\n",
       "    </tr>\n",
       "    <tr>\n",
       "      <th>199</th>\n",
       "      <td>200</td>\n",
       "      <td>Male</td>\n",
       "      <td>30</td>\n",
       "      <td>137</td>\n",
       "      <td>83</td>\n",
       "    </tr>\n",
       "  </tbody>\n",
       "</table>\n",
       "<p>200 rows × 5 columns</p>\n",
       "</div>"
      ],
      "text/plain": [
       "     CustomerID  Gender  Age  Annual Income (k$)  Spending Score (1-100)\n",
       "0             1    Male   19                  15                      39\n",
       "1             2    Male   21                  15                      81\n",
       "2             3  Female   20                  16                       6\n",
       "3             4  Female   23                  16                      77\n",
       "4             5  Female   31                  17                      40\n",
       "..          ...     ...  ...                 ...                     ...\n",
       "195         196  Female   35                 120                      79\n",
       "196         197  Female   45                 126                      28\n",
       "197         198    Male   32                 126                      74\n",
       "198         199    Male   32                 137                      18\n",
       "199         200    Male   30                 137                      83\n",
       "\n",
       "[200 rows x 5 columns]"
      ]
     },
     "execution_count": 5,
     "metadata": {},
     "output_type": "execute_result"
    }
   ],
   "source": [
    "#4. Consider the Mall_Customers dataset with the following description, visiting a mall:\n",
    "#CustomerID: Customer id of the customer\n",
    "#Gender: Gender (Male or Female)\n",
    "#Age: Age of the customer\n",
    "#Annual_Income: Annual Income of customers in K$ (eg 1 = 1000$)\n",
    "#Spending Score: Spending score of the customer (how much the customer can spend)\n",
    "\n",
    "mall = pd.read_csv(\"Mall_Customers.csv\")\n",
    "\n",
    "mall"
   ]
  },
  {
   "cell_type": "code",
   "execution_count": 51,
   "id": "2d8aae78",
   "metadata": {},
   "outputs": [
    {
     "data": {
      "text/plain": [
       "18    1\n",
       "68    1\n",
       "99    1\n",
       "85    1\n",
       "23    1\n",
       "     ..\n",
       "35    5\n",
       "73    6\n",
       "46    6\n",
       "55    7\n",
       "42    8\n",
       "Name: Spending Score (1-100), Length: 84, dtype: int64"
      ]
     },
     "execution_count": 51,
     "metadata": {},
     "output_type": "execute_result"
    }
   ],
   "source": [
    "mall[\"Spending Score (1-100)\"].value_counts().sort_values()"
   ]
  },
  {
   "cell_type": "markdown",
   "id": "203d3513",
   "metadata": {},
   "source": [
    "Answer the following questions:\n",
    "a) What features are suitable for PMF and for PDF. Justify.\n",
    "b) Group the customers with high, medium, and low spending score. (You can choose \n",
    "the range for each category).\n",
    "c) Is the percentage of male ‘High’ spenders more than female ‘High’ spenders.\n",
    "d) Create a frequency table to find percentage of Low and High spenders.\n",
    "e) You want to attract mall customers for the offers and buy more from you? What \n",
    "would you do."
   ]
  },
  {
   "cell_type": "markdown",
   "id": "e7f3487a",
   "metadata": {},
   "source": [
    "#a) What features are suitable for PMF and for PDF. Justify.\n",
    "PMF : Gender, \n",
    "PDF :Annual Income (k$),Spending Score (1-100)\n",
    "    \n",
    "    "
   ]
  },
  {
   "cell_type": "code",
   "execution_count": 8,
   "id": "1f8523e5",
   "metadata": {},
   "outputs": [
    {
     "data": {
      "text/plain": [
       "1"
      ]
     },
     "execution_count": 8,
     "metadata": {},
     "output_type": "execute_result"
    }
   ],
   "source": [
    "mall[\"Spending Score (1-100)\"].min()"
   ]
  },
  {
   "cell_type": "code",
   "execution_count": 9,
   "id": "06aa4d54",
   "metadata": {},
   "outputs": [
    {
     "data": {
      "text/html": [
       "<div>\n",
       "<style scoped>\n",
       "    .dataframe tbody tr th:only-of-type {\n",
       "        vertical-align: middle;\n",
       "    }\n",
       "\n",
       "    .dataframe tbody tr th {\n",
       "        vertical-align: top;\n",
       "    }\n",
       "\n",
       "    .dataframe thead th {\n",
       "        text-align: right;\n",
       "    }\n",
       "</style>\n",
       "<table border=\"1\" class=\"dataframe\">\n",
       "  <thead>\n",
       "    <tr style=\"text-align: right;\">\n",
       "      <th></th>\n",
       "      <th>CustomerID</th>\n",
       "      <th>Gender</th>\n",
       "      <th>Age</th>\n",
       "      <th>Annual Income (k$)</th>\n",
       "      <th>Spending Score (1-100)</th>\n",
       "      <th>SpendPower</th>\n",
       "    </tr>\n",
       "  </thead>\n",
       "  <tbody>\n",
       "    <tr>\n",
       "      <th>0</th>\n",
       "      <td>1</td>\n",
       "      <td>Male</td>\n",
       "      <td>19</td>\n",
       "      <td>15</td>\n",
       "      <td>39</td>\n",
       "      <td>medium</td>\n",
       "    </tr>\n",
       "    <tr>\n",
       "      <th>1</th>\n",
       "      <td>2</td>\n",
       "      <td>Male</td>\n",
       "      <td>21</td>\n",
       "      <td>15</td>\n",
       "      <td>81</td>\n",
       "      <td>high</td>\n",
       "    </tr>\n",
       "    <tr>\n",
       "      <th>2</th>\n",
       "      <td>3</td>\n",
       "      <td>Female</td>\n",
       "      <td>20</td>\n",
       "      <td>16</td>\n",
       "      <td>6</td>\n",
       "      <td>Low</td>\n",
       "    </tr>\n",
       "    <tr>\n",
       "      <th>3</th>\n",
       "      <td>4</td>\n",
       "      <td>Female</td>\n",
       "      <td>23</td>\n",
       "      <td>16</td>\n",
       "      <td>77</td>\n",
       "      <td>high</td>\n",
       "    </tr>\n",
       "    <tr>\n",
       "      <th>4</th>\n",
       "      <td>5</td>\n",
       "      <td>Female</td>\n",
       "      <td>31</td>\n",
       "      <td>17</td>\n",
       "      <td>40</td>\n",
       "      <td>medium</td>\n",
       "    </tr>\n",
       "    <tr>\n",
       "      <th>...</th>\n",
       "      <td>...</td>\n",
       "      <td>...</td>\n",
       "      <td>...</td>\n",
       "      <td>...</td>\n",
       "      <td>...</td>\n",
       "      <td>...</td>\n",
       "    </tr>\n",
       "    <tr>\n",
       "      <th>195</th>\n",
       "      <td>196</td>\n",
       "      <td>Female</td>\n",
       "      <td>35</td>\n",
       "      <td>120</td>\n",
       "      <td>79</td>\n",
       "      <td>high</td>\n",
       "    </tr>\n",
       "    <tr>\n",
       "      <th>196</th>\n",
       "      <td>197</td>\n",
       "      <td>Female</td>\n",
       "      <td>45</td>\n",
       "      <td>126</td>\n",
       "      <td>28</td>\n",
       "      <td>Low</td>\n",
       "    </tr>\n",
       "    <tr>\n",
       "      <th>197</th>\n",
       "      <td>198</td>\n",
       "      <td>Male</td>\n",
       "      <td>32</td>\n",
       "      <td>126</td>\n",
       "      <td>74</td>\n",
       "      <td>high</td>\n",
       "    </tr>\n",
       "    <tr>\n",
       "      <th>198</th>\n",
       "      <td>199</td>\n",
       "      <td>Male</td>\n",
       "      <td>32</td>\n",
       "      <td>137</td>\n",
       "      <td>18</td>\n",
       "      <td>Low</td>\n",
       "    </tr>\n",
       "    <tr>\n",
       "      <th>199</th>\n",
       "      <td>200</td>\n",
       "      <td>Male</td>\n",
       "      <td>30</td>\n",
       "      <td>137</td>\n",
       "      <td>83</td>\n",
       "      <td>high</td>\n",
       "    </tr>\n",
       "  </tbody>\n",
       "</table>\n",
       "<p>200 rows × 6 columns</p>\n",
       "</div>"
      ],
      "text/plain": [
       "     CustomerID  Gender  Age  Annual Income (k$)  Spending Score (1-100)  \\\n",
       "0             1    Male   19                  15                      39   \n",
       "1             2    Male   21                  15                      81   \n",
       "2             3  Female   20                  16                       6   \n",
       "3             4  Female   23                  16                      77   \n",
       "4             5  Female   31                  17                      40   \n",
       "..          ...     ...  ...                 ...                     ...   \n",
       "195         196  Female   35                 120                      79   \n",
       "196         197  Female   45                 126                      28   \n",
       "197         198    Male   32                 126                      74   \n",
       "198         199    Male   32                 137                      18   \n",
       "199         200    Male   30                 137                      83   \n",
       "\n",
       "    SpendPower  \n",
       "0       medium  \n",
       "1         high  \n",
       "2          Low  \n",
       "3         high  \n",
       "4       medium  \n",
       "..         ...  \n",
       "195       high  \n",
       "196        Low  \n",
       "197       high  \n",
       "198        Low  \n",
       "199       high  \n",
       "\n",
       "[200 rows x 6 columns]"
      ]
     },
     "execution_count": 9,
     "metadata": {},
     "output_type": "execute_result"
    }
   ],
   "source": [
    "### b) Group the customers with high, medium, and low spending score. (You can choose \n",
    "## the range for each category).\n",
    "\n",
    "mall[\"SpendPower\"] = pd.cut(x=mall[\"Spending Score (1-100)\"], bins = [0,33,66,100],\n",
    "                          labels = [\"Low\",\"medium\",\"high\"])\n",
    "mall"
   ]
  },
  {
   "cell_type": "code",
   "execution_count": 10,
   "id": "1f079f6a",
   "metadata": {},
   "outputs": [
    {
     "data": {
      "text/html": [
       "<div>\n",
       "<style scoped>\n",
       "    .dataframe tbody tr th:only-of-type {\n",
       "        vertical-align: middle;\n",
       "    }\n",
       "\n",
       "    .dataframe tbody tr th {\n",
       "        vertical-align: top;\n",
       "    }\n",
       "\n",
       "    .dataframe thead th {\n",
       "        text-align: right;\n",
       "    }\n",
       "</style>\n",
       "<table border=\"1\" class=\"dataframe\">\n",
       "  <thead>\n",
       "    <tr style=\"text-align: right;\">\n",
       "      <th>SpendPower</th>\n",
       "      <th>Low</th>\n",
       "      <th>medium</th>\n",
       "      <th>high</th>\n",
       "    </tr>\n",
       "    <tr>\n",
       "      <th>Gender</th>\n",
       "      <th></th>\n",
       "      <th></th>\n",
       "      <th></th>\n",
       "    </tr>\n",
       "  </thead>\n",
       "  <tbody>\n",
       "    <tr>\n",
       "      <th>Female</th>\n",
       "      <td>25</td>\n",
       "      <td>54</td>\n",
       "      <td>33</td>\n",
       "    </tr>\n",
       "    <tr>\n",
       "      <th>Male</th>\n",
       "      <td>24</td>\n",
       "      <td>40</td>\n",
       "      <td>24</td>\n",
       "    </tr>\n",
       "  </tbody>\n",
       "</table>\n",
       "</div>"
      ],
      "text/plain": [
       "SpendPower  Low  medium  high\n",
       "Gender                       \n",
       "Female       25      54    33\n",
       "Male         24      40    24"
      ]
     },
     "execution_count": 10,
     "metadata": {},
     "output_type": "execute_result"
    }
   ],
   "source": [
    "##c) Is the percentage of male ‘High’ spenders more than female ‘High’ spenders.\n",
    "high_spend = pd.crosstab(mall[\"Gender\"],\n",
    "                columns = mall[\"SpendPower\"])\n",
    "high_spend"
   ]
  },
  {
   "cell_type": "code",
   "execution_count": 11,
   "id": "1bc9c380",
   "metadata": {},
   "outputs": [
    {
     "data": {
      "text/html": [
       "<div>\n",
       "<style scoped>\n",
       "    .dataframe tbody tr th:only-of-type {\n",
       "        vertical-align: middle;\n",
       "    }\n",
       "\n",
       "    .dataframe tbody tr th {\n",
       "        vertical-align: top;\n",
       "    }\n",
       "\n",
       "    .dataframe thead th {\n",
       "        text-align: right;\n",
       "    }\n",
       "</style>\n",
       "<table border=\"1\" class=\"dataframe\">\n",
       "  <thead>\n",
       "    <tr style=\"text-align: right;\">\n",
       "      <th></th>\n",
       "      <th>col_0</th>\n",
       "      <th>counts</th>\n",
       "    </tr>\n",
       "    <tr>\n",
       "      <th>Gender</th>\n",
       "      <th>SpendPower</th>\n",
       "      <th></th>\n",
       "    </tr>\n",
       "  </thead>\n",
       "  <tbody>\n",
       "    <tr>\n",
       "      <th rowspan=\"3\" valign=\"top\">Female</th>\n",
       "      <th>Low</th>\n",
       "      <td>25</td>\n",
       "    </tr>\n",
       "    <tr>\n",
       "      <th>medium</th>\n",
       "      <td>54</td>\n",
       "    </tr>\n",
       "    <tr>\n",
       "      <th>high</th>\n",
       "      <td>33</td>\n",
       "    </tr>\n",
       "    <tr>\n",
       "      <th rowspan=\"3\" valign=\"top\">Male</th>\n",
       "      <th>Low</th>\n",
       "      <td>24</td>\n",
       "    </tr>\n",
       "    <tr>\n",
       "      <th>medium</th>\n",
       "      <td>40</td>\n",
       "    </tr>\n",
       "    <tr>\n",
       "      <th>high</th>\n",
       "      <td>24</td>\n",
       "    </tr>\n",
       "  </tbody>\n",
       "</table>\n",
       "</div>"
      ],
      "text/plain": [
       "col_0              counts\n",
       "Gender SpendPower        \n",
       "Female Low             25\n",
       "       medium          54\n",
       "       high            33\n",
       "Male   Low             24\n",
       "       medium          40\n",
       "       high            24"
      ]
     },
     "execution_count": 11,
     "metadata": {},
     "output_type": "execute_result"
    }
   ],
   "source": [
    "high_spend = pd.crosstab(index = [mall[\"Gender\"], mall[\"SpendPower\"]],\n",
    "                columns =\"counts\")\n",
    "high_spend"
   ]
  },
  {
   "cell_type": "code",
   "execution_count": 12,
   "id": "0be0dbb6",
   "metadata": {},
   "outputs": [
    {
     "data": {
      "text/plain": [
       "200"
      ]
     },
     "execution_count": 12,
     "metadata": {},
     "output_type": "execute_result"
    }
   ],
   "source": [
    "high_spend['counts'].sum()"
   ]
  },
  {
   "cell_type": "code",
   "execution_count": 13,
   "id": "b8f9f171",
   "metadata": {},
   "outputs": [
    {
     "data": {
      "text/plain": [
       "(200,)"
      ]
     },
     "execution_count": 13,
     "metadata": {},
     "output_type": "execute_result"
    }
   ],
   "source": [
    "mall['SpendPower'].shape"
   ]
  },
  {
   "cell_type": "code",
   "execution_count": 14,
   "id": "a9bff42c",
   "metadata": {},
   "outputs": [
    {
     "data": {
      "text/plain": [
       "col_0\n",
       "counts    24\n",
       "Name: (Male, high), dtype: int64"
      ]
     },
     "execution_count": 14,
     "metadata": {},
     "output_type": "execute_result"
    }
   ],
   "source": [
    "high_spend.loc['Male','high']"
   ]
  },
  {
   "cell_type": "code",
   "execution_count": 15,
   "id": "88792956",
   "metadata": {},
   "outputs": [
    {
     "data": {
      "text/plain": [
       "col_0\n",
       "counts    33\n",
       "Name: (Female, high), dtype: int64"
      ]
     },
     "execution_count": 15,
     "metadata": {},
     "output_type": "execute_result"
    }
   ],
   "source": [
    "high_spend.loc['Female','high']"
   ]
  },
  {
   "cell_type": "code",
   "execution_count": 16,
   "id": "cff9c4b0",
   "metadata": {},
   "outputs": [
    {
     "data": {
      "text/plain": [
       "col_0\n",
       "counts    12.0\n",
       "Name: (Male, high), dtype: float64"
      ]
     },
     "execution_count": 16,
     "metadata": {},
     "output_type": "execute_result"
    }
   ],
   "source": [
    "male = (high_spend.loc['Male','high']/high_spend['counts'].sum()*100)\n",
    "male\n",
    "\n"
   ]
  },
  {
   "cell_type": "code",
   "execution_count": 17,
   "id": "40387b9b",
   "metadata": {},
   "outputs": [
    {
     "data": {
      "text/plain": [
       "col_0\n",
       "counts    16.5\n",
       "Name: (Female, high), dtype: float64"
      ]
     },
     "execution_count": 17,
     "metadata": {},
     "output_type": "execute_result"
    }
   ],
   "source": [
    "female = (high_spend.loc['Female','high']/mall['SpendPower'].shape[0] * 100)\n",
    "female"
   ]
  },
  {
   "cell_type": "markdown",
   "id": "91c41027",
   "metadata": {},
   "source": [
    "Female spends more than male"
   ]
  },
  {
   "cell_type": "code",
   "execution_count": null,
   "id": "4ff8b3a0",
   "metadata": {},
   "outputs": [],
   "source": [
    "#d) Create a frequency table to find percentage of Low and High spenders.\n",
    "\n",
    "Tot_low = high_spend[\"Low\"].sum()\n",
    "Tot_high = high_spend[\"high\"].sum()\n",
    "Tot_med = high_spend[\"medium\"].sum() \n",
    "\n",
    "print(Tot_low)\n",
    "print(Tot_high)\n",
    "print(Tot_med)\n",
    "\n"
   ]
  },
  {
   "cell_type": "code",
   "execution_count": null,
   "id": "d96fcc89",
   "metadata": {},
   "outputs": [],
   "source": [
    "Total = Tot_low+Tot_high+Tot_med\n",
    "Total\n"
   ]
  },
  {
   "cell_type": "code",
   "execution_count": null,
   "id": "10f57ba6",
   "metadata": {},
   "outputs": [],
   "source": [
    "high_perc = (Tot_high/Total*100)\n",
    "high_perc"
   ]
  },
  {
   "cell_type": "code",
   "execution_count": null,
   "id": "f622309c",
   "metadata": {},
   "outputs": [],
   "source": [
    "low_perc = (Tot_low/Total*100)\n",
    "low_perc"
   ]
  },
  {
   "cell_type": "code",
   "execution_count": null,
   "id": "165ae8fb",
   "metadata": {},
   "outputs": [],
   "source": [
    "mall['SpendPower'].value_counts()"
   ]
  },
  {
   "cell_type": "code",
   "execution_count": null,
   "id": "ae06ce35",
   "metadata": {},
   "outputs": [],
   "source": [
    "x=mall['SpendPower'].value_counts()/mall.shape[0]\n",
    "\n",
    "x"
   ]
  },
  {
   "cell_type": "code",
   "execution_count": null,
   "id": "7f18b63d",
   "metadata": {},
   "outputs": [],
   "source": [
    "mall.shape[0]"
   ]
  },
  {
   "cell_type": "code",
   "execution_count": null,
   "id": "11efc27e",
   "metadata": {
    "scrolled": true
   },
   "outputs": [],
   "source": [
    "plt.bar(x.index,x.values)\n",
    "plt.xlabel(\"Spending Power\")\n",
    "plt.ylabel(\"Frequency (Fx)\")"
   ]
  },
  {
   "cell_type": "code",
   "execution_count": null,
   "id": "fd196bec",
   "metadata": {},
   "outputs": [],
   "source": []
  },
  {
   "cell_type": "code",
   "execution_count": null,
   "id": "bd13f880",
   "metadata": {},
   "outputs": [],
   "source": [
    "##e) You want to attract mall customers for the offers and buy more from you? What \n",
    "##would you do.\n",
    "Medium"
   ]
  },
  {
   "cell_type": "markdown",
   "id": "80456f27",
   "metadata": {},
   "source": [
    "## Practice Exercise 2"
   ]
  },
  {
   "cell_type": "code",
   "execution_count": null,
   "id": "da01cdd4",
   "metadata": {},
   "outputs": [],
   "source": [
    "1. Suppose an individual plays a gambling game where it is possible to lose $1.00, break \n",
    "even, win $3.00, or win $10.00 each time she plays. The probability distribution for each \n",
    "outcome is provided by the following table:\n",
    "Outcome    -$1.00  $0.00  $3.00  $5.00\n",
    "Probability  0.30   0.40   0.20   0.10\n",
    "How many $ can the player to expect to win or lose in this game?"
   ]
  },
  {
   "cell_type": "code",
   "execution_count": 20,
   "id": "8c27060a",
   "metadata": {},
   "outputs": [
    {
     "data": {
      "text/plain": [
       "0.8"
      ]
     },
     "execution_count": 20,
     "metadata": {},
     "output_type": "execute_result"
    }
   ],
   "source": [
    "(-1*0.30)+(0*0.40)+(3*0.20)+(5*0.10)"
   ]
  },
  {
   "cell_type": "markdown",
   "id": "bc9e29a8",
   "metadata": {},
   "source": [
    "the player is expected to win 80 cents playing the game"
   ]
  },
  {
   "cell_type": "code",
   "execution_count": null,
   "id": "2b728b2b",
   "metadata": {},
   "outputs": [],
   "source": [
    "#2. A Random Variable X can take only two values, 4 and 5 such that P(4) = 0.32 and P(5) = \n",
    "#0.47. Determine the Variance of X."
   ]
  },
  {
   "cell_type": "code",
   "execution_count": null,
   "id": "3b68ec05",
   "metadata": {},
   "outputs": [],
   "source": [
    "P(4) = 0.32 \n",
    "P(5) = 0.47\n",
    "##variance formula:: E[X^2]-(E[X])^2"
   ]
  },
  {
   "cell_type": "code",
   "execution_count": 22,
   "id": "27a5e81f",
   "metadata": {},
   "outputs": [
    {
     "data": {
      "text/plain": [
       "3.63"
      ]
     },
     "execution_count": 22,
     "metadata": {},
     "output_type": "execute_result"
    }
   ],
   "source": [
    "mean = (4*0.32)+(5*0.47)\n",
    "mean"
   ]
  },
  {
   "cell_type": "code",
   "execution_count": null,
   "id": "a329cad3",
   "metadata": {},
   "outputs": [],
   "source": [
    "#Variance: ∑x2* P(x)\n",
    "#Var(X) = ∑x2*P(x) − μ2\n",
    "#Expected Value: μ = E(X) = ∑x * P(x)"
   ]
  },
  {
   "cell_type": "code",
   "execution_count": 23,
   "id": "d3f935f1",
   "metadata": {},
   "outputs": [
    {
     "data": {
      "text/plain": [
       "3.693100000000001"
      ]
     },
     "execution_count": 23,
     "metadata": {},
     "output_type": "execute_result"
    }
   ],
   "source": [
    "variance = ((4*4)*0.32)+((5*5)*0.47) - (mean*mean)\n",
    "variance"
   ]
  },
  {
   "cell_type": "code",
   "execution_count": null,
   "id": "e9b2db44",
   "metadata": {},
   "outputs": [],
   "source": [
    "3. Consider a project with the following information.\n",
    "Project A:\n",
    "    Amount                Probability\n",
    "71000 (loss of 71000)       0.2\n",
    "\n",
    "0 (no profit no loss)       0.65\n",
    "\n",
    "143000 (gain of             0.15\n",
    "143000)\n",
    "                    \n",
    "What is the expected RoI?"
   ]
  },
  {
   "cell_type": "code",
   "execution_count": 24,
   "id": "273b0b73",
   "metadata": {},
   "outputs": [
    {
     "data": {
      "text/plain": [
       "7250.0"
      ]
     },
     "execution_count": 24,
     "metadata": {},
     "output_type": "execute_result"
    }
   ],
   "source": [
    "a = (-71000*0.2) + (0*0.65) + (143000*0.15)\n",
    "a"
   ]
  },
  {
   "cell_type": "code",
   "execution_count": null,
   "id": "447a0180",
   "metadata": {},
   "outputs": [],
   "source": [
    "4. Consider the following tables for infants born with SIRDS \n",
    "(* did not survive)\n",
    "Calculate the E[Weight] for infants who survived and the ones who did not."
   ]
  },
  {
   "cell_type": "code",
   "execution_count": null,
   "id": "27776ada",
   "metadata": {},
   "outputs": [],
   "source": [
    "## 5. Consider the Mall_Customers dataset with the following description, visiting a mall:\n",
    "## CustomerID: Customer id of the customer\n",
    "## Gender: Gender (Male or Female)\n",
    "## Age: Age of the customer\n",
    "## Annual_Income: Annual Income of customers in K$ (eg 1 = 1000$)\n",
    "## Spending Score: Spending score of the customer (how much the customer can spend)\n",
    "## Answer the following questions:\n",
    "## a) Demonstrate the CDF of Spending Score.\n",
    "## b) Plot the ECDF of Age and Annual Income. What are your interpretations.\n",
    "## c) Compare the Spending Power of Customers with respect to their incomes."
   ]
  },
  {
   "cell_type": "code",
   "execution_count": 25,
   "id": "739da602",
   "metadata": {},
   "outputs": [
    {
     "data": {
      "text/html": [
       "<div>\n",
       "<style scoped>\n",
       "    .dataframe tbody tr th:only-of-type {\n",
       "        vertical-align: middle;\n",
       "    }\n",
       "\n",
       "    .dataframe tbody tr th {\n",
       "        vertical-align: top;\n",
       "    }\n",
       "\n",
       "    .dataframe thead th {\n",
       "        text-align: right;\n",
       "    }\n",
       "</style>\n",
       "<table border=\"1\" class=\"dataframe\">\n",
       "  <thead>\n",
       "    <tr style=\"text-align: right;\">\n",
       "      <th></th>\n",
       "      <th>CustomerID</th>\n",
       "      <th>Gender</th>\n",
       "      <th>Age</th>\n",
       "      <th>Annual Income (k$)</th>\n",
       "      <th>Spending Score (1-100)</th>\n",
       "      <th>SpendPower</th>\n",
       "    </tr>\n",
       "  </thead>\n",
       "  <tbody>\n",
       "    <tr>\n",
       "      <th>0</th>\n",
       "      <td>1</td>\n",
       "      <td>Male</td>\n",
       "      <td>19</td>\n",
       "      <td>15</td>\n",
       "      <td>39</td>\n",
       "      <td>medium</td>\n",
       "    </tr>\n",
       "    <tr>\n",
       "      <th>1</th>\n",
       "      <td>2</td>\n",
       "      <td>Male</td>\n",
       "      <td>21</td>\n",
       "      <td>15</td>\n",
       "      <td>81</td>\n",
       "      <td>high</td>\n",
       "    </tr>\n",
       "    <tr>\n",
       "      <th>2</th>\n",
       "      <td>3</td>\n",
       "      <td>Female</td>\n",
       "      <td>20</td>\n",
       "      <td>16</td>\n",
       "      <td>6</td>\n",
       "      <td>Low</td>\n",
       "    </tr>\n",
       "    <tr>\n",
       "      <th>3</th>\n",
       "      <td>4</td>\n",
       "      <td>Female</td>\n",
       "      <td>23</td>\n",
       "      <td>16</td>\n",
       "      <td>77</td>\n",
       "      <td>high</td>\n",
       "    </tr>\n",
       "    <tr>\n",
       "      <th>4</th>\n",
       "      <td>5</td>\n",
       "      <td>Female</td>\n",
       "      <td>31</td>\n",
       "      <td>17</td>\n",
       "      <td>40</td>\n",
       "      <td>medium</td>\n",
       "    </tr>\n",
       "    <tr>\n",
       "      <th>...</th>\n",
       "      <td>...</td>\n",
       "      <td>...</td>\n",
       "      <td>...</td>\n",
       "      <td>...</td>\n",
       "      <td>...</td>\n",
       "      <td>...</td>\n",
       "    </tr>\n",
       "    <tr>\n",
       "      <th>195</th>\n",
       "      <td>196</td>\n",
       "      <td>Female</td>\n",
       "      <td>35</td>\n",
       "      <td>120</td>\n",
       "      <td>79</td>\n",
       "      <td>high</td>\n",
       "    </tr>\n",
       "    <tr>\n",
       "      <th>196</th>\n",
       "      <td>197</td>\n",
       "      <td>Female</td>\n",
       "      <td>45</td>\n",
       "      <td>126</td>\n",
       "      <td>28</td>\n",
       "      <td>Low</td>\n",
       "    </tr>\n",
       "    <tr>\n",
       "      <th>197</th>\n",
       "      <td>198</td>\n",
       "      <td>Male</td>\n",
       "      <td>32</td>\n",
       "      <td>126</td>\n",
       "      <td>74</td>\n",
       "      <td>high</td>\n",
       "    </tr>\n",
       "    <tr>\n",
       "      <th>198</th>\n",
       "      <td>199</td>\n",
       "      <td>Male</td>\n",
       "      <td>32</td>\n",
       "      <td>137</td>\n",
       "      <td>18</td>\n",
       "      <td>Low</td>\n",
       "    </tr>\n",
       "    <tr>\n",
       "      <th>199</th>\n",
       "      <td>200</td>\n",
       "      <td>Male</td>\n",
       "      <td>30</td>\n",
       "      <td>137</td>\n",
       "      <td>83</td>\n",
       "      <td>high</td>\n",
       "    </tr>\n",
       "  </tbody>\n",
       "</table>\n",
       "<p>200 rows × 6 columns</p>\n",
       "</div>"
      ],
      "text/plain": [
       "     CustomerID  Gender  Age  Annual Income (k$)  Spending Score (1-100)  \\\n",
       "0             1    Male   19                  15                      39   \n",
       "1             2    Male   21                  15                      81   \n",
       "2             3  Female   20                  16                       6   \n",
       "3             4  Female   23                  16                      77   \n",
       "4             5  Female   31                  17                      40   \n",
       "..          ...     ...  ...                 ...                     ...   \n",
       "195         196  Female   35                 120                      79   \n",
       "196         197  Female   45                 126                      28   \n",
       "197         198    Male   32                 126                      74   \n",
       "198         199    Male   32                 137                      18   \n",
       "199         200    Male   30                 137                      83   \n",
       "\n",
       "    SpendPower  \n",
       "0       medium  \n",
       "1         high  \n",
       "2          Low  \n",
       "3         high  \n",
       "4       medium  \n",
       "..         ...  \n",
       "195       high  \n",
       "196        Low  \n",
       "197       high  \n",
       "198        Low  \n",
       "199       high  \n",
       "\n",
       "[200 rows x 6 columns]"
      ]
     },
     "execution_count": 25,
     "metadata": {},
     "output_type": "execute_result"
    }
   ],
   "source": [
    "mall\n"
   ]
  },
  {
   "cell_type": "code",
   "execution_count": 26,
   "id": "93aadf31",
   "metadata": {},
   "outputs": [
    {
     "data": {
      "text/plain": [
       "medium    0.470\n",
       "high      0.285\n",
       "Low       0.245\n",
       "Name: SpendPower, dtype: float64"
      ]
     },
     "execution_count": 26,
     "metadata": {},
     "output_type": "execute_result"
    }
   ],
   "source": [
    "## a) Demonstrate the CDF of Spending Score.\n",
    "cdf_spend = mall[\"SpendPower\"].value_counts(normalize = True)\n",
    "cdf_spend"
   ]
  },
  {
   "cell_type": "code",
   "execution_count": 27,
   "id": "3e719455",
   "metadata": {},
   "outputs": [
    {
     "data": {
      "text/plain": [
       "Low       0.245\n",
       "high      0.285\n",
       "medium    0.470\n",
       "Name: SpendPower, dtype: float64"
      ]
     },
     "execution_count": 27,
     "metadata": {},
     "output_type": "execute_result"
    }
   ],
   "source": [
    "sort = cdf_spend.sort_values()\n",
    "sort"
   ]
  },
  {
   "cell_type": "code",
   "execution_count": 28,
   "id": "b5e0d866",
   "metadata": {},
   "outputs": [
    {
     "data": {
      "text/plain": [
       "Low       0.245\n",
       "high      0.530\n",
       "medium    1.000\n",
       "Name: SpendPower, dtype: float64"
      ]
     },
     "execution_count": 28,
     "metadata": {},
     "output_type": "execute_result"
    }
   ],
   "source": [
    "cdf = sort.cumsum()\n",
    "cdf"
   ]
  },
  {
   "cell_type": "code",
   "execution_count": 46,
   "id": "afeecd47",
   "metadata": {},
   "outputs": [
    {
     "data": {
      "text/plain": [
       "CategoricalIndex(['Low', 'high', 'medium'], categories=['Low', 'medium', 'high'], ordered=True, dtype='category')"
      ]
     },
     "execution_count": 46,
     "metadata": {},
     "output_type": "execute_result"
    }
   ],
   "source": [
    "cdf.index"
   ]
  },
  {
   "cell_type": "code",
   "execution_count": 49,
   "id": "524003a0",
   "metadata": {},
   "outputs": [
    {
     "data": {
      "text/plain": [
       "array([0.245, 0.53 , 1.   ])"
      ]
     },
     "execution_count": 49,
     "metadata": {},
     "output_type": "execute_result"
    }
   ],
   "source": [
    "cdf.values"
   ]
  },
  {
   "cell_type": "code",
   "execution_count": 29,
   "id": "c598da3a",
   "metadata": {},
   "outputs": [],
   "source": [
    "import seaborn as sns"
   ]
  },
  {
   "cell_type": "code",
   "execution_count": 30,
   "id": "2a0970f4",
   "metadata": {},
   "outputs": [
    {
     "data": {
      "text/plain": [
       "<AxesSubplot:xlabel='SpendPower', ylabel='Proportion'>"
      ]
     },
     "execution_count": 30,
     "metadata": {},
     "output_type": "execute_result"
    },
    {
     "data": {
      "image/png": "[encoded data removed]",
      "text/plain": [
       "<Figure size 432x288 with 1 Axes>"
      ]
     },
     "metadata": {
      "needs_background": "light"
     },
     "output_type": "display_data"
    }
   ],
   "source": [
    "sns.ecdfplot(data = mall,x=mall[\"SpendPower\"])"
   ]
  },
  {
   "cell_type": "code",
   "execution_count": null,
   "id": "3530b94a",
   "metadata": {},
   "outputs": [],
   "source": []
  },
  {
   "cell_type": "code",
   "execution_count": null,
   "id": "650b7a43",
   "metadata": {},
   "outputs": [],
   "source": []
  },
  {
   "cell_type": "code",
   "execution_count": 38,
   "id": "c401f604",
   "metadata": {},
   "outputs": [
    {
     "data": {
      "text/plain": [
       "<AxesSubplot:xlabel='Annual Income (k$)', ylabel='Proportion'>"
      ]
     },
     "execution_count": 38,
     "metadata": {},
     "output_type": "execute_result"
    },
    {
     "data": {
      "image/png": "[encoded data removed]",
      "text/plain": [
       "<Figure size 432x288 with 1 Axes>"
      ]
     },
     "metadata": {
      "needs_background": "light"
     },
     "output_type": "display_data"
    }
   ],
   "source": [
    "## b) Plot the ECDF of Age and Annual Income. What are your interpretations.\n",
    "sns.ecdfplot(hue=\"Age\", x = \"Annual Income (k$)\", data = mall)"
   ]
  },
  {
   "cell_type": "code",
   "execution_count": 39,
   "id": "05c1c03a",
   "metadata": {},
   "outputs": [
    {
     "data": {
      "text/plain": [
       "<AxesSubplot:xlabel='Annual Income (k$)', ylabel='Proportion'>"
      ]
     },
     "execution_count": 39,
     "metadata": {},
     "output_type": "execute_result"
    },
    {
     "data": {
      "image/png": "[encoded data removed]",
      "text/plain": [
       "<Figure size 432x288 with 1 Axes>"
      ]
     },
     "metadata": {
      "needs_background": "light"
     },
     "output_type": "display_data"
    }
   ],
   "source": [
    "## c) Compare the Spending Power of Customers with respect to their incomes.\n",
    "sns.ecdfplot(hue=\"SpendPower\", x = \"Annual Income (k$)\", data = mall)"
   ]
  },
  {
   "cell_type": "code",
   "execution_count": null,
   "id": "71f83161",
   "metadata": {},
   "outputs": [],
   "source": []
  }
 ],
 "metadata": {
  "kernelspec": {
   "display_name": "Python 3 (ipykernel)",
   "language": "python",
   "name": "python3"
  },
  "language_info": {
   "codemirror_mode": {
    "name": "ipython",
    "version": 3
   },
   "file_extension": ".py",
   "mimetype": "text/x-python",
   "name": "python",
   "nbconvert_exporter": "python",
   "pygments_lexer": "ipython3",
   "version": "3.9.12"
  }
 },
 "nbformat": 4,
 "nbformat_minor": 5
}
