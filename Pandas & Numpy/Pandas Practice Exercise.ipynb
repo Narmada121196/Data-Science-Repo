{
 "cells": [
  {
   "cell_type": "code",
   "execution_count": null,
   "id": "f269e2bb",
   "metadata": {},
   "outputs": [],
   "source": [
    "investigation team, and you were asked to get specific data from a database created by the exploration team. Take a look at the dataset and provide your solution to the queries. \n",
    "\n",
    "Dataset: Given the titanic dataset here.\n",
    "1.Load the data using pandas.\n",
    "2.Perform basic Exploratory Data Analysis (EDA).\n",
    "3.Prepare a chart or visualize the analysis.\n",
    "\n",
    "Problems: Using Pandas answer the given questions.\n",
    "1.How many people survived?\n",
    "2.How many men survived? \n",
    "3.What was the average age of the passengers? \n",
    "4.What was the average age of the passengers who survived? \n",
    "5.Who paid more fare, men or women?\n",
    "6.How many passengers were above the age of 50?\n",
    "7.Among the people who survived, what was the percentage of men?"
   ]
  },
  {
   "cell_type": "code",
   "execution_count": 5,
   "id": "e892ba77",
   "metadata": {},
   "outputs": [],
   "source": [
    "import pandas as pd"
   ]
  },
  {
   "cell_type": "code",
   "execution_count": 6,
   "id": "f18b7a4b",
   "metadata": {},
   "outputs": [],
   "source": [
    "titanic = pd.read_csv(\"titanic.csv\")"
   ]
  },
  {
   "cell_type": "code",
   "execution_count": 7,
   "id": "9146334f",
   "metadata": {},
   "outputs": [
    {
     "data": {
      "text/html": [
       "<div>\n",
       "<style scoped>\n",
       "    .dataframe tbody tr th:only-of-type {\n",
       "        vertical-align: middle;\n",
       "    }\n",
       "\n",
       "    .dataframe tbody tr th {\n",
       "        vertical-align: top;\n",
       "    }\n",
       "\n",
       "    .dataframe thead th {\n",
       "        text-align: right;\n",
       "    }\n",
       "</style>\n",
       "<table border=\"1\" class=\"dataframe\">\n",
       "  <thead>\n",
       "    <tr style=\"text-align: right;\">\n",
       "      <th></th>\n",
       "      <th>PassengerId</th>\n",
       "      <th>Survived</th>\n",
       "      <th>Pclass</th>\n",
       "      <th>Name</th>\n",
       "      <th>Sex</th>\n",
       "      <th>Age</th>\n",
       "      <th>SibSp</th>\n",
       "      <th>Parch</th>\n",
       "      <th>Ticket</th>\n",
       "      <th>Fare</th>\n",
       "      <th>Cabin</th>\n",
       "      <th>Embarked</th>\n",
       "    </tr>\n",
       "  </thead>\n",
       "  <tbody>\n",
       "    <tr>\n",
       "      <th>0</th>\n",
       "      <td>1</td>\n",
       "      <td>0</td>\n",
       "      <td>3</td>\n",
       "      <td>Braund, Mr. Owen Harris</td>\n",
       "      <td>male</td>\n",
       "      <td>22.0</td>\n",
       "      <td>1</td>\n",
       "      <td>0</td>\n",
       "      <td>A/5 21171</td>\n",
       "      <td>7.2500</td>\n",
       "      <td>NaN</td>\n",
       "      <td>S</td>\n",
       "    </tr>\n",
       "    <tr>\n",
       "      <th>1</th>\n",
       "      <td>2</td>\n",
       "      <td>1</td>\n",
       "      <td>1</td>\n",
       "      <td>Cumings, Mrs. John Bradley (Florence Briggs Th...</td>\n",
       "      <td>female</td>\n",
       "      <td>38.0</td>\n",
       "      <td>1</td>\n",
       "      <td>0</td>\n",
       "      <td>PC 17599</td>\n",
       "      <td>71.2833</td>\n",
       "      <td>C85</td>\n",
       "      <td>C</td>\n",
       "    </tr>\n",
       "    <tr>\n",
       "      <th>2</th>\n",
       "      <td>3</td>\n",
       "      <td>1</td>\n",
       "      <td>3</td>\n",
       "      <td>Heikkinen, Miss. Laina</td>\n",
       "      <td>female</td>\n",
       "      <td>26.0</td>\n",
       "      <td>0</td>\n",
       "      <td>0</td>\n",
       "      <td>STON/O2. 3101282</td>\n",
       "      <td>7.9250</td>\n",
       "      <td>NaN</td>\n",
       "      <td>S</td>\n",
       "    </tr>\n",
       "    <tr>\n",
       "      <th>3</th>\n",
       "      <td>4</td>\n",
       "      <td>1</td>\n",
       "      <td>1</td>\n",
       "      <td>Futrelle, Mrs. Jacques Heath (Lily May Peel)</td>\n",
       "      <td>female</td>\n",
       "      <td>35.0</td>\n",
       "      <td>1</td>\n",
       "      <td>0</td>\n",
       "      <td>113803</td>\n",
       "      <td>53.1000</td>\n",
       "      <td>C123</td>\n",
       "      <td>S</td>\n",
       "    </tr>\n",
       "    <tr>\n",
       "      <th>4</th>\n",
       "      <td>5</td>\n",
       "      <td>0</td>\n",
       "      <td>3</td>\n",
       "      <td>Allen, Mr. William Henry</td>\n",
       "      <td>male</td>\n",
       "      <td>35.0</td>\n",
       "      <td>0</td>\n",
       "      <td>0</td>\n",
       "      <td>373450</td>\n",
       "      <td>8.0500</td>\n",
       "      <td>NaN</td>\n",
       "      <td>S</td>\n",
       "    </tr>\n",
       "    <tr>\n",
       "      <th>...</th>\n",
       "      <td>...</td>\n",
       "      <td>...</td>\n",
       "      <td>...</td>\n",
       "      <td>...</td>\n",
       "      <td>...</td>\n",
       "      <td>...</td>\n",
       "      <td>...</td>\n",
       "      <td>...</td>\n",
       "      <td>...</td>\n",
       "      <td>...</td>\n",
       "      <td>...</td>\n",
       "      <td>...</td>\n",
       "    </tr>\n",
       "    <tr>\n",
       "      <th>886</th>\n",
       "      <td>887</td>\n",
       "      <td>0</td>\n",
       "      <td>2</td>\n",
       "      <td>Montvila, Rev. Juozas</td>\n",
       "      <td>male</td>\n",
       "      <td>27.0</td>\n",
       "      <td>0</td>\n",
       "      <td>0</td>\n",
       "      <td>211536</td>\n",
       "      <td>13.0000</td>\n",
       "      <td>NaN</td>\n",
       "      <td>S</td>\n",
       "    </tr>\n",
       "    <tr>\n",
       "      <th>887</th>\n",
       "      <td>888</td>\n",
       "      <td>1</td>\n",
       "      <td>1</td>\n",
       "      <td>Graham, Miss. Margaret Edith</td>\n",
       "      <td>female</td>\n",
       "      <td>19.0</td>\n",
       "      <td>0</td>\n",
       "      <td>0</td>\n",
       "      <td>112053</td>\n",
       "      <td>30.0000</td>\n",
       "      <td>B42</td>\n",
       "      <td>S</td>\n",
       "    </tr>\n",
       "    <tr>\n",
       "      <th>888</th>\n",
       "      <td>889</td>\n",
       "      <td>0</td>\n",
       "      <td>3</td>\n",
       "      <td>Johnston, Miss. Catherine Helen \"Carrie\"</td>\n",
       "      <td>female</td>\n",
       "      <td>NaN</td>\n",
       "      <td>1</td>\n",
       "      <td>2</td>\n",
       "      <td>W./C. 6607</td>\n",
       "      <td>23.4500</td>\n",
       "      <td>NaN</td>\n",
       "      <td>S</td>\n",
       "    </tr>\n",
       "    <tr>\n",
       "      <th>889</th>\n",
       "      <td>890</td>\n",
       "      <td>1</td>\n",
       "      <td>1</td>\n",
       "      <td>Behr, Mr. Karl Howell</td>\n",
       "      <td>male</td>\n",
       "      <td>26.0</td>\n",
       "      <td>0</td>\n",
       "      <td>0</td>\n",
       "      <td>111369</td>\n",
       "      <td>30.0000</td>\n",
       "      <td>C148</td>\n",
       "      <td>C</td>\n",
       "    </tr>\n",
       "    <tr>\n",
       "      <th>890</th>\n",
       "      <td>891</td>\n",
       "      <td>0</td>\n",
       "      <td>3</td>\n",
       "      <td>Dooley, Mr. Patrick</td>\n",
       "      <td>male</td>\n",
       "      <td>32.0</td>\n",
       "      <td>0</td>\n",
       "      <td>0</td>\n",
       "      <td>370376</td>\n",
       "      <td>7.7500</td>\n",
       "      <td>NaN</td>\n",
       "      <td>Q</td>\n",
       "    </tr>\n",
       "  </tbody>\n",
       "</table>\n",
       "<p>891 rows × 12 columns</p>\n",
       "</div>"
      ],
      "text/plain": [
       "     PassengerId  Survived  Pclass  \\\n",
       "0              1         0       3   \n",
       "1              2         1       1   \n",
       "2              3         1       3   \n",
       "3              4         1       1   \n",
       "4              5         0       3   \n",
       "..           ...       ...     ...   \n",
       "886          887         0       2   \n",
       "887          888         1       1   \n",
       "888          889         0       3   \n",
       "889          890         1       1   \n",
       "890          891         0       3   \n",
       "\n",
       "                                                  Name     Sex   Age  SibSp  \\\n",
       "0                              Braund, Mr. Owen Harris    male  22.0      1   \n",
       "1    Cumings, Mrs. John Bradley (Florence Briggs Th...  female  38.0      1   \n",
       "2                               Heikkinen, Miss. Laina  female  26.0      0   \n",
       "3         Futrelle, Mrs. Jacques Heath (Lily May Peel)  female  35.0      1   \n",
       "4                             Allen, Mr. William Henry    male  35.0      0   \n",
       "..                                                 ...     ...   ...    ...   \n",
       "886                              Montvila, Rev. Juozas    male  27.0      0   \n",
       "887                       Graham, Miss. Margaret Edith  female  19.0      0   \n",
       "888           Johnston, Miss. Catherine Helen \"Carrie\"  female   NaN      1   \n",
       "889                              Behr, Mr. Karl Howell    male  26.0      0   \n",
       "890                                Dooley, Mr. Patrick    male  32.0      0   \n",
       "\n",
       "     Parch            Ticket     Fare Cabin Embarked  \n",
       "0        0         A/5 21171   7.2500   NaN        S  \n",
       "1        0          PC 17599  71.2833   C85        C  \n",
       "2        0  STON/O2. 3101282   7.9250   NaN        S  \n",
       "3        0            113803  53.1000  C123        S  \n",
       "4        0            373450   8.0500   NaN        S  \n",
       "..     ...               ...      ...   ...      ...  \n",
       "886      0            211536  13.0000   NaN        S  \n",
       "887      0            112053  30.0000   B42        S  \n",
       "888      2        W./C. 6607  23.4500   NaN        S  \n",
       "889      0            111369  30.0000  C148        C  \n",
       "890      0            370376   7.7500   NaN        Q  \n",
       "\n",
       "[891 rows x 12 columns]"
      ]
     },
     "execution_count": 7,
     "metadata": {},
     "output_type": "execute_result"
    }
   ],
   "source": [
    "titanic"
   ]
  },
  {
   "cell_type": "code",
   "execution_count": 22,
   "id": "f324d3a3",
   "metadata": {},
   "outputs": [
    {
     "data": {
      "text/plain": [
       "(342, 12)"
      ]
     },
     "execution_count": 22,
     "metadata": {},
     "output_type": "execute_result"
    }
   ],
   "source": [
    "#How many people survived?\n",
    "titanic[titanic[\"Survived\"]==1].shape"
   ]
  },
  {
   "cell_type": "code",
   "execution_count": 20,
   "id": "bad8a083",
   "metadata": {},
   "outputs": [],
   "source": [
    "titanic.shape?"
   ]
  },
  {
   "cell_type": "code",
   "execution_count": 41,
   "id": "b1c54f53",
   "metadata": {},
   "outputs": [
    {
     "data": {
      "text/plain": [
       "0    549\n",
       "1    342\n",
       "Name: Survived, dtype: int64"
      ]
     },
     "execution_count": 41,
     "metadata": {},
     "output_type": "execute_result"
    }
   ],
   "source": [
    "titanic[(\"Survived\")].value_counts()"
   ]
  },
  {
   "cell_type": "code",
   "execution_count": 24,
   "id": "a37f0c60",
   "metadata": {},
   "outputs": [],
   "source": [
    "titanic.value_counts?"
   ]
  },
  {
   "cell_type": "code",
   "execution_count": 27,
   "id": "86de4d30",
   "metadata": {},
   "outputs": [
    {
     "data": {
      "text/plain": [
       "PassengerId  Survived  Pclass  Name                                          Sex   Age    SibSp  Parch  Ticket             Fare      Cabin        Embarked\n",
       "22           1         2       Beesley, Mr. Lawrence                         male  34.00  0      0      248698             13.0000   D56          S           1\n",
       "573          1         1       Flynn, Mr. John Irwin (\"Irving\")              male  36.00  0      0      PC 17474           26.3875   E25          S           1\n",
       "600          1         1       Duff Gordon, Sir. Cosmo Edmund (\"Mr Morgan\")  male  49.00  1      0      PC 17485           56.9292   A20          C           1\n",
       "622          1         1       Kimball, Mr. Edwin Nelson Jr                  male  42.00  1      0      11753              52.5542   D19          S           1\n",
       "631          1         1       Barkworth, Mr. Algernon Henry Wilson          male  80.00  0      0      27042              30.0000   A23          S           1\n",
       "633          1         1       Stahelin-Maeglin, Dr. Max                     male  32.00  0      0      13214              30.5000   B50          C           1\n",
       "646          1         1       Harper, Mr. Henry Sleeper                     male  48.00  1      0      PC 17572           76.7292   D33          C           1\n",
       "648          1         1       Simonius-Blumer, Col. Oberst Alfons           male  56.00  0      0      13213              35.5000   A26          C           1\n",
       "680          1         1       Cardeza, Mr. Thomas Drake Martinez            male  36.00  0      1      PC 17755           512.3292  B51 B53 B55  C           1\n",
       "682          1         1       Hassab, Mr. Hammad                            male  27.00  0      0      PC 17572           76.7292   D49          C           1\n",
       "691          1         1       Dick, Mr. Albert Adrian                       male  31.00  1      0      17474              57.0000   B20          S           1\n",
       "702          1         1       Silverthorne, Mr. Spencer Victor              male  35.00  0      0      PC 17475           26.2875   E24          S           1\n",
       "708          1         1       Calderhead, Mr. Edward Pennington             male  42.00  0      0      PC 17476           26.2875   E24          S           1\n",
       "713          1         1       Taylor, Mr. Elmer Zebley                      male  48.00  1      0      19996              52.0000   C126         S           1\n",
       "725          1         1       Chambers, Mr. Norman Campbell                 male  27.00  1      0      113806             53.1000   E8           S           1\n",
       "738          1         1       Lesurer, Mr. Gustave J                        male  35.00  0      0      PC 17755           512.3292  B101         C           1\n",
       "752          1         3       Moor, Master. Meier                           male  6.00   0      1      392096             12.4750   E121         S           1\n",
       "803          1         1       Carter, Master. William Thornton II           male  11.00  1      2      113760             120.0000  B96 B98      S           1\n",
       "858          1         1       Daly, Mr. Peter Denis                         male  51.00  0      0      113055             26.5500   E17          S           1\n",
       "588          1         1       Frolicher-Stehli, Mr. Maxmillian              male  60.00  1      1      13567              79.2000   B41          C           1\n",
       "551          1         1       Thayer, Mr. John Borland Jr                   male  17.00  0      2      17421              110.8833  C70          C           1\n",
       "24           1         1       Sloper, Mr. William Thompson                  male  28.00  0      0      113788             35.5000   A6           S           1\n",
       "513          1         1       McGough, Mr. James Robert                     male  36.00  0      0      PC 17473           26.2875   E25          S           1\n",
       "98           1         1       Greenfield, Mr. William Bertram               male  23.00  0      1      PC 17759           63.3583   D10 D12      C           1\n",
       "184          1         2       Becker, Master. Richard F                     male  1.00   2      1      230136             39.0000   F4           S           1\n",
       "194          1         2       Navratil, Master. Michel M                    male  3.00   1      1      230080             26.0000   F2           S           1\n",
       "210          1         1       Blank, Mr. Henry                              male  40.00  0      0      112277             31.0000   A31          C           1\n",
       "225          1         1       Hoyt, Mr. Frederick Maxfield                  male  38.00  1      0      19943              90.0000   C93          S           1\n",
       "249          1         1       Beckwith, Mr. Richard Leonard                 male  37.00  1      1      11751              52.5542   D35          S           1\n",
       "306          1         1       Allison, Master. Hudson Trevor                male  0.92   1      2      113781             151.5500  C22 C26      S           1\n",
       "341          1         2       Navratil, Master. Edmond Roger                male  2.00   1      1      230080             26.0000   F2           S           1\n",
       "371          1         1       Harder, Mr. George Achilles                   male  25.00  1      0      11765              55.4417   E50          C           1\n",
       "391          1         1       Carter, Mr. William Ernest                    male  36.00  1      2      113760             120.0000  B96 B98      S           1\n",
       "430          1         3       Pickard, Mr. Berk (Berk Trembisky)            male  32.00  0      0      SOTON/O.Q. 392078  8.0500    E10          S           1\n",
       "431          1         1       Bjornstrom-Steffansson, Mr. Mauritz Hakan     male  28.00  0      0      110564             26.5500   C52          S           1\n",
       "446          1         1       Dodge, Master. Washington                     male  4.00   0      2      33638              81.8583   A34          S           1\n",
       "450          1         1       Peuchen, Major. Arthur Godfrey                male  52.00  0      0      113786             30.5000   C104         S           1\n",
       "454          1         1       Goldenberg, Mr. Samuel L                      male  49.00  1      0      17453              89.1042   C92          C           1\n",
       "461          1         1       Anderson, Mr. Harry                           male  48.00  0      0      19952              26.5500   E12          S           1\n",
       "485          1         1       Bishop, Mr. Dickinson H                       male  25.00  1      0      11967              91.0792   B49          C           1\n",
       "890          1         1       Behr, Mr. Karl Howell                         male  26.00  0      0      111369             30.0000   C148         C           1\n",
       "dtype: int64"
      ]
     },
     "execution_count": 27,
     "metadata": {},
     "output_type": "execute_result"
    }
   ],
   "source": [
    "#How many men survived?\n",
    "titanic[(titanic[\"Survived\"]==1) & (titanic[\"Sex\"] == \"male\")].value_counts()"
   ]
  },
  {
   "cell_type": "code",
   "execution_count": null,
   "id": "8ceb2aa9",
   "metadata": {},
   "outputs": [],
   "source": [
    "df[df['Sex'] == 'male']['Survived'].value_counts()"
   ]
  },
  {
   "cell_type": "code",
   "execution_count": 34,
   "id": "b89eead5",
   "metadata": {},
   "outputs": [
    {
     "data": {
      "text/plain": [
       "0    468\n",
       "1    109\n",
       "Name: Survived, dtype: int64"
      ]
     },
     "execution_count": 34,
     "metadata": {},
     "output_type": "execute_result"
    }
   ],
   "source": [
    "titanic[titanic[\"Sex\"]==\"male\"][\"Survived\"].value_counts()"
   ]
  },
  {
   "cell_type": "code",
   "execution_count": 19,
   "id": "457db276",
   "metadata": {},
   "outputs": [
    {
     "data": {
      "text/plain": [
       "29.69911764705882"
      ]
     },
     "execution_count": 19,
     "metadata": {},
     "output_type": "execute_result"
    }
   ],
   "source": [
    "#What was the average age of the passengers? \n",
    "titanic[\"Age\"].mean()"
   ]
  },
  {
   "cell_type": "code",
   "execution_count": 39,
   "id": "793b1c23",
   "metadata": {},
   "outputs": [
    {
     "data": {
      "text/plain": [
       "28.343689655172415"
      ]
     },
     "execution_count": 39,
     "metadata": {},
     "output_type": "execute_result"
    }
   ],
   "source": [
    "#What was the average age of the passengers who survived? \n",
    "titanic[titanic[\"Survived\"]==1][\"Age\"].mean()"
   ]
  },
  {
   "cell_type": "code",
   "execution_count": 44,
   "id": "0791ef71",
   "metadata": {},
   "outputs": [
    {
     "data": {
      "text/plain": [
       "Sex\n",
       "female    44.479818\n",
       "male      25.523893\n",
       "Name: Fare, dtype: float64"
      ]
     },
     "execution_count": 44,
     "metadata": {},
     "output_type": "execute_result"
    }
   ],
   "source": [
    "#5.Who paid more fare, men or women?\n",
    "titanic.groupby(\"Sex\")[\"Fare\"].mean()"
   ]
  },
  {
   "cell_type": "code",
   "execution_count": 46,
   "id": "c967df70",
   "metadata": {},
   "outputs": [
    {
     "data": {
      "text/plain": [
       "(64, 12)"
      ]
     },
     "execution_count": 46,
     "metadata": {},
     "output_type": "execute_result"
    }
   ],
   "source": [
    "#6.How many passengers were above the age of 50?\n",
    "titanic[titanic[\"Age\"]> 50].shape"
   ]
  },
  {
   "cell_type": "code",
   "execution_count": 57,
   "id": "47263224",
   "metadata": {},
   "outputs": [
    {
     "data": {
      "text/plain": [
       "Sex\n",
       "female    314\n",
       "male      577\n",
       "Name: Survived, dtype: int64"
      ]
     },
     "execution_count": 57,
     "metadata": {},
     "output_type": "execute_result"
    }
   ],
   "source": [
    "#7.Among the people who survived, what was the percentage of men?\n",
    "titanic.groupby(\"Sex\")[\"Survived\"].count()"
   ]
  },
  {
   "cell_type": "code",
   "execution_count": null,
   "id": "4cd9bb34",
   "metadata": {},
   "outputs": [],
   "source": []
  }
 ],
 "metadata": {
  "kernelspec": {
   "display_name": "Python 3 (ipykernel)",
   "language": "python",
   "name": "python3"
  },
  "language_info": {
   "codemirror_mode": {
    "name": "ipython",
    "version": 3
   },
   "file_extension": ".py",
   "mimetype": "text/x-python",
   "name": "python",
   "nbconvert_exporter": "python",
   "pygments_lexer": "ipython3",
   "version": "3.9.12"
  }
 },
 "nbformat": 4,
 "nbformat_minor": 5
}
